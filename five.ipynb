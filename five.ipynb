{
  "nbformat": 4,
  "nbformat_minor": 0,
  "metadata": {
    "colab": {
      "name": "five.ipynb",
      "version": "0.3.2",
      "provenance": [],
      "collapsed_sections": [],
      "include_colab_link": true
    },
    "kernelspec": {
      "name": "python3",
      "display_name": "Python 3"
    },
    "accelerator": "GPU"
  },
  "cells": [
    {
      "cell_type": "markdown",
      "metadata": {
        "id": "view-in-github",
        "colab_type": "text"
      },
      "source": [
        "<a href=\"https://colab.research.google.com/github/saurav2sengupta/learnML/blob/master/five.ipynb\" target=\"_parent\"><img src=\"https://colab.research.google.com/assets/colab-badge.svg\" alt=\"Open In Colab\"/></a>"
      ]
    },
    {
      "metadata": {
        "id": "BsdkdrpvSfVx",
        "colab_type": "code",
        "colab": {}
      },
      "cell_type": "code",
      "source": [
        "import nltk\n",
        "from nltk import word_tokenize, sent_tokenize\n",
        "from gensim.models import word2vec\n",
        "from sklearn.manifold import TSNE\n",
        "import pandas as pd\n",
        "from bokeh.io import output_notebook\n",
        "from bokeh.plotting import show, figure"
      ],
      "execution_count": 0,
      "outputs": []
    },
    {
      "metadata": {
        "id": "9kfzakA1TnFi",
        "colab_type": "code",
        "colab": {
          "base_uri": "https://localhost:8080/",
          "height": 102
        },
        "outputId": "64829922-d4c7-428c-99eb-3b29247aa20f"
      },
      "cell_type": "code",
      "source": [
        "nltk.download('punkt')\n",
        "nltk.download('gutenberg')"
      ],
      "execution_count": 4,
      "outputs": [
        {
          "output_type": "stream",
          "text": [
            "[nltk_data] Downloading package punkt to /root/nltk_data...\n",
            "[nltk_data]   Unzipping tokenizers/punkt.zip.\n",
            "[nltk_data] Downloading package gutenberg to /root/nltk_data...\n",
            "[nltk_data]   Unzipping corpora/gutenberg.zip.\n"
          ],
          "name": "stdout"
        },
        {
          "output_type": "execute_result",
          "data": {
            "text/plain": [
              "True"
            ]
          },
          "metadata": {
            "tags": []
          },
          "execution_count": 4
        }
      ]
    },
    {
      "metadata": {
        "id": "AJQNE9_yT_Eq",
        "colab_type": "code",
        "colab": {}
      },
      "cell_type": "code",
      "source": [
        "from nltk.corpus import gutenberg"
      ],
      "execution_count": 0,
      "outputs": []
    },
    {
      "metadata": {
        "id": "0e6jDW9DURoz",
        "colab_type": "code",
        "colab": {
          "base_uri": "https://localhost:8080/",
          "height": 34
        },
        "outputId": "aac45b6d-4b81-4233-f00e-c6994f2a680e"
      },
      "cell_type": "code",
      "source": [
        "len(gutenberg.fileids())"
      ],
      "execution_count": 9,
      "outputs": [
        {
          "output_type": "execute_result",
          "data": {
            "text/plain": [
              "18"
            ]
          },
          "metadata": {
            "tags": []
          },
          "execution_count": 9
        }
      ]
    },
    {
      "metadata": {
        "id": "tLBMxIjJU29x",
        "colab_type": "code",
        "colab": {
          "base_uri": "https://localhost:8080/",
          "height": 323
        },
        "outputId": "dc21d305-ff1f-4a1f-9af0-e969745949df"
      },
      "cell_type": "code",
      "source": [
        "gutenberg.fileids()"
      ],
      "execution_count": 10,
      "outputs": [
        {
          "output_type": "execute_result",
          "data": {
            "text/plain": [
              "['austen-emma.txt',\n",
              " 'austen-persuasion.txt',\n",
              " 'austen-sense.txt',\n",
              " 'bible-kjv.txt',\n",
              " 'blake-poems.txt',\n",
              " 'bryant-stories.txt',\n",
              " 'burgess-busterbrown.txt',\n",
              " 'carroll-alice.txt',\n",
              " 'chesterton-ball.txt',\n",
              " 'chesterton-brown.txt',\n",
              " 'chesterton-thursday.txt',\n",
              " 'edgeworth-parents.txt',\n",
              " 'melville-moby_dick.txt',\n",
              " 'milton-paradise.txt',\n",
              " 'shakespeare-caesar.txt',\n",
              " 'shakespeare-hamlet.txt',\n",
              " 'shakespeare-macbeth.txt',\n",
              " 'whitman-leaves.txt']"
            ]
          },
          "metadata": {
            "tags": []
          },
          "execution_count": 10
        }
      ]
    },
    {
      "metadata": {
        "id": "fkJNUzv2U7jS",
        "colab_type": "code",
        "colab": {}
      },
      "cell_type": "code",
      "source": [
        "gberg_sent_tokens = sent_tokenize(gutenberg.raw())"
      ],
      "execution_count": 0,
      "outputs": []
    },
    {
      "metadata": {
        "id": "6dZnJWzzVIwE",
        "colab_type": "code",
        "colab": {
          "base_uri": "https://localhost:8080/",
          "height": 122
        },
        "outputId": "151748f7-3eea-41b8-bed8-c426843a8591"
      },
      "cell_type": "code",
      "source": [
        "gberg_sent_tokens[0:5]"
      ],
      "execution_count": 12,
      "outputs": [
        {
          "output_type": "execute_result",
          "data": {
            "text/plain": [
              "['[Emma by Jane Austen 1816]\\n\\nVOLUME I\\n\\nCHAPTER I\\n\\n\\nEmma Woodhouse, handsome, clever, and rich, with a comfortable home\\nand happy disposition, seemed to unite some of the best blessings\\nof existence; and had lived nearly twenty-one years in the world\\nwith very little to distress or vex her.',\n",
              " \"She was the youngest of the two daughters of a most affectionate,\\nindulgent father; and had, in consequence of her sister's marriage,\\nbeen mistress of his house from a very early period.\",\n",
              " 'Her mother\\nhad died too long ago for her to have more than an indistinct\\nremembrance of her caresses; and her place had been supplied\\nby an excellent woman as governess, who had fallen little short\\nof a mother in affection.',\n",
              " \"Sixteen years had Miss Taylor been in Mr. Woodhouse's family,\\nless as a governess than a friend, very fond of both daughters,\\nbut particularly of Emma.\",\n",
              " 'Between _them_ it was more the intimacy\\nof sisters.']"
            ]
          },
          "metadata": {
            "tags": []
          },
          "execution_count": 12
        }
      ]
    },
    {
      "metadata": {
        "id": "yfXVYW4oVNi5",
        "colab_type": "code",
        "colab": {
          "base_uri": "https://localhost:8080/",
          "height": 54
        },
        "outputId": "25e77c0e-d3a3-489a-993a-56380c717327"
      },
      "cell_type": "code",
      "source": [
        "gberg_sent_tokens[1]"
      ],
      "execution_count": 13,
      "outputs": [
        {
          "output_type": "execute_result",
          "data": {
            "text/plain": [
              "\"She was the youngest of the two daughters of a most affectionate,\\nindulgent father; and had, in consequence of her sister's marriage,\\nbeen mistress of his house from a very early period.\""
            ]
          },
          "metadata": {
            "tags": []
          },
          "execution_count": 13
        }
      ]
    },
    {
      "metadata": {
        "id": "ZCRd2wlPVXGQ",
        "colab_type": "code",
        "colab": {
          "base_uri": "https://localhost:8080/",
          "height": 663
        },
        "outputId": "a79ce5a2-4148-4390-fa9a-2ada50ad6998"
      },
      "cell_type": "code",
      "source": [
        "word_tokenize(gberg_sent_tokens[1])"
      ],
      "execution_count": 14,
      "outputs": [
        {
          "output_type": "execute_result",
          "data": {
            "text/plain": [
              "['She',\n",
              " 'was',\n",
              " 'the',\n",
              " 'youngest',\n",
              " 'of',\n",
              " 'the',\n",
              " 'two',\n",
              " 'daughters',\n",
              " 'of',\n",
              " 'a',\n",
              " 'most',\n",
              " 'affectionate',\n",
              " ',',\n",
              " 'indulgent',\n",
              " 'father',\n",
              " ';',\n",
              " 'and',\n",
              " 'had',\n",
              " ',',\n",
              " 'in',\n",
              " 'consequence',\n",
              " 'of',\n",
              " 'her',\n",
              " 'sister',\n",
              " \"'s\",\n",
              " 'marriage',\n",
              " ',',\n",
              " 'been',\n",
              " 'mistress',\n",
              " 'of',\n",
              " 'his',\n",
              " 'house',\n",
              " 'from',\n",
              " 'a',\n",
              " 'very',\n",
              " 'early',\n",
              " 'period',\n",
              " '.']"
            ]
          },
          "metadata": {
            "tags": []
          },
          "execution_count": 14
        }
      ]
    },
    {
      "metadata": {
        "id": "5Swu68HHV08C",
        "colab_type": "code",
        "colab": {
          "base_uri": "https://localhost:8080/",
          "height": 34
        },
        "outputId": "07a088dd-50c8-44eb-8899-a5e23ca56b37"
      },
      "cell_type": "code",
      "source": [
        "word_tokenize(gberg_sent_tokens[1])[14]"
      ],
      "execution_count": 15,
      "outputs": [
        {
          "output_type": "execute_result",
          "data": {
            "text/plain": [
              "'father'"
            ]
          },
          "metadata": {
            "tags": []
          },
          "execution_count": 15
        }
      ]
    },
    {
      "metadata": {
        "id": "PSFtopNYWDpt",
        "colab_type": "code",
        "colab": {}
      },
      "cell_type": "code",
      "source": [
        "gberg_sents = gutenberg.sents()"
      ],
      "execution_count": 0,
      "outputs": []
    },
    {
      "metadata": {
        "id": "WD5zsgvyWZNR",
        "colab_type": "code",
        "colab": {
          "base_uri": "https://localhost:8080/",
          "height": 1564
        },
        "outputId": "fbad100e-e74f-4871-b9dc-b9fba571f4fa"
      },
      "cell_type": "code",
      "source": [
        "gberg_sents[0:5]"
      ],
      "execution_count": 17,
      "outputs": [
        {
          "output_type": "execute_result",
          "data": {
            "text/plain": [
              "[['[', 'Emma', 'by', 'Jane', 'Austen', '1816', ']'],\n",
              " ['VOLUME', 'I'],\n",
              " ['CHAPTER', 'I'],\n",
              " ['Emma',\n",
              "  'Woodhouse',\n",
              "  ',',\n",
              "  'handsome',\n",
              "  ',',\n",
              "  'clever',\n",
              "  ',',\n",
              "  'and',\n",
              "  'rich',\n",
              "  ',',\n",
              "  'with',\n",
              "  'a',\n",
              "  'comfortable',\n",
              "  'home',\n",
              "  'and',\n",
              "  'happy',\n",
              "  'disposition',\n",
              "  ',',\n",
              "  'seemed',\n",
              "  'to',\n",
              "  'unite',\n",
              "  'some',\n",
              "  'of',\n",
              "  'the',\n",
              "  'best',\n",
              "  'blessings',\n",
              "  'of',\n",
              "  'existence',\n",
              "  ';',\n",
              "  'and',\n",
              "  'had',\n",
              "  'lived',\n",
              "  'nearly',\n",
              "  'twenty',\n",
              "  '-',\n",
              "  'one',\n",
              "  'years',\n",
              "  'in',\n",
              "  'the',\n",
              "  'world',\n",
              "  'with',\n",
              "  'very',\n",
              "  'little',\n",
              "  'to',\n",
              "  'distress',\n",
              "  'or',\n",
              "  'vex',\n",
              "  'her',\n",
              "  '.'],\n",
              " ['She',\n",
              "  'was',\n",
              "  'the',\n",
              "  'youngest',\n",
              "  'of',\n",
              "  'the',\n",
              "  'two',\n",
              "  'daughters',\n",
              "  'of',\n",
              "  'a',\n",
              "  'most',\n",
              "  'affectionate',\n",
              "  ',',\n",
              "  'indulgent',\n",
              "  'father',\n",
              "  ';',\n",
              "  'and',\n",
              "  'had',\n",
              "  ',',\n",
              "  'in',\n",
              "  'consequence',\n",
              "  'of',\n",
              "  'her',\n",
              "  'sister',\n",
              "  \"'\",\n",
              "  's',\n",
              "  'marriage',\n",
              "  ',',\n",
              "  'been',\n",
              "  'mistress',\n",
              "  'of',\n",
              "  'his',\n",
              "  'house',\n",
              "  'from',\n",
              "  'a',\n",
              "  'very',\n",
              "  'early',\n",
              "  'period',\n",
              "  '.']]"
            ]
          },
          "metadata": {
            "tags": []
          },
          "execution_count": 17
        }
      ]
    },
    {
      "metadata": {
        "id": "iCZEfDWiWdlm",
        "colab_type": "code",
        "colab": {
          "base_uri": "https://localhost:8080/",
          "height": 34
        },
        "outputId": "78468e23-6d12-4ca2-ccf4-6f014c175f96"
      },
      "cell_type": "code",
      "source": [
        "len(gutenberg.raw())"
      ],
      "execution_count": 10,
      "outputs": [
        {
          "output_type": "execute_result",
          "data": {
            "text/plain": [
              "11793318"
            ]
          },
          "metadata": {
            "tags": []
          },
          "execution_count": 10
        }
      ]
    },
    {
      "metadata": {
        "id": "4J0j2FLUWphP",
        "colab_type": "code",
        "colab": {}
      },
      "cell_type": "code",
      "source": [
        "model = word2vec.Word2Vec(sentences=gberg_sents, size=64, sg=1, window=10, min_count=5, \n",
        "                 seed=42, workers=8)"
      ],
      "execution_count": 0,
      "outputs": []
    },
    {
      "metadata": {
        "id": "uKMwtSZ6r3WU",
        "colab_type": "code",
        "colab": {}
      },
      "cell_type": "code",
      "source": [
        "model_loaded = model.save('raw.gutenberg_models.w2v')"
      ],
      "execution_count": 0,
      "outputs": []
    },
    {
      "metadata": {
        "id": "6LhLwP6YrqlK",
        "colab_type": "code",
        "colab": {}
      },
      "cell_type": "code",
      "source": [
        "model.load('raw.gutenberg_models.w2v')"
      ],
      "execution_count": 0,
      "outputs": []
    },
    {
      "metadata": {
        "id": "bUQK3RsdXI6f",
        "colab_type": "code",
        "colab": {
          "base_uri": "https://localhost:8080/",
          "height": 292
        },
        "outputId": "dae796e2-bf8f-4901-f590-0cead305d6e1"
      },
      "cell_type": "code",
      "source": [
        "model['dog']"
      ],
      "execution_count": 14,
      "outputs": [
        {
          "output_type": "stream",
          "text": [
            "/usr/local/lib/python3.6/dist-packages/ipykernel_launcher.py:1: DeprecationWarning: Call to deprecated `__getitem__` (Method will be removed in 4.0.0, use self.wv.__getitem__() instead).\n",
            "  \"\"\"Entry point for launching an IPython kernel.\n"
          ],
          "name": "stderr"
        },
        {
          "output_type": "execute_result",
          "data": {
            "text/plain": [
              "array([ 0.07183849, -0.02961134, -0.05136842, -0.19512478, -0.26118034,\n",
              "        0.0539876 , -0.00670491, -0.11367236,  0.5023316 , -0.66659224,\n",
              "       -0.02651127,  0.07876641,  0.3489029 ,  0.16075842,  0.02216234,\n",
              "       -0.17440067, -0.25869396,  0.26005223,  0.03496335,  0.45301133,\n",
              "        0.14869156,  0.17420457, -0.37189975,  0.20686994,  0.52112854,\n",
              "        0.21564557,  0.25359055,  0.2674032 , -0.00155177,  0.00705059,\n",
              "       -0.5172609 ,  0.01787904, -0.08630584,  0.07517006,  0.17886901,\n",
              "       -0.2873009 , -0.07473194, -0.03878455,  0.68392944, -0.06319127,\n",
              "        0.3600917 ,  0.25134933,  0.49901327,  0.83350337, -0.24641961,\n",
              "        0.0382533 , -0.18248563, -0.01999781, -0.622928  ,  0.14149873,\n",
              "        0.4532308 , -0.37337157, -0.25179917,  0.04867315, -0.13876697,\n",
              "       -0.4445481 , -0.052164  ,  0.06313659,  0.3371101 , -0.13061029,\n",
              "        0.06604032,  0.05197713, -0.01228017,  0.16917136], dtype=float32)"
            ]
          },
          "metadata": {
            "tags": []
          },
          "execution_count": 14
        }
      ]
    },
    {
      "metadata": {
        "id": "Ib7wb0_FsgDs",
        "colab_type": "code",
        "colab": {
          "base_uri": "https://localhost:8080/",
          "height": 88
        },
        "outputId": "61226a3c-3c5b-4f24-be3f-5eeb64ab074f"
      },
      "cell_type": "code",
      "source": [
        "len(model['dog'])"
      ],
      "execution_count": 15,
      "outputs": [
        {
          "output_type": "stream",
          "text": [
            "/usr/local/lib/python3.6/dist-packages/ipykernel_launcher.py:1: DeprecationWarning: Call to deprecated `__getitem__` (Method will be removed in 4.0.0, use self.wv.__getitem__() instead).\n",
            "  \"\"\"Entry point for launching an IPython kernel.\n"
          ],
          "name": "stderr"
        },
        {
          "output_type": "execute_result",
          "data": {
            "text/plain": [
              "64"
            ]
          },
          "metadata": {
            "tags": []
          },
          "execution_count": 15
        }
      ]
    },
    {
      "metadata": {
        "id": "BdW6G1JysiXe",
        "colab_type": "code",
        "colab": {
          "base_uri": "https://localhost:8080/",
          "height": 275
        },
        "outputId": "09bb94ce-bda9-4e3c-c3b5-180f4b6d4557"
      },
      "cell_type": "code",
      "source": [
        "model.most_similar('day')"
      ],
      "execution_count": 16,
      "outputs": [
        {
          "output_type": "stream",
          "text": [
            "/usr/local/lib/python3.6/dist-packages/ipykernel_launcher.py:1: DeprecationWarning: Call to deprecated `most_similar` (Method will be removed in 4.0.0, use self.wv.most_similar() instead).\n",
            "  \"\"\"Entry point for launching an IPython kernel.\n",
            "/usr/local/lib/python3.6/dist-packages/gensim/matutils.py:737: FutureWarning: Conversion of the second argument of issubdtype from `int` to `np.signedinteger` is deprecated. In future, it will be treated as `np.int64 == np.dtype(int).type`.\n",
            "  if np.issubdtype(vec.dtype, np.int):\n"
          ],
          "name": "stderr"
        },
        {
          "output_type": "execute_result",
          "data": {
            "text/plain": [
              "[('morning', 0.7927214503288269),\n",
              " ('night', 0.7649179100990295),\n",
              " ('time', 0.742054283618927),\n",
              " ('evening', 0.7169431447982788),\n",
              " ('month', 0.6970335245132446),\n",
              " ('week', 0.6780427694320679),\n",
              " ('morrow', 0.675034761428833),\n",
              " ('feasting', 0.6644536256790161),\n",
              " ('fourteenth', 0.6614946126937866),\n",
              " ('fortnight', 0.6546237468719482)]"
            ]
          },
          "metadata": {
            "tags": []
          },
          "execution_count": 16
        }
      ]
    },
    {
      "metadata": {
        "id": "s2g3LfnNsmcw",
        "colab_type": "code",
        "colab": {
          "base_uri": "https://localhost:8080/",
          "height": 275
        },
        "outputId": "43836db6-1873-44b4-949a-395035f46201"
      },
      "cell_type": "code",
      "source": [
        "model.most_similar('think')"
      ],
      "execution_count": 17,
      "outputs": [
        {
          "output_type": "stream",
          "text": [
            "/usr/local/lib/python3.6/dist-packages/ipykernel_launcher.py:1: DeprecationWarning: Call to deprecated `most_similar` (Method will be removed in 4.0.0, use self.wv.most_similar() instead).\n",
            "  \"\"\"Entry point for launching an IPython kernel.\n",
            "/usr/local/lib/python3.6/dist-packages/gensim/matutils.py:737: FutureWarning: Conversion of the second argument of issubdtype from `int` to `np.signedinteger` is deprecated. In future, it will be treated as `np.int64 == np.dtype(int).type`.\n",
            "  if np.issubdtype(vec.dtype, np.int):\n"
          ],
          "name": "stderr"
        },
        {
          "output_type": "execute_result",
          "data": {
            "text/plain": [
              "[('suppose', 0.8659956455230713),\n",
              " ('contradict', 0.8491463661193848),\n",
              " ('manage', 0.8409090042114258),\n",
              " ('downright', 0.8259731531143188),\n",
              " ('_you_', 0.8215104341506958),\n",
              " ('NOW', 0.8118977546691895),\n",
              " ('know', 0.8107104897499084),\n",
              " ('Mamma', 0.8081897497177124),\n",
              " ('hesitate', 0.8013631701469421),\n",
              " ('quarrelled', 0.7996115684509277)]"
            ]
          },
          "metadata": {
            "tags": []
          },
          "execution_count": 17
        }
      ]
    },
    {
      "metadata": {
        "id": "2mZQu729ssK2",
        "colab_type": "code",
        "colab": {
          "base_uri": "https://localhost:8080/",
          "height": 122
        },
        "outputId": "7bd55e0d-6af3-40df-a198-c0bf53d94d32"
      },
      "cell_type": "code",
      "source": [
        "#dog is the odd man out\n",
        "model.doesnt_match('mother father daughter dog'.split())"
      ],
      "execution_count": 20,
      "outputs": [
        {
          "output_type": "stream",
          "text": [
            "/usr/local/lib/python3.6/dist-packages/ipykernel_launcher.py:1: DeprecationWarning: Call to deprecated `doesnt_match` (Method will be removed in 4.0.0, use self.wv.doesnt_match() instead).\n",
            "  \"\"\"Entry point for launching an IPython kernel.\n",
            "/usr/local/lib/python3.6/dist-packages/gensim/matutils.py:737: FutureWarning: Conversion of the second argument of issubdtype from `int` to `np.signedinteger` is deprecated. In future, it will be treated as `np.int64 == np.dtype(int).type`.\n",
            "  if np.issubdtype(vec.dtype, np.int):\n"
          ],
          "name": "stderr"
        },
        {
          "output_type": "execute_result",
          "data": {
            "text/plain": [
              "'dog'"
            ]
          },
          "metadata": {
            "tags": []
          },
          "execution_count": 20
        }
      ]
    },
    {
      "metadata": {
        "id": "FacpBcYOs4cl",
        "colab_type": "code",
        "colab": {
          "base_uri": "https://localhost:8080/",
          "height": 17034
        },
        "outputId": "d1f13655-eda1-412c-bca0-86d3de6eeecc"
      },
      "cell_type": "code",
      "source": [
        "model.wv.vocab"
      ],
      "execution_count": 21,
      "outputs": [
        {
          "output_type": "execute_result",
          "data": {
            "text/plain": [
              "{'[': <gensim.models.keyedvectors.Vocab at 0x7fa387193cf8>,\n",
              " 'Emma': <gensim.models.keyedvectors.Vocab at 0x7fa381af0ac8>,\n",
              " 'by': <gensim.models.keyedvectors.Vocab at 0x7fa381b36a90>,\n",
              " 'Jane': <gensim.models.keyedvectors.Vocab at 0x7fa381b350f0>,\n",
              " ']': <gensim.models.keyedvectors.Vocab at 0x7fa381b35a58>,\n",
              " 'I': <gensim.models.keyedvectors.Vocab at 0x7fa381b358d0>,\n",
              " 'CHAPTER': <gensim.models.keyedvectors.Vocab at 0x7fa381b30cc0>,\n",
              " 'Woodhouse': <gensim.models.keyedvectors.Vocab at 0x7fa381b305c0>,\n",
              " ',': <gensim.models.keyedvectors.Vocab at 0x7fa381b30630>,\n",
              " 'handsome': <gensim.models.keyedvectors.Vocab at 0x7fa381b30b70>,\n",
              " 'clever': <gensim.models.keyedvectors.Vocab at 0x7fa381b30ba8>,\n",
              " 'and': <gensim.models.keyedvectors.Vocab at 0x7fa381b30978>,\n",
              " 'rich': <gensim.models.keyedvectors.Vocab at 0x7fa381b30d30>,\n",
              " 'with': <gensim.models.keyedvectors.Vocab at 0x7fa381b30f60>,\n",
              " 'a': <gensim.models.keyedvectors.Vocab at 0x7fa381b30320>,\n",
              " 'comfortable': <gensim.models.keyedvectors.Vocab at 0x7fa381b30a90>,\n",
              " 'home': <gensim.models.keyedvectors.Vocab at 0x7fa381b330f0>,\n",
              " 'happy': <gensim.models.keyedvectors.Vocab at 0x7fa381b33b00>,\n",
              " 'disposition': <gensim.models.keyedvectors.Vocab at 0x7fa381b33ba8>,\n",
              " 'seemed': <gensim.models.keyedvectors.Vocab at 0x7fa381b33e48>,\n",
              " 'to': <gensim.models.keyedvectors.Vocab at 0x7fa381b33828>,\n",
              " 'unite': <gensim.models.keyedvectors.Vocab at 0x7fa381b33710>,\n",
              " 'some': <gensim.models.keyedvectors.Vocab at 0x7fa381b33a58>,\n",
              " 'of': <gensim.models.keyedvectors.Vocab at 0x7fa381b33a90>,\n",
              " 'the': <gensim.models.keyedvectors.Vocab at 0x7fa381b33160>,\n",
              " 'best': <gensim.models.keyedvectors.Vocab at 0x7fa381b33d68>,\n",
              " 'blessings': <gensim.models.keyedvectors.Vocab at 0x7fa381affa58>,\n",
              " 'existence': <gensim.models.keyedvectors.Vocab at 0x7fa381afffd0>,\n",
              " ';': <gensim.models.keyedvectors.Vocab at 0x7fa381b00128>,\n",
              " 'had': <gensim.models.keyedvectors.Vocab at 0x7fa381b00dd8>,\n",
              " 'lived': <gensim.models.keyedvectors.Vocab at 0x7fa381b2d7b8>,\n",
              " 'nearly': <gensim.models.keyedvectors.Vocab at 0x7fa381b38b00>,\n",
              " 'twenty': <gensim.models.keyedvectors.Vocab at 0x7fa381b38c18>,\n",
              " '-': <gensim.models.keyedvectors.Vocab at 0x7fa381b38ba8>,\n",
              " 'one': <gensim.models.keyedvectors.Vocab at 0x7fa381b38978>,\n",
              " 'years': <gensim.models.keyedvectors.Vocab at 0x7fa381b387f0>,\n",
              " 'in': <gensim.models.keyedvectors.Vocab at 0x7fa381b38860>,\n",
              " 'world': <gensim.models.keyedvectors.Vocab at 0x7fa381b388d0>,\n",
              " 'very': <gensim.models.keyedvectors.Vocab at 0x7fa381b38908>,\n",
              " 'little': <gensim.models.keyedvectors.Vocab at 0x7fa381b384a8>,\n",
              " 'distress': <gensim.models.keyedvectors.Vocab at 0x7fa381b384e0>,\n",
              " 'or': <gensim.models.keyedvectors.Vocab at 0x7fa381b38518>,\n",
              " 'vex': <gensim.models.keyedvectors.Vocab at 0x7fa381b38588>,\n",
              " 'her': <gensim.models.keyedvectors.Vocab at 0x7fa381b38550>,\n",
              " '.': <gensim.models.keyedvectors.Vocab at 0x7fa381b38048>,\n",
              " 'She': <gensim.models.keyedvectors.Vocab at 0x7fa381b38080>,\n",
              " 'was': <gensim.models.keyedvectors.Vocab at 0x7fa381b380b8>,\n",
              " 'youngest': <gensim.models.keyedvectors.Vocab at 0x7fa381b380f0>,\n",
              " 'two': <gensim.models.keyedvectors.Vocab at 0x7fa381b38160>,\n",
              " 'daughters': <gensim.models.keyedvectors.Vocab at 0x7fa381b38198>,\n",
              " 'most': <gensim.models.keyedvectors.Vocab at 0x7fa381b381d0>,\n",
              " 'affectionate': <gensim.models.keyedvectors.Vocab at 0x7fa381b38208>,\n",
              " 'indulgent': <gensim.models.keyedvectors.Vocab at 0x7fa381b38240>,\n",
              " 'father': <gensim.models.keyedvectors.Vocab at 0x7fa381b38278>,\n",
              " 'consequence': <gensim.models.keyedvectors.Vocab at 0x7fa381b382b0>,\n",
              " 'sister': <gensim.models.keyedvectors.Vocab at 0x7fa381b382e8>,\n",
              " \"'\": <gensim.models.keyedvectors.Vocab at 0x7fa381b38320>,\n",
              " 's': <gensim.models.keyedvectors.Vocab at 0x7fa381b38358>,\n",
              " 'marriage': <gensim.models.keyedvectors.Vocab at 0x7fa381b38390>,\n",
              " 'been': <gensim.models.keyedvectors.Vocab at 0x7fa381b383c8>,\n",
              " 'mistress': <gensim.models.keyedvectors.Vocab at 0x7fa381b38400>,\n",
              " 'his': <gensim.models.keyedvectors.Vocab at 0x7fa381b38438>,\n",
              " 'house': <gensim.models.keyedvectors.Vocab at 0x7fa381b38470>,\n",
              " 'from': <gensim.models.keyedvectors.Vocab at 0x7fa381b385c0>,\n",
              " 'early': <gensim.models.keyedvectors.Vocab at 0x7fa381b385f8>,\n",
              " 'period': <gensim.models.keyedvectors.Vocab at 0x7fa381b386d8>,\n",
              " 'Her': <gensim.models.keyedvectors.Vocab at 0x7fa381b38710>,\n",
              " 'mother': <gensim.models.keyedvectors.Vocab at 0x7fa381b38748>,\n",
              " 'died': <gensim.models.keyedvectors.Vocab at 0x7fa381b38780>,\n",
              " 'too': <gensim.models.keyedvectors.Vocab at 0x7fa381b387b8>,\n",
              " 'long': <gensim.models.keyedvectors.Vocab at 0x7fa381b389b0>,\n",
              " 'ago': <gensim.models.keyedvectors.Vocab at 0x7fa381b389e8>,\n",
              " 'for': <gensim.models.keyedvectors.Vocab at 0x7fa381b38b70>,\n",
              " 'have': <gensim.models.keyedvectors.Vocab at 0x7fa381b38be0>,\n",
              " 'more': <gensim.models.keyedvectors.Vocab at 0x7fa381b38a20>,\n",
              " 'than': <gensim.models.keyedvectors.Vocab at 0x7fa381b38a90>,\n",
              " 'an': <gensim.models.keyedvectors.Vocab at 0x7fa381b38c50>,\n",
              " 'remembrance': <gensim.models.keyedvectors.Vocab at 0x7fa381b38c88>,\n",
              " 'caresses': <gensim.models.keyedvectors.Vocab at 0x7fa381b38cc0>,\n",
              " 'place': <gensim.models.keyedvectors.Vocab at 0x7fa381b38cf8>,\n",
              " 'supplied': <gensim.models.keyedvectors.Vocab at 0x7fa381b38d30>,\n",
              " 'excellent': <gensim.models.keyedvectors.Vocab at 0x7fa381b38d68>,\n",
              " 'woman': <gensim.models.keyedvectors.Vocab at 0x7fa381b38da0>,\n",
              " 'as': <gensim.models.keyedvectors.Vocab at 0x7fa381b38dd8>,\n",
              " 'governess': <gensim.models.keyedvectors.Vocab at 0x7fa381b38e48>,\n",
              " 'who': <gensim.models.keyedvectors.Vocab at 0x7fa381b38e80>,\n",
              " 'fallen': <gensim.models.keyedvectors.Vocab at 0x7fa381b38eb8>,\n",
              " 'short': <gensim.models.keyedvectors.Vocab at 0x7fa381b38ef0>,\n",
              " 'affection': <gensim.models.keyedvectors.Vocab at 0x7fa381b38f28>,\n",
              " 'Sixteen': <gensim.models.keyedvectors.Vocab at 0x7fa381b38f60>,\n",
              " 'Miss': <gensim.models.keyedvectors.Vocab at 0x7fa381b38fd0>,\n",
              " 'Taylor': <gensim.models.keyedvectors.Vocab at 0x7fa381b39048>,\n",
              " 'Mr': <gensim.models.keyedvectors.Vocab at 0x7fa381b39080>,\n",
              " 'family': <gensim.models.keyedvectors.Vocab at 0x7fa381b390b8>,\n",
              " 'less': <gensim.models.keyedvectors.Vocab at 0x7fa381b390f0>,\n",
              " 'friend': <gensim.models.keyedvectors.Vocab at 0x7fa381b39128>,\n",
              " 'fond': <gensim.models.keyedvectors.Vocab at 0x7fa381b39198>,\n",
              " 'both': <gensim.models.keyedvectors.Vocab at 0x7fa381b391d0>,\n",
              " 'but': <gensim.models.keyedvectors.Vocab at 0x7fa381b39208>,\n",
              " 'particularly': <gensim.models.keyedvectors.Vocab at 0x7fa381b39240>,\n",
              " 'Between': <gensim.models.keyedvectors.Vocab at 0x7fa381b39278>,\n",
              " 'it': <gensim.models.keyedvectors.Vocab at 0x7fa381b392b0>,\n",
              " 'intimacy': <gensim.models.keyedvectors.Vocab at 0x7fa381b392e8>,\n",
              " 'sisters': <gensim.models.keyedvectors.Vocab at 0x7fa381b39358>,\n",
              " 'Even': <gensim.models.keyedvectors.Vocab at 0x7fa381b39390>,\n",
              " 'before': <gensim.models.keyedvectors.Vocab at 0x7fa381b39400>,\n",
              " 'ceased': <gensim.models.keyedvectors.Vocab at 0x7fa381b39438>,\n",
              " 'hold': <gensim.models.keyedvectors.Vocab at 0x7fa381b39470>,\n",
              " 'office': <gensim.models.keyedvectors.Vocab at 0x7fa381b394a8>,\n",
              " 'mildness': <gensim.models.keyedvectors.Vocab at 0x7fa381b394e0>,\n",
              " 'temper': <gensim.models.keyedvectors.Vocab at 0x7fa381b39518>,\n",
              " 'hardly': <gensim.models.keyedvectors.Vocab at 0x7fa381b39550>,\n",
              " 'allowed': <gensim.models.keyedvectors.Vocab at 0x7fa381b39588>,\n",
              " 'impose': <gensim.models.keyedvectors.Vocab at 0x7fa381b395c0>,\n",
              " 'any': <gensim.models.keyedvectors.Vocab at 0x7fa381b395f8>,\n",
              " 'restraint': <gensim.models.keyedvectors.Vocab at 0x7fa381b39630>,\n",
              " 'shadow': <gensim.models.keyedvectors.Vocab at 0x7fa381b39668>,\n",
              " 'authority': <gensim.models.keyedvectors.Vocab at 0x7fa381b396d8>,\n",
              " 'being': <gensim.models.keyedvectors.Vocab at 0x7fa381b39710>,\n",
              " 'now': <gensim.models.keyedvectors.Vocab at 0x7fa381b39748>,\n",
              " 'passed': <gensim.models.keyedvectors.Vocab at 0x7fa381b39780>,\n",
              " 'away': <gensim.models.keyedvectors.Vocab at 0x7fa381b397b8>,\n",
              " 'they': <gensim.models.keyedvectors.Vocab at 0x7fa381b397f0>,\n",
              " 'living': <gensim.models.keyedvectors.Vocab at 0x7fa381b39828>,\n",
              " 'together': <gensim.models.keyedvectors.Vocab at 0x7fa381b39860>,\n",
              " 'mutually': <gensim.models.keyedvectors.Vocab at 0x7fa381b39898>,\n",
              " 'attached': <gensim.models.keyedvectors.Vocab at 0x7fa381b398d0>,\n",
              " 'doing': <gensim.models.keyedvectors.Vocab at 0x7fa381b39940>,\n",
              " 'just': <gensim.models.keyedvectors.Vocab at 0x7fa381b39978>,\n",
              " 'what': <gensim.models.keyedvectors.Vocab at 0x7fa381b399b0>,\n",
              " 'she': <gensim.models.keyedvectors.Vocab at 0x7fa381b399e8>,\n",
              " 'liked': <gensim.models.keyedvectors.Vocab at 0x7fa381b39a20>,\n",
              " 'highly': <gensim.models.keyedvectors.Vocab at 0x7fa381b39a58>,\n",
              " 'judgment': <gensim.models.keyedvectors.Vocab at 0x7fa381b39a90>,\n",
              " 'directed': <gensim.models.keyedvectors.Vocab at 0x7fa381b39ac8>,\n",
              " 'chiefly': <gensim.models.keyedvectors.Vocab at 0x7fa381b39b00>,\n",
              " 'own': <gensim.models.keyedvectors.Vocab at 0x7fa381b39b38>,\n",
              " 'The': <gensim.models.keyedvectors.Vocab at 0x7fa381b39ba8>,\n",
              " 'real': <gensim.models.keyedvectors.Vocab at 0x7fa381b39be0>,\n",
              " 'evils': <gensim.models.keyedvectors.Vocab at 0x7fa381b39c18>,\n",
              " 'indeed': <gensim.models.keyedvectors.Vocab at 0x7fa381b39c50>,\n",
              " 'situation': <gensim.models.keyedvectors.Vocab at 0x7fa381b39cc0>,\n",
              " 'were': <gensim.models.keyedvectors.Vocab at 0x7fa381b39cf8>,\n",
              " 'power': <gensim.models.keyedvectors.Vocab at 0x7fa381b39d30>,\n",
              " 'having': <gensim.models.keyedvectors.Vocab at 0x7fa381b39d68>,\n",
              " 'rather': <gensim.models.keyedvectors.Vocab at 0x7fa381b39da0>,\n",
              " 'much': <gensim.models.keyedvectors.Vocab at 0x7fa381b39dd8>,\n",
              " 'way': <gensim.models.keyedvectors.Vocab at 0x7fa381b39e10>,\n",
              " 'think': <gensim.models.keyedvectors.Vocab at 0x7fa381b39e48>,\n",
              " 'well': <gensim.models.keyedvectors.Vocab at 0x7fa381b39e80>,\n",
              " 'herself': <gensim.models.keyedvectors.Vocab at 0x7fa381b39eb8>,\n",
              " 'these': <gensim.models.keyedvectors.Vocab at 0x7fa381b39ef0>,\n",
              " 'which': <gensim.models.keyedvectors.Vocab at 0x7fa381b39f28>,\n",
              " 'threatened': <gensim.models.keyedvectors.Vocab at 0x7fa381b39f60>,\n",
              " 'alloy': <gensim.models.keyedvectors.Vocab at 0x7fa381b39f98>,\n",
              " 'many': <gensim.models.keyedvectors.Vocab at 0x7fa381b29048>,\n",
              " 'enjoyments': <gensim.models.keyedvectors.Vocab at 0x7fa381b290b8>,\n",
              " 'danger': <gensim.models.keyedvectors.Vocab at 0x7fa381b292b0>,\n",
              " 'however': <gensim.models.keyedvectors.Vocab at 0x7fa381b29160>,\n",
              " 'at': <gensim.models.keyedvectors.Vocab at 0x7fa381b29128>,\n",
              " 'present': <gensim.models.keyedvectors.Vocab at 0x7fa381b29278>,\n",
              " 'so': <gensim.models.keyedvectors.Vocab at 0x7fa381b29198>,\n",
              " 'unperceived': <gensim.models.keyedvectors.Vocab at 0x7fa381b29208>,\n",
              " 'that': <gensim.models.keyedvectors.Vocab at 0x7fa381b290f0>,\n",
              " 'did': <gensim.models.keyedvectors.Vocab at 0x7fa381b291d0>,\n",
              " 'not': <gensim.models.keyedvectors.Vocab at 0x7fa381b292e8>,\n",
              " 'means': <gensim.models.keyedvectors.Vocab at 0x7fa381b29320>,\n",
              " 'rank': <gensim.models.keyedvectors.Vocab at 0x7fa381b29358>,\n",
              " 'misfortunes': <gensim.models.keyedvectors.Vocab at 0x7fa381b293c8>,\n",
              " 'Sorrow': <gensim.models.keyedvectors.Vocab at 0x7fa381b29438>,\n",
              " 'came': <gensim.models.keyedvectors.Vocab at 0x7fa381b29470>,\n",
              " '--': <gensim.models.keyedvectors.Vocab at 0x7fa381b294a8>,\n",
              " 'gentle': <gensim.models.keyedvectors.Vocab at 0x7fa381b294e0>,\n",
              " 'sorrow': <gensim.models.keyedvectors.Vocab at 0x7fa381b29518>,\n",
              " 'all': <gensim.models.keyedvectors.Vocab at 0x7fa381b29550>,\n",
              " 'shape': <gensim.models.keyedvectors.Vocab at 0x7fa381b29588>,\n",
              " 'disagreeable': <gensim.models.keyedvectors.Vocab at 0x7fa381b295f8>,\n",
              " 'consciousness': <gensim.models.keyedvectors.Vocab at 0x7fa381b29630>,\n",
              " '.--': <gensim.models.keyedvectors.Vocab at 0x7fa381b296a0>,\n",
              " 'married': <gensim.models.keyedvectors.Vocab at 0x7fa381b296d8>,\n",
              " 'It': <gensim.models.keyedvectors.Vocab at 0x7fa381b29710>,\n",
              " 'loss': <gensim.models.keyedvectors.Vocab at 0x7fa381b29748>,\n",
              " 'first': <gensim.models.keyedvectors.Vocab at 0x7fa381b29780>,\n",
              " 'brought': <gensim.models.keyedvectors.Vocab at 0x7fa381b297b8>,\n",
              " 'grief': <gensim.models.keyedvectors.Vocab at 0x7fa381b297f0>,\n",
              " 'on': <gensim.models.keyedvectors.Vocab at 0x7fa381b29828>,\n",
              " 'wedding': <gensim.models.keyedvectors.Vocab at 0x7fa381b29860>,\n",
              " 'day': <gensim.models.keyedvectors.Vocab at 0x7fa381b29898>,\n",
              " 'this': <gensim.models.keyedvectors.Vocab at 0x7fa381b298d0>,\n",
              " 'beloved': <gensim.models.keyedvectors.Vocab at 0x7fa381b29908>,\n",
              " 'sat': <gensim.models.keyedvectors.Vocab at 0x7fa381b29940>,\n",
              " 'mournful': <gensim.models.keyedvectors.Vocab at 0x7fa381b29978>,\n",
              " 'thought': <gensim.models.keyedvectors.Vocab at 0x7fa381b299b0>,\n",
              " 'continuance': <gensim.models.keyedvectors.Vocab at 0x7fa381b299e8>,\n",
              " 'over': <gensim.models.keyedvectors.Vocab at 0x7fa381b29a20>,\n",
              " 'bride': <gensim.models.keyedvectors.Vocab at 0x7fa381b29a58>,\n",
              " 'people': <gensim.models.keyedvectors.Vocab at 0x7fa381b29a90>,\n",
              " 'gone': <gensim.models.keyedvectors.Vocab at 0x7fa381b29ac8>,\n",
              " 'left': <gensim.models.keyedvectors.Vocab at 0x7fa381b29b00>,\n",
              " 'dine': <gensim.models.keyedvectors.Vocab at 0x7fa381b29b38>,\n",
              " 'no': <gensim.models.keyedvectors.Vocab at 0x7fa381b29ba8>,\n",
              " 'prospect': <gensim.models.keyedvectors.Vocab at 0x7fa381b29c18>,\n",
              " 'third': <gensim.models.keyedvectors.Vocab at 0x7fa381b29c50>,\n",
              " 'cheer': <gensim.models.keyedvectors.Vocab at 0x7fa381b29c88>,\n",
              " 'evening': <gensim.models.keyedvectors.Vocab at 0x7fa381b29cc0>,\n",
              " 'composed': <gensim.models.keyedvectors.Vocab at 0x7fa381b29cf8>,\n",
              " 'himself': <gensim.models.keyedvectors.Vocab at 0x7fa381b29d30>,\n",
              " 'sleep': <gensim.models.keyedvectors.Vocab at 0x7fa381b29d68>,\n",
              " 'after': <gensim.models.keyedvectors.Vocab at 0x7fa381b29da0>,\n",
              " 'dinner': <gensim.models.keyedvectors.Vocab at 0x7fa381b29e48>,\n",
              " 'usual': <gensim.models.keyedvectors.Vocab at 0x7fa381b29e80>,\n",
              " 'then': <gensim.models.keyedvectors.Vocab at 0x7fa381b29eb8>,\n",
              " 'only': <gensim.models.keyedvectors.Vocab at 0x7fa381b29ef0>,\n",
              " 'sit': <gensim.models.keyedvectors.Vocab at 0x7fa381b29f28>,\n",
              " 'lost': <gensim.models.keyedvectors.Vocab at 0x7fa381b29f60>,\n",
              " 'event': <gensim.models.keyedvectors.Vocab at 0x7fa381b29080>,\n",
              " 'every': <gensim.models.keyedvectors.Vocab at 0x7fa381b29240>,\n",
              " 'promise': <gensim.models.keyedvectors.Vocab at 0x7fa381b3b9e8>,\n",
              " 'happiness': <gensim.models.keyedvectors.Vocab at 0x7fa381b3bb00>,\n",
              " 'Weston': <gensim.models.keyedvectors.Vocab at 0x7fa381b3ba58>,\n",
              " 'man': <gensim.models.keyedvectors.Vocab at 0x7fa381b3ba90>,\n",
              " 'unexceptionable': <gensim.models.keyedvectors.Vocab at 0x7fa381b3b908>,\n",
              " 'character': <gensim.models.keyedvectors.Vocab at 0x7fa381b3b9b0>,\n",
              " 'easy': <gensim.models.keyedvectors.Vocab at 0x7fa381b3ba20>,\n",
              " 'fortune': <gensim.models.keyedvectors.Vocab at 0x7fa381b3bb38>,\n",
              " 'suitable': <gensim.models.keyedvectors.Vocab at 0x7fa381b3bb70>,\n",
              " 'age': <gensim.models.keyedvectors.Vocab at 0x7fa381b3bba8>,\n",
              " 'pleasant': <gensim.models.keyedvectors.Vocab at 0x7fa381b3bbe0>,\n",
              " 'manners': <gensim.models.keyedvectors.Vocab at 0x7fa381b3bc50>,\n",
              " 'there': <gensim.models.keyedvectors.Vocab at 0x7fa381b3bc88>,\n",
              " 'satisfaction': <gensim.models.keyedvectors.Vocab at 0x7fa381b3bcc0>,\n",
              " 'considering': <gensim.models.keyedvectors.Vocab at 0x7fa381b3bcf8>,\n",
              " 'self': <gensim.models.keyedvectors.Vocab at 0x7fa381b3bd30>,\n",
              " 'denying': <gensim.models.keyedvectors.Vocab at 0x7fa381b3bd68>,\n",
              " 'generous': <gensim.models.keyedvectors.Vocab at 0x7fa381b3bda0>,\n",
              " 'friendship': <gensim.models.keyedvectors.Vocab at 0x7fa381b3bdd8>,\n",
              " 'always': <gensim.models.keyedvectors.Vocab at 0x7fa381b3be10>,\n",
              " 'wished': <gensim.models.keyedvectors.Vocab at 0x7fa381b3be48>,\n",
              " 'promoted': <gensim.models.keyedvectors.Vocab at 0x7fa381b3bef0>,\n",
              " 'match': <gensim.models.keyedvectors.Vocab at 0x7fa381b3bf28>,\n",
              " 'black': <gensim.models.keyedvectors.Vocab at 0x7fa381b3bf60>,\n",
              " 'morning': <gensim.models.keyedvectors.Vocab at 0x7fa381b3bfd0>,\n",
              " 'work': <gensim.models.keyedvectors.Vocab at 0x7fa381b3b748>,\n",
              " 'want': <gensim.models.keyedvectors.Vocab at 0x7fa381b3b780>,\n",
              " 'would': <gensim.models.keyedvectors.Vocab at 0x7fa381b3b7b8>,\n",
              " 'be': <gensim.models.keyedvectors.Vocab at 0x7fa381b3b7f0>,\n",
              " 'felt': <gensim.models.keyedvectors.Vocab at 0x7fa381b3b828>,\n",
              " 'hour': <gensim.models.keyedvectors.Vocab at 0x7fa381b3b860>,\n",
              " 'recalled': <gensim.models.keyedvectors.Vocab at 0x7fa381b3b898>,\n",
              " 'past': <gensim.models.keyedvectors.Vocab at 0x7fa381b3b8d0>,\n",
              " 'kindness': <gensim.models.keyedvectors.Vocab at 0x7fa381b3b048>,\n",
              " 'sixteen': <gensim.models.keyedvectors.Vocab at 0x7fa381b3b080>,\n",
              " 'how': <gensim.models.keyedvectors.Vocab at 0x7fa381b3b0f0>,\n",
              " 'taught': <gensim.models.keyedvectors.Vocab at 0x7fa381b3b128>,\n",
              " 'played': <gensim.models.keyedvectors.Vocab at 0x7fa381b3b160>,\n",
              " 'five': <gensim.models.keyedvectors.Vocab at 0x7fa381b3b208>,\n",
              " 'old': <gensim.models.keyedvectors.Vocab at 0x7fa381b3b240>,\n",
              " 'devoted': <gensim.models.keyedvectors.Vocab at 0x7fa381b3b2e8>,\n",
              " 'powers': <gensim.models.keyedvectors.Vocab at 0x7fa381b3b358>,\n",
              " 'attach': <gensim.models.keyedvectors.Vocab at 0x7fa381b3b390>,\n",
              " 'amuse': <gensim.models.keyedvectors.Vocab at 0x7fa381b3b3c8>,\n",
              " 'health': <gensim.models.keyedvectors.Vocab at 0x7fa381b3b438>,\n",
              " 'nursed': <gensim.models.keyedvectors.Vocab at 0x7fa381b3b470>,\n",
              " 'through': <gensim.models.keyedvectors.Vocab at 0x7fa381b3b4a8>,\n",
              " 'various': <gensim.models.keyedvectors.Vocab at 0x7fa381b3b4e0>,\n",
              " 'childhood': <gensim.models.keyedvectors.Vocab at 0x7fa381b3b518>,\n",
              " 'A': <gensim.models.keyedvectors.Vocab at 0x7fa381b3b550>,\n",
              " 'large': <gensim.models.keyedvectors.Vocab at 0x7fa381b3b5c0>,\n",
              " 'debt': <gensim.models.keyedvectors.Vocab at 0x7fa381b3b5f8>,\n",
              " 'gratitude': <gensim.models.keyedvectors.Vocab at 0x7fa381b3b630>,\n",
              " 'owing': <gensim.models.keyedvectors.Vocab at 0x7fa381b3b668>,\n",
              " 'here': <gensim.models.keyedvectors.Vocab at 0x7fa381b3b6a0>,\n",
              " 'intercourse': <gensim.models.keyedvectors.Vocab at 0x7fa381b3b710>,\n",
              " 'last': <gensim.models.keyedvectors.Vocab at 0x7fa381b3b978>,\n",
              " 'seven': <gensim.models.keyedvectors.Vocab at 0x7fa381b3b940>,\n",
              " 'equal': <gensim.models.keyedvectors.Vocab at 0x7fa381b13048>,\n",
              " 'footing': <gensim.models.keyedvectors.Vocab at 0x7fa381b13080>,\n",
              " 'perfect': <gensim.models.keyedvectors.Vocab at 0x7fa381b130b8>,\n",
              " 'unreserve': <gensim.models.keyedvectors.Vocab at 0x7fa381b130f0>,\n",
              " 'soon': <gensim.models.keyedvectors.Vocab at 0x7fa381b13128>,\n",
              " 'followed': <gensim.models.keyedvectors.Vocab at 0x7fa381b13160>,\n",
              " 'Isabella': <gensim.models.keyedvectors.Vocab at 0x7fa381b13198>,\n",
              " 'their': <gensim.models.keyedvectors.Vocab at 0x7fa381b131d0>,\n",
              " 'each': <gensim.models.keyedvectors.Vocab at 0x7fa381b13208>,\n",
              " 'other': <gensim.models.keyedvectors.Vocab at 0x7fa381b13240>,\n",
              " 'yet': <gensim.models.keyedvectors.Vocab at 0x7fa381b13278>,\n",
              " 'dearer': <gensim.models.keyedvectors.Vocab at 0x7fa381b132b0>,\n",
              " 'recollection': <gensim.models.keyedvectors.Vocab at 0x7fa381b132e8>,\n",
              " 'companion': <gensim.models.keyedvectors.Vocab at 0x7fa381b13320>,\n",
              " 'such': <gensim.models.keyedvectors.Vocab at 0x7fa381b13358>,\n",
              " 'few': <gensim.models.keyedvectors.Vocab at 0x7fa381b13390>,\n",
              " 'possessed': <gensim.models.keyedvectors.Vocab at 0x7fa381b133c8>,\n",
              " ':': <gensim.models.keyedvectors.Vocab at 0x7fa381b13400>,\n",
              " 'intelligent': <gensim.models.keyedvectors.Vocab at 0x7fa381b13438>,\n",
              " 'informed': <gensim.models.keyedvectors.Vocab at 0x7fa381b13470>,\n",
              " 'useful': <gensim.models.keyedvectors.Vocab at 0x7fa381b134a8>,\n",
              " 'knowing': <gensim.models.keyedvectors.Vocab at 0x7fa381b134e0>,\n",
              " 'ways': <gensim.models.keyedvectors.Vocab at 0x7fa381b13518>,\n",
              " 'interested': <gensim.models.keyedvectors.Vocab at 0x7fa381b13550>,\n",
              " 'its': <gensim.models.keyedvectors.Vocab at 0x7fa381b13588>,\n",
              " 'concerns': <gensim.models.keyedvectors.Vocab at 0x7fa381b135c0>,\n",
              " 'peculiarly': <gensim.models.keyedvectors.Vocab at 0x7fa381b135f8>,\n",
              " 'pleasure': <gensim.models.keyedvectors.Vocab at 0x7fa381b13630>,\n",
              " 'scheme': <gensim.models.keyedvectors.Vocab at 0x7fa381b13668>,\n",
              " 'hers': <gensim.models.keyedvectors.Vocab at 0x7fa381b136a0>,\n",
              " 'whom': <gensim.models.keyedvectors.Vocab at 0x7fa381b13710>,\n",
              " 'could': <gensim.models.keyedvectors.Vocab at 0x7fa381b13748>,\n",
              " 'speak': <gensim.models.keyedvectors.Vocab at 0x7fa381b137b8>,\n",
              " 'arose': <gensim.models.keyedvectors.Vocab at 0x7fa381b137f0>,\n",
              " 'never': <gensim.models.keyedvectors.Vocab at 0x7fa381b13828>,\n",
              " 'find': <gensim.models.keyedvectors.Vocab at 0x7fa381b13898>,\n",
              " 'fault': <gensim.models.keyedvectors.Vocab at 0x7fa381b138d0>,\n",
              " 'How': <gensim.models.keyedvectors.Vocab at 0x7fa381b13908>,\n",
              " 'bear': <gensim.models.keyedvectors.Vocab at 0x7fa381b13940>,\n",
              " 'change': <gensim.models.keyedvectors.Vocab at 0x7fa381b13978>,\n",
              " '?--': <gensim.models.keyedvectors.Vocab at 0x7fa381b139b0>,\n",
              " 'true': <gensim.models.keyedvectors.Vocab at 0x7fa381b139e8>,\n",
              " 'going': <gensim.models.keyedvectors.Vocab at 0x7fa381b13a20>,\n",
              " 'half': <gensim.models.keyedvectors.Vocab at 0x7fa381b13a58>,\n",
              " 'mile': <gensim.models.keyedvectors.Vocab at 0x7fa381b13a90>,\n",
              " 'them': <gensim.models.keyedvectors.Vocab at 0x7fa381b13ac8>,\n",
              " 'aware': <gensim.models.keyedvectors.Vocab at 0x7fa381b13b00>,\n",
              " 'great': <gensim.models.keyedvectors.Vocab at 0x7fa381b13b38>,\n",
              " 'must': <gensim.models.keyedvectors.Vocab at 0x7fa381b13b70>,\n",
              " 'difference': <gensim.models.keyedvectors.Vocab at 0x7fa381b13ba8>,\n",
              " 'between': <gensim.models.keyedvectors.Vocab at 0x7fa381b13be0>,\n",
              " 'Mrs': <gensim.models.keyedvectors.Vocab at 0x7fa381b13c18>,\n",
              " 'advantages': <gensim.models.keyedvectors.Vocab at 0x7fa381b13c50>,\n",
              " 'natural': <gensim.models.keyedvectors.Vocab at 0x7fa381b13c88>,\n",
              " 'domestic': <gensim.models.keyedvectors.Vocab at 0x7fa381b13cc0>,\n",
              " 'suffering': <gensim.models.keyedvectors.Vocab at 0x7fa381b13cf8>,\n",
              " 'intellectual': <gensim.models.keyedvectors.Vocab at 0x7fa381b13d30>,\n",
              " 'solitude': <gensim.models.keyedvectors.Vocab at 0x7fa381b13d68>,\n",
              " 'dearly': <gensim.models.keyedvectors.Vocab at 0x7fa381b13da0>,\n",
              " 'loved': <gensim.models.keyedvectors.Vocab at 0x7fa381b13dd8>,\n",
              " 'he': <gensim.models.keyedvectors.Vocab at 0x7fa381b13e10>,\n",
              " 'He': <gensim.models.keyedvectors.Vocab at 0x7fa381b13e48>,\n",
              " 'meet': <gensim.models.keyedvectors.Vocab at 0x7fa381b13e80>,\n",
              " 'conversation': <gensim.models.keyedvectors.Vocab at 0x7fa381b13eb8>,\n",
              " 'rational': <gensim.models.keyedvectors.Vocab at 0x7fa381b13ef0>,\n",
              " 'playful': <gensim.models.keyedvectors.Vocab at 0x7fa381b13f28>,\n",
              " 'evil': <gensim.models.keyedvectors.Vocab at 0x7fa381b13f60>,\n",
              " 'actual': <gensim.models.keyedvectors.Vocab at 0x7fa381b13f98>,\n",
              " 'disparity': <gensim.models.keyedvectors.Vocab at 0x7fa381b18048>,\n",
              " 'ages': <gensim.models.keyedvectors.Vocab at 0x7fa381b18080>,\n",
              " '(': <gensim.models.keyedvectors.Vocab at 0x7fa381b180b8>,\n",
              " ')': <gensim.models.keyedvectors.Vocab at 0x7fa381b180f0>,\n",
              " 'increased': <gensim.models.keyedvectors.Vocab at 0x7fa381b18128>,\n",
              " 'constitution': <gensim.models.keyedvectors.Vocab at 0x7fa381b18160>,\n",
              " 'habits': <gensim.models.keyedvectors.Vocab at 0x7fa381b18198>,\n",
              " 'life': <gensim.models.keyedvectors.Vocab at 0x7fa381b181d0>,\n",
              " 'without': <gensim.models.keyedvectors.Vocab at 0x7fa381b18208>,\n",
              " 'activity': <gensim.models.keyedvectors.Vocab at 0x7fa381b18240>,\n",
              " 'mind': <gensim.models.keyedvectors.Vocab at 0x7fa381b18278>,\n",
              " 'body': <gensim.models.keyedvectors.Vocab at 0x7fa381b182b0>,\n",
              " 'older': <gensim.models.keyedvectors.Vocab at 0x7fa381b182e8>,\n",
              " 'though': <gensim.models.keyedvectors.Vocab at 0x7fa381b18320>,\n",
              " 'everywhere': <gensim.models.keyedvectors.Vocab at 0x7fa381b18358>,\n",
              " 'friendliness': <gensim.models.keyedvectors.Vocab at 0x7fa381b18390>,\n",
              " 'heart': <gensim.models.keyedvectors.Vocab at 0x7fa381b183c8>,\n",
              " 'amiable': <gensim.models.keyedvectors.Vocab at 0x7fa381b18400>,\n",
              " 'talents': <gensim.models.keyedvectors.Vocab at 0x7fa381b18438>,\n",
              " 'recommended': <gensim.models.keyedvectors.Vocab at 0x7fa381b18470>,\n",
              " 'him': <gensim.models.keyedvectors.Vocab at 0x7fa381b184a8>,\n",
              " 'time': <gensim.models.keyedvectors.Vocab at 0x7fa381b184e0>,\n",
              " 'comparatively': <gensim.models.keyedvectors.Vocab at 0x7fa381b18518>,\n",
              " 'removed': <gensim.models.keyedvectors.Vocab at 0x7fa381b18550>,\n",
              " 'matrimony': <gensim.models.keyedvectors.Vocab at 0x7fa381b18588>,\n",
              " 'settled': <gensim.models.keyedvectors.Vocab at 0x7fa381b185c0>,\n",
              " 'London': <gensim.models.keyedvectors.Vocab at 0x7fa381b185f8>,\n",
              " 'miles': <gensim.models.keyedvectors.Vocab at 0x7fa381b18630>,\n",
              " 'off': <gensim.models.keyedvectors.Vocab at 0x7fa381b18668>,\n",
              " 'beyond': <gensim.models.keyedvectors.Vocab at 0x7fa381b186a0>,\n",
              " 'daily': <gensim.models.keyedvectors.Vocab at 0x7fa381b186d8>,\n",
              " 'reach': <gensim.models.keyedvectors.Vocab at 0x7fa381b18710>,\n",
              " 'October': <gensim.models.keyedvectors.Vocab at 0x7fa381b18748>,\n",
              " 'November': <gensim.models.keyedvectors.Vocab at 0x7fa381b18780>,\n",
              " 'struggled': <gensim.models.keyedvectors.Vocab at 0x7fa381b187f0>,\n",
              " 'Hartfield': <gensim.models.keyedvectors.Vocab at 0x7fa381b18828>,\n",
              " 'Christmas': <gensim.models.keyedvectors.Vocab at 0x7fa381b18860>,\n",
              " 'next': <gensim.models.keyedvectors.Vocab at 0x7fa381b18898>,\n",
              " 'visit': <gensim.models.keyedvectors.Vocab at 0x7fa381b188d0>,\n",
              " 'husband': <gensim.models.keyedvectors.Vocab at 0x7fa381b18908>,\n",
              " 'children': <gensim.models.keyedvectors.Vocab at 0x7fa381b18940>,\n",
              " 'fill': <gensim.models.keyedvectors.Vocab at 0x7fa381b18978>,\n",
              " 'give': <gensim.models.keyedvectors.Vocab at 0x7fa381b189b0>,\n",
              " 'society': <gensim.models.keyedvectors.Vocab at 0x7fa381b189e8>,\n",
              " 'again': <gensim.models.keyedvectors.Vocab at 0x7fa381b18a20>,\n",
              " 'Highbury': <gensim.models.keyedvectors.Vocab at 0x7fa381b18a90>,\n",
              " 'populous': <gensim.models.keyedvectors.Vocab at 0x7fa381b18ac8>,\n",
              " 'village': <gensim.models.keyedvectors.Vocab at 0x7fa381b18b00>,\n",
              " 'almost': <gensim.models.keyedvectors.Vocab at 0x7fa381b18b38>,\n",
              " 'town': <gensim.models.keyedvectors.Vocab at 0x7fa381b18ba8>,\n",
              " 'spite': <gensim.models.keyedvectors.Vocab at 0x7fa381b18be0>,\n",
              " 'separate': <gensim.models.keyedvectors.Vocab at 0x7fa381b18c18>,\n",
              " 'lawn': <gensim.models.keyedvectors.Vocab at 0x7fa381b18c50>,\n",
              " 'shrubberies': <gensim.models.keyedvectors.Vocab at 0x7fa381b18c88>,\n",
              " 'name': <gensim.models.keyedvectors.Vocab at 0x7fa381b18cf8>,\n",
              " 'really': <gensim.models.keyedvectors.Vocab at 0x7fa381b18d30>,\n",
              " 'belong': <gensim.models.keyedvectors.Vocab at 0x7fa381b18d68>,\n",
              " 'afforded': <gensim.models.keyedvectors.Vocab at 0x7fa381b18da0>,\n",
              " 'equals': <gensim.models.keyedvectors.Vocab at 0x7fa381b18dd8>,\n",
              " 'All': <gensim.models.keyedvectors.Vocab at 0x7fa381b18e10>,\n",
              " 'looked': <gensim.models.keyedvectors.Vocab at 0x7fa381b18e48>,\n",
              " 'up': <gensim.models.keyedvectors.Vocab at 0x7fa381b18e80>,\n",
              " 'acquaintance': <gensim.models.keyedvectors.Vocab at 0x7fa381b18eb8>,\n",
              " 'universally': <gensim.models.keyedvectors.Vocab at 0x7fa381b18ef0>,\n",
              " 'civil': <gensim.models.keyedvectors.Vocab at 0x7fa381b18f28>,\n",
              " 'among': <gensim.models.keyedvectors.Vocab at 0x7fa381b18f60>,\n",
              " 'accepted': <gensim.models.keyedvectors.Vocab at 0x7fa381b18f98>,\n",
              " 'even': <gensim.models.keyedvectors.Vocab at 0x7fa381b18fd0>,\n",
              " 'melancholy': <gensim.models.keyedvectors.Vocab at 0x7fa381b1a048>,\n",
              " 'sigh': <gensim.models.keyedvectors.Vocab at 0x7fa381b1a080>,\n",
              " 'wish': <gensim.models.keyedvectors.Vocab at 0x7fa381b1a0b8>,\n",
              " 'impossible': <gensim.models.keyedvectors.Vocab at 0x7fa381b1a0f0>,\n",
              " 'things': <gensim.models.keyedvectors.Vocab at 0x7fa381b1a128>,\n",
              " 'till': <gensim.models.keyedvectors.Vocab at 0x7fa381b1a160>,\n",
              " 'awoke': <gensim.models.keyedvectors.Vocab at 0x7fa381b1a198>,\n",
              " 'made': <gensim.models.keyedvectors.Vocab at 0x7fa381b1a1d0>,\n",
              " 'necessary': <gensim.models.keyedvectors.Vocab at 0x7fa381b1a208>,\n",
              " 'cheerful': <gensim.models.keyedvectors.Vocab at 0x7fa381b1a240>,\n",
              " 'His': <gensim.models.keyedvectors.Vocab at 0x7fa381b1a278>,\n",
              " 'spirits': <gensim.models.keyedvectors.Vocab at 0x7fa381b1a2b0>,\n",
              " 'required': <gensim.models.keyedvectors.Vocab at 0x7fa381b1a2e8>,\n",
              " 'support': <gensim.models.keyedvectors.Vocab at 0x7fa381b1a320>,\n",
              " 'nervous': <gensim.models.keyedvectors.Vocab at 0x7fa381b1a358>,\n",
              " 'easily': <gensim.models.keyedvectors.Vocab at 0x7fa381b1a390>,\n",
              " 'depressed': <gensim.models.keyedvectors.Vocab at 0x7fa381b1a3c8>,\n",
              " 'used': <gensim.models.keyedvectors.Vocab at 0x7fa381b1a400>,\n",
              " 'hating': <gensim.models.keyedvectors.Vocab at 0x7fa381b1a438>,\n",
              " 'part': <gensim.models.keyedvectors.Vocab at 0x7fa381b1a470>,\n",
              " 'kind': <gensim.models.keyedvectors.Vocab at 0x7fa381b1a4a8>,\n",
              " 'origin': <gensim.models.keyedvectors.Vocab at 0x7fa381b1a4e0>,\n",
              " 'reconciled': <gensim.models.keyedvectors.Vocab at 0x7fa381b1a518>,\n",
              " 'daughter': <gensim.models.keyedvectors.Vocab at 0x7fa381b1a550>,\n",
              " 'marrying': <gensim.models.keyedvectors.Vocab at 0x7fa381b1a588>,\n",
              " 'nor': <gensim.models.keyedvectors.Vocab at 0x7fa381b1a5c0>,\n",
              " 'ever': <gensim.models.keyedvectors.Vocab at 0x7fa381b1a5f8>,\n",
              " 'compassion': <gensim.models.keyedvectors.Vocab at 0x7fa381b1a630>,\n",
              " 'entirely': <gensim.models.keyedvectors.Vocab at 0x7fa381b1a6a0>,\n",
              " 'when': <gensim.models.keyedvectors.Vocab at 0x7fa381b1a6d8>,\n",
              " 'obliged': <gensim.models.keyedvectors.Vocab at 0x7fa381b1a710>,\n",
              " 'selfishness': <gensim.models.keyedvectors.Vocab at 0x7fa381b1a748>,\n",
              " 'able': <gensim.models.keyedvectors.Vocab at 0x7fa381b1a780>,\n",
              " 'suppose': <gensim.models.keyedvectors.Vocab at 0x7fa381b1a7b8>,\n",
              " 'feel': <gensim.models.keyedvectors.Vocab at 0x7fa381b1a7f0>,\n",
              " 'differently': <gensim.models.keyedvectors.Vocab at 0x7fa381b1a828>,\n",
              " 'disposed': <gensim.models.keyedvectors.Vocab at 0x7fa381b1a860>,\n",
              " 'done': <gensim.models.keyedvectors.Vocab at 0x7fa381b1a898>,\n",
              " 'sad': <gensim.models.keyedvectors.Vocab at 0x7fa381b1a8d0>,\n",
              " 'thing': <gensim.models.keyedvectors.Vocab at 0x7fa381b1a908>,\n",
              " 'deal': <gensim.models.keyedvectors.Vocab at 0x7fa381b1a940>,\n",
              " 'happier': <gensim.models.keyedvectors.Vocab at 0x7fa381b1a978>,\n",
              " 'if': <gensim.models.keyedvectors.Vocab at 0x7fa381b1a9b0>,\n",
              " 'spent': <gensim.models.keyedvectors.Vocab at 0x7fa381b1aa20>,\n",
              " 'rest': <gensim.models.keyedvectors.Vocab at 0x7fa381b1aa58>,\n",
              " 'smiled': <gensim.models.keyedvectors.Vocab at 0x7fa381b1aa90>,\n",
              " 'cheerfully': <gensim.models.keyedvectors.Vocab at 0x7fa381b1aac8>,\n",
              " 'keep': <gensim.models.keyedvectors.Vocab at 0x7fa381b1ab00>,\n",
              " 'thoughts': <gensim.models.keyedvectors.Vocab at 0x7fa381b1ab38>,\n",
              " 'tea': <gensim.models.keyedvectors.Vocab at 0x7fa381b1ab70>,\n",
              " 'say': <gensim.models.keyedvectors.Vocab at 0x7fa381b1aba8>,\n",
              " 'exactly': <gensim.models.keyedvectors.Vocab at 0x7fa381b1abe0>,\n",
              " 'said': <gensim.models.keyedvectors.Vocab at 0x7fa381b1ac18>,\n",
              " '\"': <gensim.models.keyedvectors.Vocab at 0x7fa381b1ac50>,\n",
              " 'Poor': <gensim.models.keyedvectors.Vocab at 0x7fa381b1ac88>,\n",
              " '!--': <gensim.models.keyedvectors.Vocab at 0x7fa381b1acc0>,\n",
              " 'What': <gensim.models.keyedvectors.Vocab at 0x7fa381b1acf8>,\n",
              " 'pity': <gensim.models.keyedvectors.Vocab at 0x7fa381b1ad30>,\n",
              " 'is': <gensim.models.keyedvectors.Vocab at 0x7fa381b1ad68>,\n",
              " '!\"': <gensim.models.keyedvectors.Vocab at 0x7fa381b1ada0>,\n",
              " 'cannot': <gensim.models.keyedvectors.Vocab at 0x7fa381b1add8>,\n",
              " 'agree': <gensim.models.keyedvectors.Vocab at 0x7fa381b1ae10>,\n",
              " 'you': <gensim.models.keyedvectors.Vocab at 0x7fa381b1ae48>,\n",
              " 'papa': <gensim.models.keyedvectors.Vocab at 0x7fa381b1ae80>,\n",
              " 'know': <gensim.models.keyedvectors.Vocab at 0x7fa381b1aeb8>,\n",
              " 'good': <gensim.models.keyedvectors.Vocab at 0x7fa381b1aef0>,\n",
              " 'humoured': <gensim.models.keyedvectors.Vocab at 0x7fa381b1af28>,\n",
              " 'thoroughly': <gensim.models.keyedvectors.Vocab at 0x7fa381b1af60>,\n",
              " 'deserves': <gensim.models.keyedvectors.Vocab at 0x7fa381b1af98>,\n",
              " 'wife': <gensim.models.keyedvectors.Vocab at 0x7fa381b1afd0>,\n",
              " ';--': <gensim.models.keyedvectors.Vocab at 0x7fa381b1c048>,\n",
              " 'live': <gensim.models.keyedvectors.Vocab at 0x7fa381b1c080>,\n",
              " 'us': <gensim.models.keyedvectors.Vocab at 0x7fa381b1c0b8>,\n",
              " 'my': <gensim.models.keyedvectors.Vocab at 0x7fa381b1c0f0>,\n",
              " 'odd': <gensim.models.keyedvectors.Vocab at 0x7fa381b1c128>,\n",
              " 'humours': <gensim.models.keyedvectors.Vocab at 0x7fa381b1c160>,\n",
              " 'might': <gensim.models.keyedvectors.Vocab at 0x7fa381b1c198>,\n",
              " '?\"': <gensim.models.keyedvectors.Vocab at 0x7fa381b1c1d0>,\n",
              " 'But': <gensim.models.keyedvectors.Vocab at 0x7fa381b1c208>,\n",
              " 'where': <gensim.models.keyedvectors.Vocab at 0x7fa381b1c240>,\n",
              " 'advantage': <gensim.models.keyedvectors.Vocab at 0x7fa381b1c278>,\n",
              " '?': <gensim.models.keyedvectors.Vocab at 0x7fa381b1c2b0>,\n",
              " 'This': <gensim.models.keyedvectors.Vocab at 0x7fa381b1c2e8>,\n",
              " 'three': <gensim.models.keyedvectors.Vocab at 0x7fa381b1c320>,\n",
              " 'times': <gensim.models.keyedvectors.Vocab at 0x7fa381b1c358>,\n",
              " 'And': <gensim.models.keyedvectors.Vocab at 0x7fa381b1c390>,\n",
              " 'dear': <gensim.models.keyedvectors.Vocab at 0x7fa381b1c3c8>,\n",
              " '.\"': <gensim.models.keyedvectors.Vocab at 0x7fa381b1c400>,\n",
              " 'often': <gensim.models.keyedvectors.Vocab at 0x7fa381b1c438>,\n",
              " 'we': <gensim.models.keyedvectors.Vocab at 0x7fa381b1c470>,\n",
              " 'shall': <gensim.models.keyedvectors.Vocab at 0x7fa381b1c4a8>,\n",
              " 'see': <gensim.models.keyedvectors.Vocab at 0x7fa381b1c4e0>,\n",
              " 'coming': <gensim.models.keyedvectors.Vocab at 0x7fa381b1c518>,\n",
              " 'We': <gensim.models.keyedvectors.Vocab at 0x7fa381b1c550>,\n",
              " 'meeting': <gensim.models.keyedvectors.Vocab at 0x7fa381b1c588>,\n",
              " '!': <gensim.models.keyedvectors.Vocab at 0x7fa381b1c5c0>,\n",
              " 'begin': <gensim.models.keyedvectors.Vocab at 0x7fa381b1c5f8>,\n",
              " 'go': <gensim.models.keyedvectors.Vocab at 0x7fa381b1c630>,\n",
              " 'pay': <gensim.models.keyedvectors.Vocab at 0x7fa381b1c668>,\n",
              " 'My': <gensim.models.keyedvectors.Vocab at 0x7fa381b1c6a0>,\n",
              " 'am': <gensim.models.keyedvectors.Vocab at 0x7fa381b1c6d8>,\n",
              " 'get': <gensim.models.keyedvectors.Vocab at 0x7fa381b1c710>,\n",
              " 'far': <gensim.models.keyedvectors.Vocab at 0x7fa381b1c748>,\n",
              " 'Randalls': <gensim.models.keyedvectors.Vocab at 0x7fa381b1c780>,\n",
              " 'distance': <gensim.models.keyedvectors.Vocab at 0x7fa381b1c7b8>,\n",
              " 'walk': <gensim.models.keyedvectors.Vocab at 0x7fa381b1c7f0>,\n",
              " 'No': <gensim.models.keyedvectors.Vocab at 0x7fa381b1c828>,\n",
              " 'nobody': <gensim.models.keyedvectors.Vocab at 0x7fa381b1c860>,\n",
              " 'your': <gensim.models.keyedvectors.Vocab at 0x7fa381b1c898>,\n",
              " 'walking': <gensim.models.keyedvectors.Vocab at 0x7fa381b1c8d0>,\n",
              " 'carriage': <gensim.models.keyedvectors.Vocab at 0x7fa381b1c908>,\n",
              " 'sure': <gensim.models.keyedvectors.Vocab at 0x7fa381b1c940>,\n",
              " 'James': <gensim.models.keyedvectors.Vocab at 0x7fa381b1c978>,\n",
              " 'will': <gensim.models.keyedvectors.Vocab at 0x7fa381b1c9b0>,\n",
              " 'like': <gensim.models.keyedvectors.Vocab at 0x7fa381b1c9e8>,\n",
              " 'put': <gensim.models.keyedvectors.Vocab at 0x7fa381b1ca20>,\n",
              " 'horses': <gensim.models.keyedvectors.Vocab at 0x7fa381b1ca58>,\n",
              " 'are': <gensim.models.keyedvectors.Vocab at 0x7fa381b1ca90>,\n",
              " 'poor': <gensim.models.keyedvectors.Vocab at 0x7fa381b1cac8>,\n",
              " 'while': <gensim.models.keyedvectors.Vocab at 0x7fa381b1cb00>,\n",
              " 'paying': <gensim.models.keyedvectors.Vocab at 0x7fa381b1cb38>,\n",
              " 'our': <gensim.models.keyedvectors.Vocab at 0x7fa381b1cb70>,\n",
              " 'They': <gensim.models.keyedvectors.Vocab at 0x7fa381b1cba8>,\n",
              " 'into': <gensim.models.keyedvectors.Vocab at 0x7fa381b1cbe0>,\n",
              " 'stable': <gensim.models.keyedvectors.Vocab at 0x7fa381b1cc18>,\n",
              " 'You': <gensim.models.keyedvectors.Vocab at 0x7fa381b1cc50>,\n",
              " 'already': <gensim.models.keyedvectors.Vocab at 0x7fa381b1cc88>,\n",
              " 'talked': <gensim.models.keyedvectors.Vocab at 0x7fa381b1ccc0>,\n",
              " 'night': <gensim.models.keyedvectors.Vocab at 0x7fa381b1ccf8>,\n",
              " 'may': <gensim.models.keyedvectors.Vocab at 0x7fa381b1cd30>,\n",
              " 'because': <gensim.models.keyedvectors.Vocab at 0x7fa381b1cd68>,\n",
              " 'doubt': <gensim.models.keyedvectors.Vocab at 0x7fa381b1cda0>,\n",
              " 'whether': <gensim.models.keyedvectors.Vocab at 0x7fa381b1cdd8>,\n",
              " 'take': <gensim.models.keyedvectors.Vocab at 0x7fa381b1ce10>,\n",
              " 'anywhere': <gensim.models.keyedvectors.Vocab at 0x7fa381b1ce48>,\n",
              " 'else': <gensim.models.keyedvectors.Vocab at 0x7fa381b1ce80>,\n",
              " 'That': <gensim.models.keyedvectors.Vocab at 0x7fa381b1cef0>,\n",
              " 'got': <gensim.models.keyedvectors.Vocab at 0x7fa381b1cf28>,\n",
              " 'Hannah': <gensim.models.keyedvectors.Vocab at 0x7fa381b1cf60>,\n",
              " 'Nobody': <gensim.models.keyedvectors.Vocab at 0x7fa381b1cf98>,\n",
              " 'mentioned': <gensim.models.keyedvectors.Vocab at 0x7fa381b1cfd0>,\n",
              " 'glad': <gensim.models.keyedvectors.Vocab at 0x7fa381a9d7f0>,\n",
              " 'lucky': <gensim.models.keyedvectors.Vocab at 0x7fa381a9d860>,\n",
              " 'slighted': <gensim.models.keyedvectors.Vocab at 0x7fa381a9d898>,\n",
              " 'upon': <gensim.models.keyedvectors.Vocab at 0x7fa381a9d8d0>,\n",
              " 'account': <gensim.models.keyedvectors.Vocab at 0x7fa381a9d908>,\n",
              " 'make': <gensim.models.keyedvectors.Vocab at 0x7fa381a9d940>,\n",
              " 'servant': <gensim.models.keyedvectors.Vocab at 0x7fa381a9d978>,\n",
              " 'pretty': <gensim.models.keyedvectors.Vocab at 0x7fa381a9d9b0>,\n",
              " 'spoken': <gensim.models.keyedvectors.Vocab at 0x7fa381a9d9e8>,\n",
              " 'girl': <gensim.models.keyedvectors.Vocab at 0x7fa381a9da20>,\n",
              " 'opinion': <gensim.models.keyedvectors.Vocab at 0x7fa381a9da58>,\n",
              " 'Whenever': <gensim.models.keyedvectors.Vocab at 0x7fa381a9da90>,\n",
              " 'asks': <gensim.models.keyedvectors.Vocab at 0x7fa381a9db00>,\n",
              " 'me': <gensim.models.keyedvectors.Vocab at 0x7fa381a9db38>,\n",
              " 'do': <gensim.models.keyedvectors.Vocab at 0x7fa381a9db70>,\n",
              " 'manner': <gensim.models.keyedvectors.Vocab at 0x7fa381a9dba8>,\n",
              " 'needlework': <gensim.models.keyedvectors.Vocab at 0x7fa381a9dbe0>,\n",
              " 'observe': <gensim.models.keyedvectors.Vocab at 0x7fa381a9dc18>,\n",
              " 'turns': <gensim.models.keyedvectors.Vocab at 0x7fa381a9dc50>,\n",
              " 'lock': <gensim.models.keyedvectors.Vocab at 0x7fa381a9dc88>,\n",
              " 'door': <gensim.models.keyedvectors.Vocab at 0x7fa381a9dcc0>,\n",
              " 'right': <gensim.models.keyedvectors.Vocab at 0x7fa381a9dcf8>,\n",
              " 'comfort': <gensim.models.keyedvectors.Vocab at 0x7fa381a9dd30>,\n",
              " 'somebody': <gensim.models.keyedvectors.Vocab at 0x7fa381a9dda0>,\n",
              " 'about': <gensim.models.keyedvectors.Vocab at 0x7fa381a9ddd8>,\n",
              " 'goes': <gensim.models.keyedvectors.Vocab at 0x7fa381a9de10>,\n",
              " 'hearing': <gensim.models.keyedvectors.Vocab at 0x7fa381a9de48>,\n",
              " 'tell': <gensim.models.keyedvectors.Vocab at 0x7fa381a9de80>,\n",
              " 'spared': <gensim.models.keyedvectors.Vocab at 0x7fa381a9deb8>,\n",
              " 'exertions': <gensim.models.keyedvectors.Vocab at 0x7fa381a9def0>,\n",
              " 'maintain': <gensim.models.keyedvectors.Vocab at 0x7fa381a9df28>,\n",
              " 'flow': <gensim.models.keyedvectors.Vocab at 0x7fa381a9df60>,\n",
              " 'ideas': <gensim.models.keyedvectors.Vocab at 0x7fa381a9df98>,\n",
              " 'hoped': <gensim.models.keyedvectors.Vocab at 0x7fa381a9dfd0>,\n",
              " 'help': <gensim.models.keyedvectors.Vocab at 0x7fa381a9d048>,\n",
              " 'tolerably': <gensim.models.keyedvectors.Vocab at 0x7fa381a9d080>,\n",
              " 'attacked': <gensim.models.keyedvectors.Vocab at 0x7fa381a9d0b8>,\n",
              " 'regrets': <gensim.models.keyedvectors.Vocab at 0x7fa381a9d0f0>,\n",
              " 'table': <gensim.models.keyedvectors.Vocab at 0x7fa381a9d128>,\n",
              " 'placed': <gensim.models.keyedvectors.Vocab at 0x7fa381a9d160>,\n",
              " 'visitor': <gensim.models.keyedvectors.Vocab at 0x7fa381a9d198>,\n",
              " 'immediately': <gensim.models.keyedvectors.Vocab at 0x7fa381a9d1d0>,\n",
              " 'afterwards': <gensim.models.keyedvectors.Vocab at 0x7fa381a9d208>,\n",
              " 'walked': <gensim.models.keyedvectors.Vocab at 0x7fa381a9d240>,\n",
              " 'unnecessary': <gensim.models.keyedvectors.Vocab at 0x7fa381a9d278>,\n",
              " 'Knightley': <gensim.models.keyedvectors.Vocab at 0x7fa381a9d2b0>,\n",
              " 'sensible': <gensim.models.keyedvectors.Vocab at 0x7fa381a9d2e8>,\n",
              " 'eight': <gensim.models.keyedvectors.Vocab at 0x7fa381a9d320>,\n",
              " 'thirty': <gensim.models.keyedvectors.Vocab at 0x7fa381a9d358>,\n",
              " 'intimate': <gensim.models.keyedvectors.Vocab at 0x7fa381a9d390>,\n",
              " 'connected': <gensim.models.keyedvectors.Vocab at 0x7fa381a9d3c8>,\n",
              " 'elder': <gensim.models.keyedvectors.Vocab at 0x7fa381a9d400>,\n",
              " 'brother': <gensim.models.keyedvectors.Vocab at 0x7fa381a9d438>,\n",
              " 'frequent': <gensim.models.keyedvectors.Vocab at 0x7fa381a9d470>,\n",
              " 'welcome': <gensim.models.keyedvectors.Vocab at 0x7fa381a9d4a8>,\n",
              " 'directly': <gensim.models.keyedvectors.Vocab at 0x7fa381a9d4e0>,\n",
              " 'mutual': <gensim.models.keyedvectors.Vocab at 0x7fa381a9d518>,\n",
              " 'connexions': <gensim.models.keyedvectors.Vocab at 0x7fa381a9d550>,\n",
              " 'returned': <gensim.models.keyedvectors.Vocab at 0x7fa381a9d588>,\n",
              " 'late': <gensim.models.keyedvectors.Vocab at 0x7fa381a9d5c0>,\n",
              " 'days': <gensim.models.keyedvectors.Vocab at 0x7fa381a9d5f8>,\n",
              " 'absence': <gensim.models.keyedvectors.Vocab at 0x7fa381a9d630>,\n",
              " 'Brunswick': <gensim.models.keyedvectors.Vocab at 0x7fa381a9d668>,\n",
              " 'Square': <gensim.models.keyedvectors.Vocab at 0x7fa381a9d6a0>,\n",
              " 'circumstance': <gensim.models.keyedvectors.Vocab at 0x7fa381a9d6d8>,\n",
              " 'animated': <gensim.models.keyedvectors.Vocab at 0x7fa381a9d710>,\n",
              " 'inquiries': <gensim.models.keyedvectors.Vocab at 0x7fa381a9d748>,\n",
              " 'answered': <gensim.models.keyedvectors.Vocab at 0x7fa381a9d780>,\n",
              " 'When': <gensim.models.keyedvectors.Vocab at 0x7fa381a9d7b8>,\n",
              " 'gratefully': <gensim.models.keyedvectors.Vocab at 0x7fa381b47240>,\n",
              " 'observed': <gensim.models.keyedvectors.Vocab at 0x7fa381b470f0>,\n",
              " 'come': <gensim.models.keyedvectors.Vocab at 0x7fa381b470b8>,\n",
              " 'out': <gensim.models.keyedvectors.Vocab at 0x7fa381b47198>,\n",
              " 'call': <gensim.models.keyedvectors.Vocab at 0x7fa381b47278>,\n",
              " 'afraid': <gensim.models.keyedvectors.Vocab at 0x7fa381b47358>,\n",
              " 'shocking': <gensim.models.keyedvectors.Vocab at 0x7fa381b472e8>,\n",
              " 'Not': <gensim.models.keyedvectors.Vocab at 0x7fa381b47160>,\n",
              " 'sir': <gensim.models.keyedvectors.Vocab at 0x7fa381b47320>,\n",
              " 'beautiful': <gensim.models.keyedvectors.Vocab at 0x7fa381b47128>,\n",
              " 'moonlight': <gensim.models.keyedvectors.Vocab at 0x7fa381b47390>,\n",
              " 'mild': <gensim.models.keyedvectors.Vocab at 0x7fa381b473c8>,\n",
              " 'draw': <gensim.models.keyedvectors.Vocab at 0x7fa381b47470>,\n",
              " 'back': <gensim.models.keyedvectors.Vocab at 0x7fa381b474a8>,\n",
              " 'fire': <gensim.models.keyedvectors.Vocab at 0x7fa381b474e0>,\n",
              " 'found': <gensim.models.keyedvectors.Vocab at 0x7fa381b47518>,\n",
              " 'damp': <gensim.models.keyedvectors.Vocab at 0x7fa381b47550>,\n",
              " 'dirty': <gensim.models.keyedvectors.Vocab at 0x7fa381b47588>,\n",
              " 'catch': <gensim.models.keyedvectors.Vocab at 0x7fa381b47630>,\n",
              " 'cold': <gensim.models.keyedvectors.Vocab at 0x7fa381b47668>,\n",
              " 'Look': <gensim.models.keyedvectors.Vocab at 0x7fa381b476a0>,\n",
              " 'shoes': <gensim.models.keyedvectors.Vocab at 0x7fa381b476d8>,\n",
              " 'Well': <gensim.models.keyedvectors.Vocab at 0x7fa381b47710>,\n",
              " 'quite': <gensim.models.keyedvectors.Vocab at 0x7fa381b477b8>,\n",
              " 'surprising': <gensim.models.keyedvectors.Vocab at 0x7fa381b477f0>,\n",
              " 'vast': <gensim.models.keyedvectors.Vocab at 0x7fa381b47860>,\n",
              " 'rain': <gensim.models.keyedvectors.Vocab at 0x7fa381b47898>,\n",
              " 'rained': <gensim.models.keyedvectors.Vocab at 0x7fa381b478d0>,\n",
              " 'dreadfully': <gensim.models.keyedvectors.Vocab at 0x7fa381b47908>,\n",
              " 'hard': <gensim.models.keyedvectors.Vocab at 0x7fa381b47940>,\n",
              " 'breakfast': <gensim.models.keyedvectors.Vocab at 0x7fa381b47978>,\n",
              " 'wanted': <gensim.models.keyedvectors.Vocab at 0x7fa381b479b0>,\n",
              " 'By': <gensim.models.keyedvectors.Vocab at 0x7fa381b479e8>,\n",
              " 'bye': <gensim.models.keyedvectors.Vocab at 0x7fa381b47a20>,\n",
              " 'joy': <gensim.models.keyedvectors.Vocab at 0x7fa381b47a58>,\n",
              " 'Being': <gensim.models.keyedvectors.Vocab at 0x7fa381b47a90>,\n",
              " 'sort': <gensim.models.keyedvectors.Vocab at 0x7fa381b47b38>,\n",
              " 'feeling': <gensim.models.keyedvectors.Vocab at 0x7fa381b47ba8>,\n",
              " 'hurry': <gensim.models.keyedvectors.Vocab at 0x7fa381b47c18>,\n",
              " 'congratulations': <gensim.models.keyedvectors.Vocab at 0x7fa381b47c50>,\n",
              " 'hope': <gensim.models.keyedvectors.Vocab at 0x7fa381b47c88>,\n",
              " 'went': <gensim.models.keyedvectors.Vocab at 0x7fa381b47cc0>,\n",
              " 'behave': <gensim.models.keyedvectors.Vocab at 0x7fa381b47d30>,\n",
              " 'Who': <gensim.models.keyedvectors.Vocab at 0x7fa381b47d68>,\n",
              " 'cried': <gensim.models.keyedvectors.Vocab at 0x7fa381b47da0>,\n",
              " 'Ah': <gensim.models.keyedvectors.Vocab at 0x7fa381b47e10>,\n",
              " 'Tis': <gensim.models.keyedvectors.Vocab at 0x7fa381b47e48>,\n",
              " 'business': <gensim.models.keyedvectors.Vocab at 0x7fa381b47e80>,\n",
              " 'please': <gensim.models.keyedvectors.Vocab at 0x7fa381b47ef0>,\n",
              " 'possibly': <gensim.models.keyedvectors.Vocab at 0x7fa381b47f60>,\n",
              " '`': <gensim.models.keyedvectors.Vocab at 0x7fa381b47f98>,\n",
              " \".'\": <gensim.models.keyedvectors.Vocab at 0x7fa381b47fd0>,\n",
              " 'regard': <gensim.models.keyedvectors.Vocab at 0x7fa381b47048>,\n",
              " 'comes': <gensim.models.keyedvectors.Vocab at 0x7fa381b47080>,\n",
              " 'question': <gensim.models.keyedvectors.Vocab at 0x7fa381aa2048>,\n",
              " 'dependence': <gensim.models.keyedvectors.Vocab at 0x7fa381aa2080>,\n",
              " 'independence': <gensim.models.keyedvectors.Vocab at 0x7fa381aa20b8>,\n",
              " 'At': <gensim.models.keyedvectors.Vocab at 0x7fa381aa20f0>,\n",
              " 'rate': <gensim.models.keyedvectors.Vocab at 0x7fa381aa2128>,\n",
              " 'better': <gensim.models.keyedvectors.Vocab at 0x7fa381aa2160>,\n",
              " '_one_': <gensim.models.keyedvectors.Vocab at 0x7fa381aa2198>,\n",
              " 'those': <gensim.models.keyedvectors.Vocab at 0x7fa381aa21d0>,\n",
              " 'fanciful': <gensim.models.keyedvectors.Vocab at 0x7fa381aa2208>,\n",
              " 'troublesome': <gensim.models.keyedvectors.Vocab at 0x7fa381aa2240>,\n",
              " 'creature': <gensim.models.keyedvectors.Vocab at 0x7fa381aa2278>,\n",
              " 'playfully': <gensim.models.keyedvectors.Vocab at 0x7fa381aa22b0>,\n",
              " 'head': <gensim.models.keyedvectors.Vocab at 0x7fa381aa22e8>,\n",
              " 'certainly': <gensim.models.keyedvectors.Vocab at 0x7fa381aa2320>,\n",
              " 'believe': <gensim.models.keyedvectors.Vocab at 0x7fa381aa2358>,\n",
              " ',\"': <gensim.models.keyedvectors.Vocab at 0x7fa381aa2390>,\n",
              " 'sometimes': <gensim.models.keyedvectors.Vocab at 0x7fa381aa23c8>,\n",
              " 'dearest': <gensim.models.keyedvectors.Vocab at 0x7fa381aa2400>,\n",
              " 'mean': <gensim.models.keyedvectors.Vocab at 0x7fa381aa2438>,\n",
              " '_you_': <gensim.models.keyedvectors.Vocab at 0x7fa381aa2470>,\n",
              " 'horrible': <gensim.models.keyedvectors.Vocab at 0x7fa381aa24a8>,\n",
              " 'idea': <gensim.models.keyedvectors.Vocab at 0x7fa381aa2518>,\n",
              " 'Oh': <gensim.models.keyedvectors.Vocab at 0x7fa381aa2550>,\n",
              " 'meant': <gensim.models.keyedvectors.Vocab at 0x7fa381aa2588>,\n",
              " 'myself': <gensim.models.keyedvectors.Vocab at 0x7fa381aa25c0>,\n",
              " 'loves': <gensim.models.keyedvectors.Vocab at 0x7fa381aa25f8>,\n",
              " 'joke': <gensim.models.keyedvectors.Vocab at 0x7fa381aa2630>,\n",
              " 'another': <gensim.models.keyedvectors.Vocab at 0x7fa381aa2668>,\n",
              " 'fact': <gensim.models.keyedvectors.Vocab at 0x7fa381aa26a0>,\n",
              " 'faults': <gensim.models.keyedvectors.Vocab at 0x7fa381aa26d8>,\n",
              " 'told': <gensim.models.keyedvectors.Vocab at 0x7fa381aa2710>,\n",
              " 'agreeable': <gensim.models.keyedvectors.Vocab at 0x7fa381aa2780>,\n",
              " 'knew': <gensim.models.keyedvectors.Vocab at 0x7fa381aa27b8>,\n",
              " 'suspect': <gensim.models.keyedvectors.Vocab at 0x7fa381aa27f0>,\n",
              " 'knows': <gensim.models.keyedvectors.Vocab at 0x7fa381aa2828>,\n",
              " 'flatter': <gensim.models.keyedvectors.Vocab at 0x7fa381aa2860>,\n",
              " 'reflection': <gensim.models.keyedvectors.Vocab at 0x7fa381aa2898>,\n",
              " 'has': <gensim.models.keyedvectors.Vocab at 0x7fa381aa28d0>,\n",
              " 'persons': <gensim.models.keyedvectors.Vocab at 0x7fa381aa2908>,\n",
              " 'chances': <gensim.models.keyedvectors.Vocab at 0x7fa381aa2940>,\n",
              " 'willing': <gensim.models.keyedvectors.Vocab at 0x7fa381aa2978>,\n",
              " 'let': <gensim.models.keyedvectors.Vocab at 0x7fa381aa29b0>,\n",
              " 'pass': <gensim.models.keyedvectors.Vocab at 0x7fa381aa29e8>,\n",
              " '--\"': <gensim.models.keyedvectors.Vocab at 0x7fa381aa2a20>,\n",
              " 'hear': <gensim.models.keyedvectors.Vocab at 0x7fa381aa2a58>,\n",
              " 'behaved': <gensim.models.keyedvectors.Vocab at 0x7fa381aa2a90>,\n",
              " 'charmingly': <gensim.models.keyedvectors.Vocab at 0x7fa381aa2ac8>,\n",
              " 'Every': <gensim.models.keyedvectors.Vocab at 0x7fa381aa2b00>,\n",
              " 'punctual': <gensim.models.keyedvectors.Vocab at 0x7fa381aa2b38>,\n",
              " 'looks': <gensim.models.keyedvectors.Vocab at 0x7fa381aa2b70>,\n",
              " 'tear': <gensim.models.keyedvectors.Vocab at 0x7fa381aa2ba8>,\n",
              " 'face': <gensim.models.keyedvectors.Vocab at 0x7fa381aa2be0>,\n",
              " 'seen': <gensim.models.keyedvectors.Vocab at 0x7fa381aa2c18>,\n",
              " 'apart': <gensim.models.keyedvectors.Vocab at 0x7fa381aa2c50>,\n",
              " 'Dear': <gensim.models.keyedvectors.Vocab at 0x7fa381aa2c88>,\n",
              " 'bears': <gensim.models.keyedvectors.Vocab at 0x7fa381aa2cc0>,\n",
              " 'sorry': <gensim.models.keyedvectors.Vocab at 0x7fa381aa2cf8>,\n",
              " 'lose': <gensim.models.keyedvectors.Vocab at 0x7fa381aa2d30>,\n",
              " 'miss': <gensim.models.keyedvectors.Vocab at 0x7fa381aa2d68>,\n",
              " 'thinks': <gensim.models.keyedvectors.Vocab at 0x7fa381aa2da0>,\n",
              " 'turned': <gensim.models.keyedvectors.Vocab at 0x7fa381aa2dd8>,\n",
              " 'divided': <gensim.models.keyedvectors.Vocab at 0x7fa381aa2e10>,\n",
              " 'tears': <gensim.models.keyedvectors.Vocab at 0x7fa381aa2e48>,\n",
              " 'smiles': <gensim.models.keyedvectors.Vocab at 0x7fa381aa2e80>,\n",
              " 'should': <gensim.models.keyedvectors.Vocab at 0x7fa381aa2eb8>,\n",
              " 'acceptable': <gensim.models.keyedvectors.Vocab at 0x7fa381aa2ef0>,\n",
              " 'important': <gensim.models.keyedvectors.Vocab at 0x7fa381aa2f28>,\n",
              " 'secure': <gensim.models.keyedvectors.Vocab at 0x7fa381aa2f60>,\n",
              " 'provision': <gensim.models.keyedvectors.Vocab at 0x7fa381aa2f98>,\n",
              " 'therefore': <gensim.models.keyedvectors.Vocab at 0x7fa381aa2fd0>,\n",
              " 'allow': <gensim.models.keyedvectors.Vocab at 0x7fa381aa3048>,\n",
              " 'pain': <gensim.models.keyedvectors.Vocab at 0x7fa381aa3080>,\n",
              " 'happily': <gensim.models.keyedvectors.Vocab at 0x7fa381aa30b8>,\n",
              " 'forgotten': <gensim.models.keyedvectors.Vocab at 0x7fa381aa30f0>,\n",
              " 'matter': <gensim.models.keyedvectors.Vocab at 0x7fa381aa3128>,\n",
              " 'considerable': <gensim.models.keyedvectors.Vocab at 0x7fa381aa3160>,\n",
              " 'four': <gensim.models.keyedvectors.Vocab at 0x7fa381aa3198>,\n",
              " 'proved': <gensim.models.keyedvectors.Vocab at 0x7fa381aa31d0>,\n",
              " 'marry': <gensim.models.keyedvectors.Vocab at 0x7fa381aa3208>,\n",
              " 'shook': <gensim.models.keyedvectors.Vocab at 0x7fa381aa3240>,\n",
              " 'fondly': <gensim.models.keyedvectors.Vocab at 0x7fa381aa3278>,\n",
              " 'replied': <gensim.models.keyedvectors.Vocab at 0x7fa381aa32b0>,\n",
              " 'matches': <gensim.models.keyedvectors.Vocab at 0x7fa381aa32e8>,\n",
              " 'foretell': <gensim.models.keyedvectors.Vocab at 0x7fa381aa3320>,\n",
              " 'whatever': <gensim.models.keyedvectors.Vocab at 0x7fa381aa3358>,\n",
              " 'Pray': <gensim.models.keyedvectors.Vocab at 0x7fa381aa3390>,\n",
              " 'none': <gensim.models.keyedvectors.Vocab at 0x7fa381aa33c8>,\n",
              " 'greatest': <gensim.models.keyedvectors.Vocab at 0x7fa381aa3400>,\n",
              " 'amusement': <gensim.models.keyedvectors.Vocab at 0x7fa381aa3438>,\n",
              " 'success': <gensim.models.keyedvectors.Vocab at 0x7fa381aa3470>,\n",
              " 'widower': <gensim.models.keyedvectors.Vocab at 0x7fa381aa34a8>,\n",
              " 'perfectly': <gensim.models.keyedvectors.Vocab at 0x7fa381aa34e0>,\n",
              " 'constantly': <gensim.models.keyedvectors.Vocab at 0x7fa381aa3518>,\n",
              " 'occupied': <gensim.models.keyedvectors.Vocab at 0x7fa381aa3550>,\n",
              " 'either': <gensim.models.keyedvectors.Vocab at 0x7fa381aa3588>,\n",
              " 'friends': <gensim.models.keyedvectors.Vocab at 0x7fa381aa35c0>,\n",
              " 'wherever': <gensim.models.keyedvectors.Vocab at 0x7fa381aa35f8>,\n",
              " 'need': <gensim.models.keyedvectors.Vocab at 0x7fa381aa3630>,\n",
              " 'spend': <gensim.models.keyedvectors.Vocab at 0x7fa381aa3668>,\n",
              " 'single': <gensim.models.keyedvectors.Vocab at 0x7fa381aa36a0>,\n",
              " 'year': <gensim.models.keyedvectors.Vocab at 0x7fa381aa36d8>,\n",
              " 'alone': <gensim.models.keyedvectors.Vocab at 0x7fa381aa3710>,\n",
              " 'Some': <gensim.models.keyedvectors.Vocab at 0x7fa381aa3748>,\n",
              " 'others': <gensim.models.keyedvectors.Vocab at 0x7fa381aa3780>,\n",
              " 'son': <gensim.models.keyedvectors.Vocab at 0x7fa381aa37b8>,\n",
              " 'uncle': <gensim.models.keyedvectors.Vocab at 0x7fa381aa37f0>,\n",
              " 'letting': <gensim.models.keyedvectors.Vocab at 0x7fa381aa3828>,\n",
              " 'solemn': <gensim.models.keyedvectors.Vocab at 0x7fa381aa3860>,\n",
              " 'nonsense': <gensim.models.keyedvectors.Vocab at 0x7fa381aa3898>,\n",
              " 'subject': <gensim.models.keyedvectors.Vocab at 0x7fa381aa38d0>,\n",
              " 'believed': <gensim.models.keyedvectors.Vocab at 0x7fa381aa3908>,\n",
              " 'Ever': <gensim.models.keyedvectors.Vocab at 0x7fa381aa3940>,\n",
              " 'since': <gensim.models.keyedvectors.Vocab at 0x7fa381aa3978>,\n",
              " 'met': <gensim.models.keyedvectors.Vocab at 0x7fa381aa39b0>,\n",
              " 'Broadway': <gensim.models.keyedvectors.Vocab at 0x7fa381aa39e8>,\n",
              " 'Lane': <gensim.models.keyedvectors.Vocab at 0x7fa381aa3a20>,\n",
              " 'began': <gensim.models.keyedvectors.Vocab at 0x7fa381aa3a58>,\n",
              " 'darted': <gensim.models.keyedvectors.Vocab at 0x7fa381aa3a90>,\n",
              " 'gallantry': <gensim.models.keyedvectors.Vocab at 0x7fa381aa3ac8>,\n",
              " 'borrowed': <gensim.models.keyedvectors.Vocab at 0x7fa381aa3b00>,\n",
              " 'Farmer': <gensim.models.keyedvectors.Vocab at 0x7fa381aa3b38>,\n",
              " 'planned': <gensim.models.keyedvectors.Vocab at 0x7fa381aa3b70>,\n",
              " 'blessed': <gensim.models.keyedvectors.Vocab at 0x7fa381aa3ba8>,\n",
              " 'instance': <gensim.models.keyedvectors.Vocab at 0x7fa381aa3be0>,\n",
              " 'leave': <gensim.models.keyedvectors.Vocab at 0x7fa381aa3c18>,\n",
              " 'making': <gensim.models.keyedvectors.Vocab at 0x7fa381aa3c50>,\n",
              " 'understand': <gensim.models.keyedvectors.Vocab at 0x7fa381aa3c88>,\n",
              " ',\\'\"': <gensim.models.keyedvectors.Vocab at 0x7fa381aa3cc0>,\n",
              " 'supposes': <gensim.models.keyedvectors.Vocab at 0x7fa381aa3cf8>,\n",
              " 'endeavour': <gensim.models.keyedvectors.Vocab at 0x7fa381aa3d30>,\n",
              " 'Your': <gensim.models.keyedvectors.Vocab at 0x7fa381aa3d68>,\n",
              " 'properly': <gensim.models.keyedvectors.Vocab at 0x7fa381aa3da0>,\n",
              " 'delicately': <gensim.models.keyedvectors.Vocab at 0x7fa381aa3dd8>,\n",
              " 'endeavouring': <gensim.models.keyedvectors.Vocab at 0x7fa381aa3e48>,\n",
              " 'bring': <gensim.models.keyedvectors.Vocab at 0x7fa381aa3eb8>,\n",
              " 'worthy': <gensim.models.keyedvectors.Vocab at 0x7fa381aa3ef0>,\n",
              " 'employment': <gensim.models.keyedvectors.Vocab at 0x7fa381aa3f28>,\n",
              " 'young': <gensim.models.keyedvectors.Vocab at 0x7fa381aa3f60>,\n",
              " 'lady': <gensim.models.keyedvectors.Vocab at 0x7fa381aa3f98>,\n",
              " 'imagine': <gensim.models.keyedvectors.Vocab at 0x7fa381aa3fd0>,\n",
              " 'planning': <gensim.models.keyedvectors.Vocab at 0x7fa381aa4048>,\n",
              " 'saying': <gensim.models.keyedvectors.Vocab at 0x7fa381aa4080>,\n",
              " 'yourself': <gensim.models.keyedvectors.Vocab at 0x7fa381aa40b8>,\n",
              " 'idle': <gensim.models.keyedvectors.Vocab at 0x7fa381aa40f0>,\n",
              " \",'\": <gensim.models.keyedvectors.Vocab at 0x7fa381aa4128>,\n",
              " 'why': <gensim.models.keyedvectors.Vocab at 0x7fa381aa4160>,\n",
              " 'talk': <gensim.models.keyedvectors.Vocab at 0x7fa381aa4198>,\n",
              " 'Where': <gensim.models.keyedvectors.Vocab at 0x7fa381aa41d0>,\n",
              " 'merit': <gensim.models.keyedvectors.Vocab at 0x7fa381aa4208>,\n",
              " 'proud': <gensim.models.keyedvectors.Vocab at 0x7fa381aa4240>,\n",
              " 'guess': <gensim.models.keyedvectors.Vocab at 0x7fa381aa4278>,\n",
              " '_that_': <gensim.models.keyedvectors.Vocab at 0x7fa381aa42b0>,\n",
              " 'can': <gensim.models.keyedvectors.Vocab at 0x7fa381aa42e8>,\n",
              " 'known': <gensim.models.keyedvectors.Vocab at 0x7fa381aa4320>,\n",
              " 'triumph': <gensim.models.keyedvectors.Vocab at 0x7fa381aa4358>,\n",
              " 'cleverer': <gensim.models.keyedvectors.Vocab at 0x7fa381aa4390>,\n",
              " 'depend': <gensim.models.keyedvectors.Vocab at 0x7fa381aa43c8>,\n",
              " 'merely': <gensim.models.keyedvectors.Vocab at 0x7fa381aa4400>,\n",
              " 'luck': <gensim.models.keyedvectors.Vocab at 0x7fa381aa4438>,\n",
              " 'There': <gensim.models.keyedvectors.Vocab at 0x7fa381aa4470>,\n",
              " 'talent': <gensim.models.keyedvectors.Vocab at 0x7fa381aa44a8>,\n",
              " 'word': <gensim.models.keyedvectors.Vocab at 0x7fa381aa44e0>,\n",
              " 'quarrel': <gensim.models.keyedvectors.Vocab at 0x7fa381aa4518>,\n",
              " 'claim': <gensim.models.keyedvectors.Vocab at 0x7fa381aa4550>,\n",
              " 'drawn': <gensim.models.keyedvectors.Vocab at 0x7fa381aa4588>,\n",
              " 'pictures': <gensim.models.keyedvectors.Vocab at 0x7fa381aa45c0>,\n",
              " 'something': <gensim.models.keyedvectors.Vocab at 0x7fa381aa45f8>,\n",
              " 'nothing': <gensim.models.keyedvectors.Vocab at 0x7fa381aa4630>,\n",
              " 'If': <gensim.models.keyedvectors.Vocab at 0x7fa381aa4668>,\n",
              " 'visits': <gensim.models.keyedvectors.Vocab at 0x7fa381aa46d8>,\n",
              " 'given': <gensim.models.keyedvectors.Vocab at 0x7fa381aa4710>,\n",
              " 'smoothed': <gensim.models.keyedvectors.Vocab at 0x7fa381aa4748>,\n",
              " 'matters': <gensim.models.keyedvectors.Vocab at 0x7fa381aa4780>,\n",
              " 'enough': <gensim.models.keyedvectors.Vocab at 0x7fa381aa47b8>,\n",
              " 'comprehend': <gensim.models.keyedvectors.Vocab at 0x7fa381aa47f0>,\n",
              " 'open': <gensim.models.keyedvectors.Vocab at 0x7fa381aa4828>,\n",
              " 'hearted': <gensim.models.keyedvectors.Vocab at 0x7fa381aa4860>,\n",
              " 'unaffected': <gensim.models.keyedvectors.Vocab at 0x7fa381aa4898>,\n",
              " 'safely': <gensim.models.keyedvectors.Vocab at 0x7fa381aa48d0>,\n",
              " 'manage': <gensim.models.keyedvectors.Vocab at 0x7fa381aa4908>,\n",
              " 'likely': <gensim.models.keyedvectors.Vocab at 0x7fa381aa4940>,\n",
              " 'harm': <gensim.models.keyedvectors.Vocab at 0x7fa381aa4978>,\n",
              " 'interference': <gensim.models.keyedvectors.Vocab at 0x7fa381aa49b0>,\n",
              " 'rejoined': <gensim.models.keyedvectors.Vocab at 0x7fa381aa49e8>,\n",
              " 'understanding': <gensim.models.keyedvectors.Vocab at 0x7fa381aa4a20>,\n",
              " 'pray': <gensim.models.keyedvectors.Vocab at 0x7fa381aa4a90>,\n",
              " 'silly': <gensim.models.keyedvectors.Vocab at 0x7fa381aa4ac8>,\n",
              " 'break': <gensim.models.keyedvectors.Vocab at 0x7fa381aa4b00>,\n",
              " 'circle': <gensim.models.keyedvectors.Vocab at 0x7fa381aa4b38>,\n",
              " 'grievously': <gensim.models.keyedvectors.Vocab at 0x7fa381aa4b70>,\n",
              " 'Only': <gensim.models.keyedvectors.Vocab at 0x7fa381aa4ba8>,\n",
              " 'Elton': <gensim.models.keyedvectors.Vocab at 0x7fa381aa4be0>,\n",
              " ',--': <gensim.models.keyedvectors.Vocab at 0x7fa381aa4c18>,\n",
              " 'look': <gensim.models.keyedvectors.Vocab at 0x7fa381aa4c50>,\n",
              " 'whole': <gensim.models.keyedvectors.Vocab at 0x7fa381aa4c88>,\n",
              " 'fitted': <gensim.models.keyedvectors.Vocab at 0x7fa381aa4cc0>,\n",
              " 'comfortably': <gensim.models.keyedvectors.Vocab at 0x7fa381aa4cf8>,\n",
              " 'shame': <gensim.models.keyedvectors.Vocab at 0x7fa381aa4d30>,\n",
              " 'longer': <gensim.models.keyedvectors.Vocab at 0x7fa381aa4d68>,\n",
              " 'joining': <gensim.models.keyedvectors.Vocab at 0x7fa381aa4da0>,\n",
              " 'hands': <gensim.models.keyedvectors.Vocab at 0x7fa381aa4dd8>,\n",
              " 'same': <gensim.models.keyedvectors.Vocab at 0x7fa381aa4e10>,\n",
              " 'service': <gensim.models.keyedvectors.Vocab at 0x7fa381aa4e48>,\n",
              " 'shew': <gensim.models.keyedvectors.Vocab at 0x7fa381aa4e80>,\n",
              " 'attention': <gensim.models.keyedvectors.Vocab at 0x7fa381aa4eb8>,\n",
              " 'ask': <gensim.models.keyedvectors.Vocab at 0x7fa381aa4ef0>,\n",
              " 'dare': <gensim.models.keyedvectors.Vocab at 0x7fa381aa4f28>,\n",
              " 'With': <gensim.models.keyedvectors.Vocab at 0x7fa381aa4f60>,\n",
              " 'laughing': <gensim.models.keyedvectors.Vocab at 0x7fa381aa4f98>,\n",
              " 'fish': <gensim.models.keyedvectors.Vocab at 0x7fa381aa4fd0>,\n",
              " 'chicken': <gensim.models.keyedvectors.Vocab at 0x7fa381aa5048>,\n",
              " 'chuse': <gensim.models.keyedvectors.Vocab at 0x7fa381aa5080>,\n",
              " 'Depend': <gensim.models.keyedvectors.Vocab at 0x7fa381aa50b8>,\n",
              " 'six': <gensim.models.keyedvectors.Vocab at 0x7fa381aa50f0>,\n",
              " 'care': <gensim.models.keyedvectors.Vocab at 0x7fa381aa5128>,\n",
              " 'II': <gensim.models.keyedvectors.Vocab at 0x7fa381aa5160>,\n",
              " 'native': <gensim.models.keyedvectors.Vocab at 0x7fa381aa5198>,\n",
              " 'born': <gensim.models.keyedvectors.Vocab at 0x7fa381aa51d0>,\n",
              " 'respectable': <gensim.models.keyedvectors.Vocab at 0x7fa381aa5208>,\n",
              " 'generations': <gensim.models.keyedvectors.Vocab at 0x7fa381aa5240>,\n",
              " 'rising': <gensim.models.keyedvectors.Vocab at 0x7fa381aa5278>,\n",
              " 'gentility': <gensim.models.keyedvectors.Vocab at 0x7fa381aa52b0>,\n",
              " 'property': <gensim.models.keyedvectors.Vocab at 0x7fa381aa52e8>,\n",
              " 'received': <gensim.models.keyedvectors.Vocab at 0x7fa381aa5320>,\n",
              " 'education': <gensim.models.keyedvectors.Vocab at 0x7fa381aa5358>,\n",
              " 'succeeding': <gensim.models.keyedvectors.Vocab at 0x7fa381aa5390>,\n",
              " 'small': <gensim.models.keyedvectors.Vocab at 0x7fa381aa53c8>,\n",
              " 'become': <gensim.models.keyedvectors.Vocab at 0x7fa381aa5400>,\n",
              " 'indisposed': <gensim.models.keyedvectors.Vocab at 0x7fa381aa5438>,\n",
              " 'homely': <gensim.models.keyedvectors.Vocab at 0x7fa381aa5470>,\n",
              " 'pursuits': <gensim.models.keyedvectors.Vocab at 0x7fa381aa54a8>,\n",
              " 'brothers': <gensim.models.keyedvectors.Vocab at 0x7fa381aa54e0>,\n",
              " 'engaged': <gensim.models.keyedvectors.Vocab at 0x7fa381aa5518>,\n",
              " 'satisfied': <gensim.models.keyedvectors.Vocab at 0x7fa381aa5550>,\n",
              " 'active': <gensim.models.keyedvectors.Vocab at 0x7fa381aa5588>,\n",
              " 'social': <gensim.models.keyedvectors.Vocab at 0x7fa381aa55c0>,\n",
              " 'entering': <gensim.models.keyedvectors.Vocab at 0x7fa381aa55f8>,\n",
              " 'militia': <gensim.models.keyedvectors.Vocab at 0x7fa381aa5630>,\n",
              " 'county': <gensim.models.keyedvectors.Vocab at 0x7fa381aa5668>,\n",
              " 'embodied': <gensim.models.keyedvectors.Vocab at 0x7fa381aa56a0>,\n",
              " 'Captain': <gensim.models.keyedvectors.Vocab at 0x7fa381aa56d8>,\n",
              " 'general': <gensim.models.keyedvectors.Vocab at 0x7fa381aa5710>,\n",
              " 'favourite': <gensim.models.keyedvectors.Vocab at 0x7fa381aa5748>,\n",
              " 'military': <gensim.models.keyedvectors.Vocab at 0x7fa381aa5780>,\n",
              " 'introduced': <gensim.models.keyedvectors.Vocab at 0x7fa381aa57b8>,\n",
              " 'Churchill': <gensim.models.keyedvectors.Vocab at 0x7fa381aa57f0>,\n",
              " 'Yorkshire': <gensim.models.keyedvectors.Vocab at 0x7fa381aa5828>,\n",
              " 'fell': <gensim.models.keyedvectors.Vocab at 0x7fa381aa5860>,\n",
              " 'love': <gensim.models.keyedvectors.Vocab at 0x7fa381aa5898>,\n",
              " 'surprized': <gensim.models.keyedvectors.Vocab at 0x7fa381aa58d0>,\n",
              " 'except': <gensim.models.keyedvectors.Vocab at 0x7fa381aa5908>,\n",
              " 'full': <gensim.models.keyedvectors.Vocab at 0x7fa381aa5940>,\n",
              " 'pride': <gensim.models.keyedvectors.Vocab at 0x7fa381aa5978>,\n",
              " 'importance': <gensim.models.keyedvectors.Vocab at 0x7fa381aa59b0>,\n",
              " 'connexion': <gensim.models.keyedvectors.Vocab at 0x7fa381aa59e8>,\n",
              " 'offend': <gensim.models.keyedvectors.Vocab at 0x7fa381aa5a20>,\n",
              " 'command': <gensim.models.keyedvectors.Vocab at 0x7fa381aa5a58>,\n",
              " 'bore': <gensim.models.keyedvectors.Vocab at 0x7fa381aa5a90>,\n",
              " 'proportion': <gensim.models.keyedvectors.Vocab at 0x7fa381aa5ac8>,\n",
              " 'estate': <gensim.models.keyedvectors.Vocab at 0x7fa381aa5b00>,\n",
              " 'took': <gensim.models.keyedvectors.Vocab at 0x7fa381aa5b70>,\n",
              " 'infinite': <gensim.models.keyedvectors.Vocab at 0x7fa381aa5ba8>,\n",
              " 'mortification': <gensim.models.keyedvectors.Vocab at 0x7fa381aa5be0>,\n",
              " 'threw': <gensim.models.keyedvectors.Vocab at 0x7fa381aa5c18>,\n",
              " 'due': <gensim.models.keyedvectors.Vocab at 0x7fa381aa5c50>,\n",
              " 'decorum': <gensim.models.keyedvectors.Vocab at 0x7fa381aa5c88>,\n",
              " 'unsuitable': <gensim.models.keyedvectors.Vocab at 0x7fa381aa5cc0>,\n",
              " 'produce': <gensim.models.keyedvectors.Vocab at 0x7fa381aa5cf8>,\n",
              " 'ought': <gensim.models.keyedvectors.Vocab at 0x7fa381aa5d30>,\n",
              " 'whose': <gensim.models.keyedvectors.Vocab at 0x7fa381aa5d68>,\n",
              " 'warm': <gensim.models.keyedvectors.Vocab at 0x7fa381aa5da0>,\n",
              " 'sweet': <gensim.models.keyedvectors.Vocab at 0x7fa381aa5dd8>,\n",
              " 'return': <gensim.models.keyedvectors.Vocab at 0x7fa381aa5e10>,\n",
              " 'goodness': <gensim.models.keyedvectors.Vocab at 0x7fa381aa5e48>,\n",
              " 'spirit': <gensim.models.keyedvectors.Vocab at 0x7fa381aa5e80>,\n",
              " 'resolution': <gensim.models.keyedvectors.Vocab at 0x7fa381aa5eb8>,\n",
              " 'pursue': <gensim.models.keyedvectors.Vocab at 0x7fa381aa5ef0>,\n",
              " 'refrain': <gensim.models.keyedvectors.Vocab at 0x7fa381aa5f28>,\n",
              " 'unreasonable': <gensim.models.keyedvectors.Vocab at 0x7fa381aa5f60>,\n",
              " 'anger': <gensim.models.keyedvectors.Vocab at 0x7fa381aa5f98>,\n",
              " 'missing': <gensim.models.keyedvectors.Vocab at 0x7fa381aa5fd0>,\n",
              " 'former': <gensim.models.keyedvectors.Vocab at 0x7fa381aa6048>,\n",
              " 'income': <gensim.models.keyedvectors.Vocab at 0x7fa381aa6080>,\n",
              " 'still': <gensim.models.keyedvectors.Vocab at 0x7fa381aa60b8>,\n",
              " 'comparison': <gensim.models.keyedvectors.Vocab at 0x7fa381aa60f0>,\n",
              " 'Enscombe': <gensim.models.keyedvectors.Vocab at 0x7fa381aa6128>,\n",
              " 'cease': <gensim.models.keyedvectors.Vocab at 0x7fa381aa6160>,\n",
              " 'once': <gensim.models.keyedvectors.Vocab at 0x7fa381aa6198>,\n",
              " 'considered': <gensim.models.keyedvectors.Vocab at 0x7fa381aa61d0>,\n",
              " 'especially': <gensim.models.keyedvectors.Vocab at 0x7fa381aa6208>,\n",
              " 'Churchills': <gensim.models.keyedvectors.Vocab at 0x7fa381aa6240>,\n",
              " 'amazing': <gensim.models.keyedvectors.Vocab at 0x7fa381aa6278>,\n",
              " 'worst': <gensim.models.keyedvectors.Vocab at 0x7fa381aa62b0>,\n",
              " 'bargain': <gensim.models.keyedvectors.Vocab at 0x7fa381aa62e8>,\n",
              " 'poorer': <gensim.models.keyedvectors.Vocab at 0x7fa381aa6320>,\n",
              " 'child': <gensim.models.keyedvectors.Vocab at 0x7fa381aa6358>,\n",
              " 'From': <gensim.models.keyedvectors.Vocab at 0x7fa381aa6390>,\n",
              " 'expense': <gensim.models.keyedvectors.Vocab at 0x7fa381aa63c8>,\n",
              " 'relieved': <gensim.models.keyedvectors.Vocab at 0x7fa381aa6400>,\n",
              " 'boy': <gensim.models.keyedvectors.Vocab at 0x7fa381aa6438>,\n",
              " 'additional': <gensim.models.keyedvectors.Vocab at 0x7fa381aa6470>,\n",
              " 'softening': <gensim.models.keyedvectors.Vocab at 0x7fa381aa64a8>,\n",
              " 'lingering': <gensim.models.keyedvectors.Vocab at 0x7fa381aa64e0>,\n",
              " 'illness': <gensim.models.keyedvectors.Vocab at 0x7fa381aa6518>,\n",
              " 'reconciliation': <gensim.models.keyedvectors.Vocab at 0x7fa381aa6550>,\n",
              " 'kindred': <gensim.models.keyedvectors.Vocab at 0x7fa381aa6588>,\n",
              " 'offered': <gensim.models.keyedvectors.Vocab at 0x7fa381aa65c0>,\n",
              " 'charge': <gensim.models.keyedvectors.Vocab at 0x7fa381aa65f8>,\n",
              " 'Frank': <gensim.models.keyedvectors.Vocab at 0x7fa381aa6630>,\n",
              " 'decease': <gensim.models.keyedvectors.Vocab at 0x7fa381aa6668>,\n",
              " 'scruples': <gensim.models.keyedvectors.Vocab at 0x7fa381aa66a0>,\n",
              " 'reluctance': <gensim.models.keyedvectors.Vocab at 0x7fa381aa66d8>,\n",
              " 'supposed': <gensim.models.keyedvectors.Vocab at 0x7fa381aa6710>,\n",
              " 'overcome': <gensim.models.keyedvectors.Vocab at 0x7fa381aa6748>,\n",
              " 'considerations': <gensim.models.keyedvectors.Vocab at 0x7fa381aa67b8>,\n",
              " 'wealth': <gensim.models.keyedvectors.Vocab at 0x7fa381aa67f0>,\n",
              " 'seek': <gensim.models.keyedvectors.Vocab at 0x7fa381aa6828>,\n",
              " 'improve': <gensim.models.keyedvectors.Vocab at 0x7fa381aa6860>,\n",
              " 'complete': <gensim.models.keyedvectors.Vocab at 0x7fa381aa6898>,\n",
              " 'became': <gensim.models.keyedvectors.Vocab at 0x7fa381aa68d0>,\n",
              " 'desirable': <gensim.models.keyedvectors.Vocab at 0x7fa381aa6908>,\n",
              " 'quitted': <gensim.models.keyedvectors.Vocab at 0x7fa381aa6940>,\n",
              " 'trade': <gensim.models.keyedvectors.Vocab at 0x7fa381aa6978>,\n",
              " 'established': <gensim.models.keyedvectors.Vocab at 0x7fa381aa69b0>,\n",
              " 'favourable': <gensim.models.keyedvectors.Vocab at 0x7fa381aa6a20>,\n",
              " ...}"
            ]
          },
          "metadata": {
            "tags": []
          },
          "execution_count": 21
        }
      ]
    },
    {
      "metadata": {
        "id": "PsarcarstVDG",
        "colab_type": "code",
        "colab": {
          "base_uri": "https://localhost:8080/",
          "height": 34
        },
        "outputId": "64595dd3-576e-4aac-a938-e023a6e1c61f"
      },
      "cell_type": "code",
      "source": [
        "len(model.wv.vocab)"
      ],
      "execution_count": 22,
      "outputs": [
        {
          "output_type": "execute_result",
          "data": {
            "text/plain": [
              "17011"
            ]
          },
          "metadata": {
            "tags": []
          },
          "execution_count": 22
        }
      ]
    },
    {
      "metadata": {
        "id": "U5_nifCitZZE",
        "colab_type": "code",
        "colab": {}
      },
      "cell_type": "code",
      "source": [
        "tsne = TSNE(n_components=2, n_iter=1000)"
      ],
      "execution_count": 0,
      "outputs": []
    },
    {
      "metadata": {
        "id": "o91HFbj3tyWJ",
        "colab_type": "code",
        "colab": {
          "base_uri": "https://localhost:8080/",
          "height": 71
        },
        "outputId": "d2a56239-0b8d-4e3f-9583-aeb05f3db88e"
      },
      "cell_type": "code",
      "source": [
        "X = model[model.wv.vocab]\n",
        "X_2d = tsne.fit_transform(X)"
      ],
      "execution_count": 24,
      "outputs": [
        {
          "output_type": "stream",
          "text": [
            "/usr/local/lib/python3.6/dist-packages/ipykernel_launcher.py:1: DeprecationWarning: Call to deprecated `__getitem__` (Method will be removed in 4.0.0, use self.wv.__getitem__() instead).\n",
            "  \"\"\"Entry point for launching an IPython kernel.\n"
          ],
          "name": "stderr"
        }
      ]
    },
    {
      "metadata": {
        "id": "TKgLA0EruD_f",
        "colab_type": "code",
        "colab": {
          "base_uri": "https://localhost:8080/",
          "height": 102
        },
        "outputId": "8494a555-cdef-4cdd-954e-1b3ea6446c61"
      },
      "cell_type": "code",
      "source": [
        "X_2d[0:5]"
      ],
      "execution_count": 25,
      "outputs": [
        {
          "output_type": "execute_result",
          "data": {
            "text/plain": [
              "array([[-55.17537  ,   2.8990815],\n",
              "       [-11.929716 ,  61.65758  ],\n",
              "       [ 24.120844 ,  30.975409 ],\n",
              "       [ -9.939481 ,  62.20042  ],\n",
              "       [-55.113735 ,   2.9508767]], dtype=float32)"
            ]
          },
          "metadata": {
            "tags": []
          },
          "execution_count": 25
        }
      ]
    },
    {
      "metadata": {
        "id": "Gewxc2mbuRdp",
        "colab_type": "code",
        "colab": {}
      },
      "cell_type": "code",
      "source": [
        "coords_df = pd.DataFrame(X_2d, columns=['x', 'y'])\n",
        "coords_df['token'] = model.wv.vocab.keys()"
      ],
      "execution_count": 0,
      "outputs": []
    },
    {
      "metadata": {
        "id": "FT7ocHF1u_jB",
        "colab_type": "code",
        "colab": {
          "base_uri": "https://localhost:8080/",
          "height": 1105
        },
        "outputId": "9f96808a-c425-4a3f-aadb-8a49f4a731a8"
      },
      "cell_type": "code",
      "source": [
        "coords_df.head"
      ],
      "execution_count": 28,
      "outputs": [
        {
          "output_type": "execute_result",
          "data": {
            "text/plain": [
              "<bound method NDFrame.head of                x          y        token\n",
              "0     -55.175369   2.899081            [\n",
              "1     -11.929716  61.657581         Emma\n",
              "2      24.120844  30.975409           by\n",
              "3      -9.939481  62.200420         Jane\n",
              "4     -55.113735   2.950877            ]\n",
              "5     -37.027534  14.297968            I\n",
              "6      -8.926707 -72.543968      CHAPTER\n",
              "7      -9.036150  62.011959    Woodhouse\n",
              "8      23.328709  30.777792            ,\n",
              "9     -24.363588  35.559532     handsome\n",
              "10    -24.991751  35.547565       clever\n",
              "11     23.664352  31.193789          and\n",
              "12      4.150270 -27.843374         rich\n",
              "13     23.771751  31.147402         with\n",
              "14     22.204527  31.710505            a\n",
              "15    -31.601126  50.409698  comfortable\n",
              "16      1.701856  48.540783         home\n",
              "17    -26.842394  26.838182        happy\n",
              "18    -23.919649  45.336727  disposition\n",
              "19     20.801975  24.055693       seemed\n",
              "20     23.545622  31.519287           to\n",
              "21    -12.076530  31.229605        unite\n",
              "22     12.722353  19.124870         some\n",
              "23     23.831499  31.119438           of\n",
              "24     23.497746  31.196726          the\n",
              "25    -30.823629  17.455238         best\n",
              "26    -14.564635 -24.460962    blessings\n",
              "27    -20.579107  41.541515    existence\n",
              "28     23.358341  30.865721            ;\n",
              "29     23.675236  34.818699          had\n",
              "...          ...        ...          ...\n",
              "16981  19.345911 -16.784988       bugles\n",
              "16982  -7.297343   0.514388  gravitation\n",
              "16983  43.423985 -15.398656       myriad\n",
              "16984  21.565559  -9.547700        elate\n",
              "16985  38.262043 -18.900545     railroad\n",
              "16986  32.060196  -6.046374      cannons\n",
              "16987  -1.107940  -9.472698         Flag\n",
              "16988   0.228513   1.320050       unreck\n",
              "16989  33.903721 -15.522249     recesses\n",
              "16990  -0.379977  -7.786415    enclosing\n",
              "16991  29.221170  -6.471219         Duly\n",
              "16992 -13.491670  -2.676197      chanted\n",
              "16993  14.651571 -14.280389     Pioneers\n",
              "16994  16.947077  -5.216818       sinewy\n",
              "16995  17.720686 -11.761438        arous\n",
              "16996   0.514784 -12.576370   responding\n",
              "16997   9.414551  -8.751484        dirge\n",
              "16998  36.981331  -4.633276         murk\n",
              "16999  21.449755 -10.312743      lambent\n",
              "17000  15.702481  -5.975149       Banner\n",
              "17001  16.029654 -12.717282        Vigil\n",
              "17002  16.388968 -12.820147        vigil\n",
              "17003   1.043215  -5.121012     veterans\n",
              "17004   0.910631  -9.936861     tallying\n",
              "17005  -2.263046  -0.782894         Idea\n",
              "17006   0.895492   3.659398   aspiration\n",
              "17007  -0.351509  -7.549334     Unfolded\n",
              "17008  -4.520344  -1.528508      Perfume\n",
              "17009  17.996941 -12.593049    trumpeter\n",
              "17010 -57.208706   7.790314           }[\n",
              "\n",
              "[17011 rows x 3 columns]>"
            ]
          },
          "metadata": {
            "tags": []
          },
          "execution_count": 28
        }
      ]
    },
    {
      "metadata": {
        "id": "UoYotAKAvTxz",
        "colab_type": "code",
        "colab": {}
      },
      "cell_type": "code",
      "source": [
        ""
      ],
      "execution_count": 0,
      "outputs": []
    }
  ]
}