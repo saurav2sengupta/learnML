{
  "nbformat": 4,
  "nbformat_minor": 0,
  "metadata": {
    "colab": {
      "name": "fashion_mnist_cnn.ipynb",
      "provenance": [],
      "collapsed_sections": [],
      "authorship_tag": "ABX9TyNszip8mp/YHvfxuBff15vY",
      "include_colab_link": true
    },
    "kernelspec": {
      "name": "python3",
      "display_name": "Python 3"
    },
    "accelerator": "GPU"
  },
  "cells": [
    {
      "cell_type": "markdown",
      "metadata": {
        "id": "view-in-github",
        "colab_type": "text"
      },
      "source": [
        "<a href=\"https://colab.research.google.com/github/saurav2sengupta/learnML/blob/master/fashion_mnist_cnn.ipynb\" target=\"_parent\"><img src=\"https://colab.research.google.com/assets/colab-badge.svg\" alt=\"Open In Colab\"/></a>"
      ]
    },
    {
      "cell_type": "code",
      "metadata": {
        "id": "V4842T1EXXIx",
        "colab_type": "code",
        "colab": {}
      },
      "source": [
        "#Import basic Python libraries\n",
        "import numpy as np\n",
        "import pandas as pd\n",
        "import time\n",
        "import random\n",
        "import matplotlib.pyplot as plt\n",
        " \n",
        "%matplotlib inline"
      ],
      "execution_count": 1,
      "outputs": []
    },
    {
      "cell_type": "code",
      "metadata": {
        "id": "lGjkLZAMX_q3",
        "colab_type": "code",
        "colab": {
          "base_uri": "https://localhost:8080/",
          "height": 247
        },
        "outputId": "b16ee319-3075-484a-9697-e907ffedf494"
      },
      "source": [
        "from keras.datasets import fashion_mnist\n",
        "\n",
        "(x_train, y_train), (x_test, y_test) = fashion_mnist.load_data()\n",
        "\n",
        "print(\"Shape of x_train {}\".format(x_train.shape))\n",
        "print(\"Shape of y_train {}\".format(y_train.shape))\n",
        "print(\"Shape of x_test {}\".format(x_test.shape))\n",
        "print(\"Shape of y_test {}\".format(y_test.shape))\n"
      ],
      "execution_count": 2,
      "outputs": [
        {
          "output_type": "stream",
          "text": [
            "Using TensorFlow backend.\n"
          ],
          "name": "stderr"
        },
        {
          "output_type": "stream",
          "text": [
            "Downloading data from http://fashion-mnist.s3-website.eu-central-1.amazonaws.com/train-labels-idx1-ubyte.gz\n",
            "32768/29515 [=================================] - 0s 3us/step\n",
            "Downloading data from http://fashion-mnist.s3-website.eu-central-1.amazonaws.com/train-images-idx3-ubyte.gz\n",
            "26427392/26421880 [==============================] - 2s 0us/step\n",
            "Downloading data from http://fashion-mnist.s3-website.eu-central-1.amazonaws.com/t10k-labels-idx1-ubyte.gz\n",
            "8192/5148 [===============================================] - 0s 0us/step\n",
            "Downloading data from http://fashion-mnist.s3-website.eu-central-1.amazonaws.com/t10k-images-idx3-ubyte.gz\n",
            "4423680/4422102 [==============================] - 1s 0us/step\n",
            "Shape of x_train (60000, 28, 28)\n",
            "Shape of y_train (60000,)\n",
            "Shape of x_test (10000, 28, 28)\n",
            "Shape of y_test (10000,)\n"
          ],
          "name": "stdout"
        }
      ]
    },
    {
      "cell_type": "code",
      "metadata": {
        "id": "x9U0NmHyiTQc",
        "colab_type": "code",
        "colab": {}
      },
      "source": [
        "labelNames = [\"T-shirt/top\", \"Trouser\", \"Pullover\", \"Dress\", \"Coat\", \"Sandal\", \n",
        "              \"Shirt\", \"Sneaker\", \"Bag\", \"Ankle boot\"]"
      ],
      "execution_count": 3,
      "outputs": []
    },
    {
      "cell_type": "code",
      "metadata": {
        "id": "HaWCtHbFuOG5",
        "colab_type": "code",
        "colab": {}
      },
      "source": [
        "# Normalize the data\n",
        "x_train = x_train.astype('float32')\n",
        "x_test = x_test.astype('float32')\n",
        "x_train /= 255.0\n",
        "x_test /= 255.0"
      ],
      "execution_count": 4,
      "outputs": []
    },
    {
      "cell_type": "code",
      "metadata": {
        "id": "WM9e36eUuSHM",
        "colab_type": "code",
        "colab": {
          "base_uri": "https://localhost:8080/",
          "height": 52
        },
        "outputId": "3c26842b-0a16-48ea-dfdc-c83ddba78306"
      },
      "source": [
        "#Reshape the train and test sets into two dimensional matrix\n",
        "x_train = x_train.reshape(x_train.shape[0], x_train.shape[1] * x_train.shape[2])\n",
        "x_test = x_test.reshape(x_test.shape[0], x_test.shape[1] * x_test.shape[2])\n",
        "\n",
        "print(x_train.shape)\n",
        "print(x_test.shape)"
      ],
      "execution_count": 5,
      "outputs": [
        {
          "output_type": "stream",
          "text": [
            "(60000, 784)\n",
            "(10000, 784)\n"
          ],
          "name": "stdout"
        }
      ]
    },
    {
      "cell_type": "code",
      "metadata": {
        "id": "upEr9UPsufn3",
        "colab_type": "code",
        "colab": {}
      },
      "source": [
        "#Import classic ML models\n",
        "from sklearn.svm import SVC\n",
        "from sklearn.neighbors import KNeighborsClassifier\n",
        "from sklearn.ensemble import RandomForestClassifier\n",
        "from sklearn.tree import DecisionTreeClassifier"
      ],
      "execution_count": null,
      "outputs": []
    },
    {
      "cell_type": "code",
      "metadata": {
        "id": "oL8ExM0W0cAk",
        "colab_type": "code",
        "colab": {
          "base_uri": "https://localhost:8080/",
          "height": 70
        },
        "outputId": "86ac587d-6df9-4cc6-cbd8-dbfec30629d2"
      },
      "source": [
        "\"\"\"\n",
        "# SVM Model\n",
        "start1 = time.time()\n",
        "svc = SVC(C=1, kernel='linear', gamma=\"auto\")\n",
        "svc.fit(x_train, y_train)\n",
        "end1 = time.time()\n",
        "svm_time = end1 - start1\n",
        "\"\"\"\n",
        "\n",
        "# KNN Model\n",
        "start2 = time.time()\n",
        "knn = KNeighborsClassifier(n_neighbors=5)\n",
        "knn.fit(x_train, y_train)\n",
        "#y_pred_knn = knn.predict(x_test)\n",
        "end2 = time.time()\n",
        "knn_time = end2 - start2\n",
        "\n",
        "# Random Forest\n",
        "start3 = time.time()\n",
        "random_forest = RandomForestClassifier(criterion='entropy', max_depth=70, \n",
        "                                       n_estimators=100)\n",
        "random_forest.fit(x_train, y_train)\n",
        "end3 = time.time()\n",
        "forest_time = end3 - start3\n",
        "\n",
        "# Decision Tree\n",
        "start4 = time.time()\n",
        "tree = DecisionTreeClassifier(max_depth=100, criterion='entropy')\n",
        "tree.fit(x_train, y_train)\n",
        "end4 = time.time()\n",
        "tree_time = end4 - start4\n",
        "\n",
        "#print(\"SVM Time: {:0.2f} minute\".format(svm_time/60.0))\n",
        "print(\"KNN Time: {:0.2f} minute\".format(knn_time/60.0))\n",
        "print(\"Random Forest Time: {:0.2f} minute\".format(forest_time/60.0))\n",
        "print(\"Decision Tree Time: {:0.2f} minute\".format(tree_time/60.0))"
      ],
      "execution_count": null,
      "outputs": [
        {
          "output_type": "stream",
          "text": [
            "KNN Time: 0.20 minute\n",
            "Random Forest Time: 2.10 minute\n",
            "Decision Tree Time: 0.76 minute\n"
          ],
          "name": "stdout"
        }
      ]
    },
    {
      "cell_type": "code",
      "metadata": {
        "id": "wPxYI1QO0zIB",
        "colab_type": "code",
        "colab": {}
      },
      "source": [
        "#Check the accuracy for each of the above ML models\n",
        "from sklearn import metrics\n",
        "\n",
        "# KNN report and analysis\n",
        "y_pred_knn = knn.predict(x_test)\n",
        "\n",
        "knn_f1 = metrics.f1_score(y_test, y_pred_knn, average= \"weighted\")\n",
        "knn_accuracy = metrics.accuracy_score(y_test, y_pred_knn)\n",
        "#knn_cm = metrics.confusion_matrix(y_test, y_pred_knn)"
      ],
      "execution_count": null,
      "outputs": []
    },
    {
      "cell_type": "code",
      "metadata": {
        "id": "6ug1nAwg8Rmb",
        "colab_type": "code",
        "colab": {
          "base_uri": "https://localhost:8080/",
          "height": 70
        },
        "outputId": "a263fa1b-3d87-4844-a185-c00271238bdb"
      },
      "source": [
        "print(\"-----------------K-nearest neighbors Report---------------\")\n",
        "print(\"F1 score: {}\".format(knn_f1))\n",
        "print(\"Accuracy score: {}\".format(knn_accuracy))"
      ],
      "execution_count": null,
      "outputs": [
        {
          "output_type": "stream",
          "text": [
            "-----------------K-nearest neighbors Report---------------\n",
            "F1 score: 0.8546439722018904\n",
            "Accuracy score: 0.8554\n"
          ],
          "name": "stdout"
        }
      ]
    },
    {
      "cell_type": "code",
      "metadata": {
        "id": "NadXNUo_8Thx",
        "colab_type": "code",
        "colab": {}
      },
      "source": [
        "# Random Forest report and analysis\n",
        "y_pred_forest = random_forest.predict(x_test)\n",
        "random_forest_f1 = metrics.f1_score(y_test, y_pred_forest, average= \"weighted\"\n",
        ")\n",
        "random_forest_accuracy = metrics.accuracy_score(y_test, y_pred_forest)"
      ],
      "execution_count": null,
      "outputs": []
    },
    {
      "cell_type": "code",
      "metadata": {
        "id": "zFGJ5Xcr2GDP",
        "colab_type": "code",
        "colab": {
          "base_uri": "https://localhost:8080/",
          "height": 70
        },
        "outputId": "ac15ab2c-b376-4c3d-a7e6-266b9eb2b098"
      },
      "source": [
        "print(\"-----------------Random Forest Report---------------\")\n",
        "print(\"F1 score: {}\".format(random_forest_f1))\n",
        "print(\"Accuracy score: {}\".format(random_forest_accuracy))"
      ],
      "execution_count": null,
      "outputs": [
        {
          "output_type": "stream",
          "text": [
            "-----------------Random Forest Report---------------\n",
            "F1 score: 0.8760242660853803\n",
            "Accuracy score: 0.8776\n"
          ],
          "name": "stdout"
        }
      ]
    },
    {
      "cell_type": "code",
      "metadata": {
        "id": "yX5GCIoe8QZq",
        "colab_type": "code",
        "colab": {
          "base_uri": "https://localhost:8080/",
          "height": 70
        },
        "outputId": "bbee59c8-bede-4b14-fce1-f6849b8f14d9"
      },
      "source": [
        "# Decision Tree report and analysis\n",
        "y_pred_tree = tree.predict(x_test)\n",
        "tree_f1 = metrics.f1_score(y_test, y_pred_tree, average= \"weighted\")\n",
        "tree_accuracy = metrics.accuracy_score(y_test, y_pred_tree)\n",
        "\n",
        "print(\"-----------------Decision Tree Report---------------\")\n",
        "print(\"F1 score: {}\".format(tree_f1))\n",
        "print(\"Accuracy score: {}\".format(tree_accuracy))"
      ],
      "execution_count": null,
      "outputs": [
        {
          "output_type": "stream",
          "text": [
            "-----------------Decision Tree Report---------------\n",
            "F1 score: 0.8014683836996909\n",
            "Accuracy score: 0.8007\n"
          ],
          "name": "stdout"
        }
      ]
    },
    {
      "cell_type": "code",
      "metadata": {
        "id": "hFy_ytNkL2EN",
        "colab_type": "code",
        "colab": {
          "base_uri": "https://localhost:8080/",
          "height": 294
        },
        "outputId": "31f37f28-e21f-4a40-ad6f-fc849b43348f"
      },
      "source": [
        "#Using PCA on the training data\n",
        "from sklearn.decomposition import PCA\n",
        "\n",
        "# fit the PCA with the training data\n",
        "pca = PCA().fit(x_train)\n",
        "\n",
        "# Plot the cumulative sum of eigenvalues\n",
        "plt.figure()\n",
        "plt.plot(np.cumsum(pca.explained_variance_ratio_))\n",
        "plt.xlabel('Number of Features')\n",
        "plt.ylabel('Variance (%)') #for each component\n",
        "plt.title('Fashion-MNIST Variance')\n",
        "plt.show()"
      ],
      "execution_count": 6,
      "outputs": [
        {
          "output_type": "display_data",
          "data": {
            "image/png": "[encoded data removed]",
            "text/plain": [
              "<Figure size 432x288 with 1 Axes>"
            ]
          },
          "metadata": {
            "tags": [],
            "needs_background": "light"
          }
        }
      ]
    },
    {
      "cell_type": "code",
      "metadata": {
        "id": "BtOJW45bLWH0",
        "colab_type": "code",
        "colab": {
          "base_uri": "https://localhost:8080/",
          "height": 52
        },
        "outputId": "c9e8047c-f24c-49c5-b538-e74403fee2a6"
      },
      "source": [
        "#The Variance graph showed that by using around 340 features, \n",
        "#we can retain approximately 96% of the data\n",
        "\n",
        "pca = PCA(n_components=340)\n",
        "pca.fit(x_train)"
      ],
      "execution_count": 7,
      "outputs": [
        {
          "output_type": "execute_result",
          "data": {
            "text/plain": [
              "PCA(copy=True, iterated_power='auto', n_components=340, random_state=None,\n",
              "    svd_solver='auto', tol=0.0, whiten=False)"
            ]
          },
          "metadata": {
            "tags": []
          },
          "execution_count": 7
        }
      ]
    },
    {
      "cell_type": "code",
      "metadata": {
        "id": "EfKXKZleLiYF",
        "colab_type": "code",
        "colab": {}
      },
      "source": [
        "x_train_pca = pca.transform(x_train)\n",
        "x_test_pca = pca.transform(x_test)"
      ],
      "execution_count": 8,
      "outputs": []
    },
    {
      "cell_type": "code",
      "metadata": {
        "id": "iTBlEFP2Lnty",
        "colab_type": "code",
        "colab": {
          "base_uri": "https://localhost:8080/",
          "height": 34
        },
        "outputId": "5a86b9c7-d38c-431f-b2c4-6f78a85b5a42"
      },
      "source": [
        "x_train_pca.shape"
      ],
      "execution_count": 9,
      "outputs": [
        {
          "output_type": "execute_result",
          "data": {
            "text/plain": [
              "(60000, 340)"
            ]
          },
          "metadata": {
            "tags": []
          },
          "execution_count": 9
        }
      ]
    },
    {
      "cell_type": "code",
      "metadata": {
        "id": "xei6MV5TMI3b",
        "colab_type": "code",
        "colab": {}
      },
      "source": [
        "#Import classic ML models\n",
        "from sklearn.svm import SVC\n",
        "from sklearn.neighbors import KNeighborsClassifier\n",
        "from sklearn.ensemble import RandomForestClassifier\n",
        "from sklearn.tree import DecisionTreeClassifier"
      ],
      "execution_count": 11,
      "outputs": []
    },
    {
      "cell_type": "code",
      "metadata": {
        "id": "Ci52I7BYLr_y",
        "colab_type": "code",
        "colab": {
          "base_uri": "https://localhost:8080/",
          "height": 70
        },
        "outputId": "4092ceff-febe-4458-a654-a0ff1310589e"
      },
      "source": [
        "#Apply classic ML models on the new PCA sets\n",
        "\n",
        "\"\"\"\n",
        "# SVM Model\n",
        "start1 = time.time()\n",
        "svc = SVC(C=1, kernel='linear', gamma=\"auto\")\n",
        "svc.fit(x_train_pca, y_train)\n",
        "end1 = time.time()\n",
        "svm_pca_time = end1-start1\n",
        "\"\"\"\n",
        "\n",
        "# KNN Model\n",
        "start2 = time.time()\n",
        "knn = KNeighborsClassifier(n_neighbors=5)\n",
        "knn.fit(x_train_pca, y_train)\n",
        "#y_pred_knn_pca = knn.predict(x_test_pca)\n",
        "end2 = time.time()\n",
        "knn_pca_time = end2 - start2\n",
        "\n",
        "# Random Forest\n",
        "start3 = time.time()\n",
        "random_forest = RandomForestClassifier(criterion='entropy', max_depth=70, \n",
        "                                       n_estimators=100)\n",
        "random_forest.fit(x_train_pca, y_train)\n",
        "end3 = time.time()\n",
        "forest_pca_time = end3 - start3\n",
        "\n",
        "# Decision Tree\n",
        "start4 = time.time()\n",
        "tree = DecisionTreeClassifier(max_depth=100, criterion='entropy')\n",
        "tree.fit(x_train_pca, y_train)\n",
        "end4 = time.time()\n",
        "tree_pca_time = end4 - start4\n",
        "\n",
        "#print(\"SVM Time: {:0.2f} minute\".format(svm_pca_time/60.0))\n",
        "print(\"KNN Time: {:0.2f} minute\".format(knn_pca_time/60.0))\n",
        "print(\"Random Forest Time: {:0.2f} minute\".format(forest_pca_time/60.0))\n",
        "print(\"Decision Tree Time: {:0.2f} minute\".format(tree_pca_time/60.0))"
      ],
      "execution_count": 12,
      "outputs": [
        {
          "output_type": "stream",
          "text": [
            "KNN Time: 0.05 minute\n",
            "Random Forest Time: 9.75 minute\n",
            "Decision Tree Time: 2.18 minute\n"
          ],
          "name": "stdout"
        }
      ]
    },
    {
      "cell_type": "code",
      "metadata": {
        "id": "NICtUJgXP5cS",
        "colab_type": "code",
        "colab": {
          "base_uri": "https://localhost:8080/",
          "height": 70
        },
        "outputId": "0e6d48a8-532e-4318-e35c-a03e02f6cad1"
      },
      "source": [
        "# KNN report and analysis\n",
        "from sklearn import metrics\n",
        "\n",
        "y_pred_knn_pca = knn.predict(x_test_pca)\n",
        "\n",
        "knn_pca_f1 = metrics.f1_score(y_test, y_pred_knn_pca, average= \"weighted\")\n",
        "knn_pca_accuracy = metrics.accuracy_score(y_test, y_pred_knn_pca)\n",
        "knn_pca_cm = metrics.confusion_matrix(y_test, y_pred_knn_pca)\n",
        "\n",
        "print(\"-----------------K-nearest neighbors Report---------------\")\n",
        "print(\"F1 score: {}\".format(knn_pca_f1))\n",
        "print(\"Accuracy score: {}\".format(knn_pca_accuracy))"
      ],
      "execution_count": 14,
      "outputs": [
        {
          "output_type": "stream",
          "text": [
            "-----------------K-nearest neighbors Report---------------\n",
            "F1 score: 0.858704564332036\n",
            "Accuracy score: 0.8593\n"
          ],
          "name": "stdout"
        }
      ]
    },
    {
      "cell_type": "code",
      "metadata": {
        "id": "lfusi2xSRFvk",
        "colab_type": "code",
        "colab": {
          "base_uri": "https://localhost:8080/",
          "height": 70
        },
        "outputId": "62e362fe-804b-4ef5-863a-09b1a5e5ffb3"
      },
      "source": [
        "# Random Forest report and analysis\n",
        "y_pred_forest_pca = random_forest.predict(x_test_pca)\n",
        "\n",
        "random_forest_pca_f1 = metrics.f1_score(y_test, y_pred_forest_pca, \n",
        "                                        average= \"weighted\")\n",
        "random_forest_pca_accuracy = metrics.accuracy_score(y_test, y_pred_forest_pca)\n",
        "random_forest_pca_cm = metrics.confusion_matrix(y_test, y_pred_forest_pca)\n",
        "\n",
        "print(\"-----------------Random Forest Report---------------\")\n",
        "print(\"F1 score: {}\".format(random_forest_pca_f1))\n",
        "print(\"Accuracy score: {}\".format(random_forest_pca_accuracy))"
      ],
      "execution_count": 15,
      "outputs": [
        {
          "output_type": "stream",
          "text": [
            "-----------------Random Forest Report---------------\n",
            "F1 score: 0.8450300488722617\n",
            "Accuracy score: 0.8475\n"
          ],
          "name": "stdout"
        }
      ]
    },
    {
      "cell_type": "code",
      "metadata": {
        "id": "LURQcSqlRRwj",
        "colab_type": "code",
        "colab": {
          "base_uri": "https://localhost:8080/",
          "height": 70
        },
        "outputId": "4c65d817-84c6-4afa-8af8-d8aefa79d640"
      },
      "source": [
        "# Decision Tree report and analysis\n",
        "y_pred_tree_pca = tree.predict(x_test_pca)\n",
        "\n",
        "tree_pca_f1 = metrics.f1_score(y_test, y_pred_tree_pca, average= \"weighted\")\n",
        "tree_pca_accuracy = metrics.accuracy_score(y_test, y_pred_tree_pca)\n",
        "tree_pca_cm = metrics.confusion_matrix(y_test, y_pred_tree_pca)\n",
        "\n",
        "print(\"-----------------Decision Tree Report---------------\")\n",
        "print(\"F1 score: {}\".format(tree_pca_f1))\n",
        "print(\"Accuracy score: {}\".format(tree_pca_accuracy))"
      ],
      "execution_count": 16,
      "outputs": [
        {
          "output_type": "stream",
          "text": [
            "-----------------Decision Tree Report---------------\n",
            "F1 score: 0.7690733701145461\n",
            "Accuracy score: 0.7686\n"
          ],
          "name": "stdout"
        }
      ]
    },
    {
      "cell_type": "code",
      "metadata": {
        "id": "pMmfPsvj8Iy5",
        "colab_type": "code",
        "colab": {}
      },
      "source": [
        "#Use a CNN model to predict\n",
        "#Import usefull CNN libraries\n",
        "\n",
        "from tensorflow.keras.models import Sequential\n",
        "from tensorflow.keras.layers import Dense, Dropout, Flatten, Conv2D\n",
        "from tensorflow.keras.layers import MaxPooling2D, BatchNormalization, Input\n",
        "from tensorflow.keras.layers import UpSampling2D, GlobalAveragePooling2D\n",
        "from tensorflow.keras.callbacks import EarlyStopping, ModelCheckpoint\n",
        "from tensorflow.keras.preprocessing.image import  ImageDataGenerator\n",
        "from tensorflow.keras import optimizers, regularizers\n",
        "from tensorflow.keras.optimizers import Adam, SGD\n",
        "from tensorflow.keras.models import Model, load_model"
      ],
      "execution_count": null,
      "outputs": []
    },
    {
      "cell_type": "code",
      "metadata": {
        "id": "L3qGqGo-qKAR",
        "colab_type": "code",
        "colab": {}
      },
      "source": [
        "# Normalize the data\n",
        "x_train = x_train.astype('float32')\n",
        "x_test = x_test.astype('float32')\n",
        "x_train /= 255.0\n",
        "x_test /= 255.0"
      ],
      "execution_count": null,
      "outputs": []
    },
    {
      "cell_type": "code",
      "metadata": {
        "id": "EUMRRz7ZA_oS",
        "colab_type": "code",
        "colab": {
          "base_uri": "https://localhost:8080/",
          "height": 52
        },
        "outputId": "59608e5e-92ee-4f72-a402-16ccf65d2a05"
      },
      "source": [
        "# reshape the input into 4D array for CNN model\n",
        "\n",
        "x_train = x_train.reshape(x_train.shape[0], x_train.shape[1], x_train.shape[2], 1)\n",
        "x_test = x_test.reshape(x_test.shape[0], x_test.shape[1], x_test.shape[1], 1)\n",
        "\n",
        "print(x_train.shape)\n",
        "print(x_test.shape)"
      ],
      "execution_count": null,
      "outputs": [
        {
          "output_type": "stream",
          "text": [
            "(60000, 28, 28, 1)\n",
            "(10000, 28, 28, 1)\n"
          ],
          "name": "stdout"
        }
      ]
    },
    {
      "cell_type": "code",
      "metadata": {
        "id": "9B_-s_QuBEn2",
        "colab_type": "code",
        "colab": {}
      },
      "source": [
        "# One hot encode the outcome\n",
        "from tensorflow.keras.utils import to_categorical\n",
        "\n",
        "num_classes = 10\n",
        "y_train_tf = to_categorical(y_train, num_classes)\n",
        "y_test_tf = to_categorical(y_test, num_classes)"
      ],
      "execution_count": 23,
      "outputs": []
    },
    {
      "cell_type": "code",
      "metadata": {
        "id": "4pA6S5KaOv-d",
        "colab_type": "code",
        "colab": {
          "base_uri": "https://localhost:8080/",
          "height": 34
        },
        "outputId": "5d884499-ba4d-4b9d-b753-f19f20dc6633"
      },
      "source": [
        "print(y_train_tf.shape)"
      ],
      "execution_count": null,
      "outputs": [
        {
          "output_type": "stream",
          "text": [
            "(60000, 10)\n"
          ],
          "name": "stdout"
        }
      ]
    },
    {
      "cell_type": "code",
      "metadata": {
        "id": "DtSJrjTTQbFq",
        "colab_type": "code",
        "colab": {}
      },
      "source": [
        "#Define Hyperparameters\n",
        "input_shape = (28, 28, 1)\n",
        "learning_rate = 0.001"
      ],
      "execution_count": null,
      "outputs": []
    },
    {
      "cell_type": "code",
      "metadata": {
        "id": "NnLbf84GSEEe",
        "colab_type": "code",
        "colab": {
          "base_uri": "https://localhost:8080/",
          "height": 905
        },
        "outputId": "dfa5488e-4cf3-469d-a75c-62b45cef6612"
      },
      "source": [
        "#Build the CNN Model\n",
        "from tensorflow import keras\n",
        "\n",
        "model = Sequential()\n",
        "\n",
        "model.add(Conv2D(96, kernel_size=(3, 3), strides=(1, 1), padding='valid', \n",
        "                 activation='relu', \n",
        "                 kernel_regularizer=keras.regularizers.l2(0.001), \n",
        "                 input_shape=input_shape))\n",
        "model.add(Conv2D(96, kernel_size=(3, 3), strides=(1, 1), padding='valid',\n",
        "                 activation='relu', \n",
        "                 kernel_regularizer=keras.regularizers.l2(0.001)))\n",
        "model.add(BatchNormalization())\n",
        "model.add(MaxPooling2D(pool_size=(2, 2), strides=None, padding='valid'))\n",
        "model.add(Dropout(0.45))\n",
        "model.add(Conv2D(128, kernel_size=(3, 3), strides=(1, 1), padding='valid',\n",
        "                 activation='relu', \n",
        "                 kernel_regularizer=keras.regularizers.l2(0.001)))\n",
        "model.add(Conv2D(128, kernel_size=(3, 3), strides=(1, 1), padding='valid',\n",
        "                 activation='relu', \n",
        "                 kernel_regularizer=keras.regularizers.l2(0.001)))\n",
        "model.add(BatchNormalization())\n",
        "model.add(MaxPooling2D(pool_size=(2, 2), strides=None, padding='valid'))\n",
        "model.add(Dropout(0.45))\n",
        "\n",
        "model.add(Conv2D(256, kernel_size=(3, 3), strides=(1, 1), padding='same', \n",
        "                 activation='relu', \n",
        "                 kernel_regularizer=keras.regularizers.l2(0.001)))\n",
        "model.add(Conv2D(256, kernel_size=(3, 3), strides=(1, 1), padding='valid',\n",
        "                 activation='relu', \n",
        "                 kernel_regularizer=keras.regularizers.l2(0.001)))\n",
        "model.add(BatchNormalization())\n",
        "model.add(MaxPooling2D(pool_size=(2, 2), strides=None, padding='valid'))\n",
        "model.add(Dropout(0.45))\n",
        "model.add(Flatten())\n",
        "\n",
        "model.add(Dense(512, activation='relu'))\n",
        "model.add(Dropout(0.5))\n",
        "model.add(Dense(512, activation='relu'))\n",
        "model.add(Dropout(0.5))\n",
        "model.add(Dense(y_train_tf.shape[1], activation='softmax'))\n",
        "\n",
        "monitor = EarlyStopping(monitor='val_loss', min_delta=1e-3, patience=5, \n",
        "                        verbose=1, mode='auto')\n",
        "model.compile(loss=\"categorical_crossentropy\", \n",
        "              optimizer=Adam(lr=learning_rate), metrics=['accuracy'])\n",
        "\n",
        "model.summary()"
      ],
      "execution_count": null,
      "outputs": [
        {
          "output_type": "stream",
          "text": [
            "Model: \"sequential\"\n",
            "_________________________________________________________________\n",
            "Layer (type)                 Output Shape              Param #   \n",
            "=================================================================\n",
            "conv2d (Conv2D)              (None, 26, 26, 96)        960       \n",
            "_________________________________________________________________\n",
            "conv2d_1 (Conv2D)            (None, 24, 24, 96)        83040     \n",
            "_________________________________________________________________\n",
            "batch_normalization (BatchNo (None, 24, 24, 96)        384       \n",
            "_________________________________________________________________\n",
            "max_pooling2d (MaxPooling2D) (None, 12, 12, 96)        0         \n",
            "_________________________________________________________________\n",
            "dropout (Dropout)            (None, 12, 12, 96)        0         \n",
            "_________________________________________________________________\n",
            "conv2d_2 (Conv2D)            (None, 10, 10, 128)       110720    \n",
            "_________________________________________________________________\n",
            "conv2d_3 (Conv2D)            (None, 8, 8, 128)         147584    \n",
            "_________________________________________________________________\n",
            "batch_normalization_1 (Batch (None, 8, 8, 128)         512       \n",
            "_________________________________________________________________\n",
            "max_pooling2d_1 (MaxPooling2 (None, 4, 4, 128)         0         \n",
            "_________________________________________________________________\n",
            "dropout_1 (Dropout)          (None, 4, 4, 128)         0         \n",
            "_________________________________________________________________\n",
            "conv2d_4 (Conv2D)            (None, 4, 4, 256)         295168    \n",
            "_________________________________________________________________\n",
            "conv2d_5 (Conv2D)            (None, 2, 2, 256)         590080    \n",
            "_________________________________________________________________\n",
            "batch_normalization_2 (Batch (None, 2, 2, 256)         1024      \n",
            "_________________________________________________________________\n",
            "max_pooling2d_2 (MaxPooling2 (None, 1, 1, 256)         0         \n",
            "_________________________________________________________________\n",
            "dropout_2 (Dropout)          (None, 1, 1, 256)         0         \n",
            "_________________________________________________________________\n",
            "flatten (Flatten)            (None, 256)               0         \n",
            "_________________________________________________________________\n",
            "dense (Dense)                (None, 512)               131584    \n",
            "_________________________________________________________________\n",
            "dropout_3 (Dropout)          (None, 512)               0         \n",
            "_________________________________________________________________\n",
            "dense_1 (Dense)              (None, 512)               262656    \n",
            "_________________________________________________________________\n",
            "dropout_4 (Dropout)          (None, 512)               0         \n",
            "_________________________________________________________________\n",
            "dense_2 (Dense)              (None, 10)                5130      \n",
            "=================================================================\n",
            "Total params: 1,628,842\n",
            "Trainable params: 1,627,882\n",
            "Non-trainable params: 960\n",
            "_________________________________________________________________\n"
          ],
          "name": "stdout"
        }
      ]
    },
    {
      "cell_type": "code",
      "metadata": {
        "id": "NTWMjhE2TOx2",
        "colab_type": "code",
        "colab": {
          "base_uri": "https://localhost:8080/",
          "height": 1000
        },
        "outputId": "ca608dea-d51f-4c97-af1e-49d09407f7e8"
      },
      "source": [
        "# save best model\n",
        "#checkpointer = ModelCheckpoint(filepath=\"save/cnn_mnist.hdf5\", verbose=0, \n",
        "#  save_best_only=True)\n",
        "\n",
        "start = time.time()\n",
        "\n",
        "history = model.fit(x_train,y_train_tf, validation_split=0.2, \n",
        "                    callbacks=[monitor], verbose=1,epochs=50, #callbacks=[monitor,checkpointer] \n",
        "                    batch_size=64, shuffle=True)\n",
        "\n",
        "end = time.time()\n",
        "cnn_mnist_time = end - start\n",
        "\n",
        "print(\"Total training time is {:0.2f} minute\".format(cnn_mnist_time/60.0))"
      ],
      "execution_count": null,
      "outputs": [
        {
          "output_type": "stream",
          "text": [
            "Epoch 1/50\n",
            "750/750 [==============================] - 10s 13ms/step - loss: 1.4748 - accuracy: 0.7043 - val_loss: 1.0302 - val_accuracy: 0.7995\n",
            "Epoch 2/50\n",
            "750/750 [==============================] - 10s 13ms/step - loss: 0.9148 - accuracy: 0.8268 - val_loss: 0.7632 - val_accuracy: 0.8509\n",
            "Epoch 3/50\n",
            "750/750 [==============================] - 10s 13ms/step - loss: 0.7346 - accuracy: 0.8528 - val_loss: 0.6503 - val_accuracy: 0.8672\n",
            "Epoch 4/50\n",
            "750/750 [==============================] - 10s 13ms/step - loss: 0.6796 - accuracy: 0.8589 - val_loss: 0.6061 - val_accuracy: 0.8799\n",
            "Epoch 5/50\n",
            "750/750 [==============================] - 10s 13ms/step - loss: 0.6542 - accuracy: 0.8641 - val_loss: 0.6198 - val_accuracy: 0.8641\n",
            "Epoch 6/50\n",
            "750/750 [==============================] - 10s 13ms/step - loss: 0.6289 - accuracy: 0.8680 - val_loss: 0.6572 - val_accuracy: 0.8545\n",
            "Epoch 7/50\n",
            "750/750 [==============================] - 10s 13ms/step - loss: 0.6176 - accuracy: 0.8721 - val_loss: 0.5569 - val_accuracy: 0.8903\n",
            "Epoch 8/50\n",
            "750/750 [==============================] - 10s 13ms/step - loss: 0.5986 - accuracy: 0.8739 - val_loss: 0.5665 - val_accuracy: 0.8796\n",
            "Epoch 9/50\n",
            "750/750 [==============================] - 10s 13ms/step - loss: 0.5860 - accuracy: 0.8792 - val_loss: 0.5170 - val_accuracy: 0.8868\n",
            "Epoch 10/50\n",
            "750/750 [==============================] - 10s 13ms/step - loss: 0.5608 - accuracy: 0.8819 - val_loss: 0.5194 - val_accuracy: 0.8938\n",
            "Epoch 11/50\n",
            "750/750 [==============================] - 10s 13ms/step - loss: 0.5531 - accuracy: 0.8803 - val_loss: 0.4902 - val_accuracy: 0.9006\n",
            "Epoch 12/50\n",
            "750/750 [==============================] - 10s 13ms/step - loss: 0.5287 - accuracy: 0.8871 - val_loss: 0.5126 - val_accuracy: 0.8812\n",
            "Epoch 13/50\n",
            "750/750 [==============================] - 10s 13ms/step - loss: 0.5193 - accuracy: 0.8874 - val_loss: 0.4690 - val_accuracy: 0.8982\n",
            "Epoch 14/50\n",
            "750/750 [==============================] - 10s 13ms/step - loss: 0.5179 - accuracy: 0.8867 - val_loss: 0.4491 - val_accuracy: 0.9032\n",
            "Epoch 15/50\n",
            "750/750 [==============================] - 10s 13ms/step - loss: 0.5088 - accuracy: 0.8882 - val_loss: 0.4483 - val_accuracy: 0.9044\n",
            "Epoch 16/50\n",
            "750/750 [==============================] - 10s 13ms/step - loss: 0.5040 - accuracy: 0.8896 - val_loss: 0.4372 - val_accuracy: 0.9072\n",
            "Epoch 17/50\n",
            "750/750 [==============================] - 10s 13ms/step - loss: 0.4924 - accuracy: 0.8932 - val_loss: 0.4365 - val_accuracy: 0.9070\n",
            "Epoch 18/50\n",
            "750/750 [==============================] - 10s 13ms/step - loss: 0.4927 - accuracy: 0.8903 - val_loss: 0.4434 - val_accuracy: 0.9047\n",
            "Epoch 19/50\n",
            "750/750 [==============================] - 10s 13ms/step - loss: 0.4942 - accuracy: 0.8901 - val_loss: 0.4315 - val_accuracy: 0.9049\n",
            "Epoch 20/50\n",
            "750/750 [==============================] - 10s 13ms/step - loss: 0.4827 - accuracy: 0.8932 - val_loss: 0.4396 - val_accuracy: 0.9078\n",
            "Epoch 21/50\n",
            "750/750 [==============================] - 10s 13ms/step - loss: 0.4791 - accuracy: 0.8927 - val_loss: 0.4586 - val_accuracy: 0.8943\n",
            "Epoch 22/50\n",
            "750/750 [==============================] - 10s 13ms/step - loss: 0.4782 - accuracy: 0.8927 - val_loss: 0.4408 - val_accuracy: 0.9044\n",
            "Epoch 23/50\n",
            "750/750 [==============================] - 10s 13ms/step - loss: 0.4712 - accuracy: 0.8959 - val_loss: 0.4513 - val_accuracy: 0.8979\n",
            "Epoch 24/50\n",
            "750/750 [==============================] - 10s 13ms/step - loss: 0.4695 - accuracy: 0.8945 - val_loss: 0.4219 - val_accuracy: 0.9056\n",
            "Epoch 25/50\n",
            "750/750 [==============================] - 10s 13ms/step - loss: 0.4652 - accuracy: 0.8955 - val_loss: 0.4190 - val_accuracy: 0.9076\n",
            "Epoch 26/50\n",
            "750/750 [==============================] - 10s 13ms/step - loss: 0.4681 - accuracy: 0.8964 - val_loss: 0.4417 - val_accuracy: 0.8948\n",
            "Epoch 27/50\n",
            "750/750 [==============================] - 10s 13ms/step - loss: 0.4683 - accuracy: 0.8970 - val_loss: 0.4197 - val_accuracy: 0.9062\n",
            "Epoch 28/50\n",
            "750/750 [==============================] - 10s 13ms/step - loss: 0.4612 - accuracy: 0.8968 - val_loss: 0.4349 - val_accuracy: 0.9027\n",
            "Epoch 29/50\n",
            "750/750 [==============================] - 10s 13ms/step - loss: 0.4577 - accuracy: 0.8969 - val_loss: 0.4215 - val_accuracy: 0.9053\n",
            "Epoch 30/50\n",
            "750/750 [==============================] - 10s 13ms/step - loss: 0.4533 - accuracy: 0.8979 - val_loss: 0.4389 - val_accuracy: 0.8919\n",
            "Epoch 00030: early stopping\n",
            "Total training time is 5.06 minute\n"
          ],
          "name": "stdout"
        }
      ]
    },
    {
      "cell_type": "code",
      "metadata": {
        "id": "btdzgOH4sxMY",
        "colab_type": "code",
        "colab": {
          "base_uri": "https://localhost:8080/",
          "height": 70
        },
        "outputId": "4ff98e13-a1eb-49a2-fd6c-4eac2511d0c5"
      },
      "source": [
        "from sklearn import metrics\n",
        "\n",
        "cnn_pred_mnist = model.predict(x_test)\n",
        "cnn_pred_mnist = np.argmax(cnn_pred_mnist,axis=1)\n",
        "y_true = np.argmax(y_test_tf,axis=1)\n",
        "\n",
        "cnn_f1_mnist = metrics.f1_score(y_true, cnn_pred_mnist, average= \"weighted\")\n",
        "cnn_accuracy_mnist = metrics.accuracy_score(y_true, cnn_pred_mnist)\n",
        "cnn_cm_mnist = metrics.confusion_matrix(y_true, cnn_pred_mnist)\n",
        "\n",
        "print(\"-----------------Convolutional Neural Network Report---------------\")\n",
        "print(\"F1 score: {}\".format(cnn_f1_mnist))\n",
        "print(\"Accuracy score: {}\".format(cnn_accuracy_mnist))"
      ],
      "execution_count": null,
      "outputs": [
        {
          "output_type": "stream",
          "text": [
            "-----------------Convolutional Neural Network Report---------------\n",
            "F1 score: 0.8915295490188473\n",
            "Accuracy score: 0.8904\n"
          ],
          "name": "stdout"
        }
      ]
    },
    {
      "cell_type": "code",
      "metadata": {
        "id": "uSAEw7UysiGr",
        "colab_type": "code",
        "colab": {}
      },
      "source": [
        "#Using PCA to reduce the number of features\n",
        "from sklearn.decomposition import PCA"
      ],
      "execution_count": null,
      "outputs": []
    },
    {
      "cell_type": "code",
      "metadata": {
        "id": "EbkBeTmJso5_",
        "colab_type": "code",
        "colab": {
          "base_uri": "https://localhost:8080/",
          "height": 52
        },
        "outputId": "5a2f6e8f-9eaa-4c47-fa54-96e1113d4fe8"
      },
      "source": [
        "#Run CNN model on the PCA test set\n",
        "x_train_pca_cnn = x_train_pca.reshape(x_train_pca.shape[0], \n",
        "                                      x_train_pca.shape[1], 1, 1)\n",
        "x_test_pca_cnn = x_test_pca.reshape(x_test_pca.shape[0], \n",
        "                                    x_test_pca.shape[1], 1, 1)\n",
        "\n",
        "print(x_train_pca_cnn.shape)\n",
        "print(x_test_pca_cnn.shape)"
      ],
      "execution_count": 17,
      "outputs": [
        {
          "output_type": "stream",
          "text": [
            "(60000, 340, 1, 1)\n",
            "(10000, 340, 1, 1)\n"
          ],
          "name": "stdout"
        }
      ]
    },
    {
      "cell_type": "code",
      "metadata": {
        "id": "Mp39xIp-RsWr",
        "colab_type": "code",
        "colab": {}
      },
      "source": [
        "#Define the hyperparameters\n",
        "input_shape = (340, 1, 1)\n",
        "learning_rate = 0.001"
      ],
      "execution_count": 18,
      "outputs": []
    },
    {
      "cell_type": "code",
      "metadata": {
        "id": "xnDfLH4oSZbr",
        "colab_type": "code",
        "colab": {}
      },
      "source": [
        "#Use a CNN model to predict\n",
        "#Import usefull CNN libraries\n",
        "\n",
        "from tensorflow.keras.models import Sequential\n",
        "from tensorflow.keras.layers import Dense, Dropout, Flatten, Conv2D\n",
        "from tensorflow.keras.layers import MaxPooling2D, BatchNormalization, Input\n",
        "from tensorflow.keras.layers import UpSampling2D, GlobalAveragePooling2D\n",
        "from tensorflow.keras.callbacks import EarlyStopping, ModelCheckpoint\n",
        "from tensorflow.keras.preprocessing.image import  ImageDataGenerator\n",
        "from tensorflow.keras import optimizers, regularizers\n",
        "from tensorflow.keras.optimizers import Adam, SGD\n",
        "from tensorflow.keras.models import Model, load_model"
      ],
      "execution_count": 20,
      "outputs": []
    },
    {
      "cell_type": "code",
      "metadata": {
        "id": "IMUeUoypRv5L",
        "colab_type": "code",
        "colab": {
          "base_uri": "https://localhost:8080/",
          "height": 905
        },
        "outputId": "cc4f4533-7259-4215-c855-eb7c15a8e5d3"
      },
      "source": [
        "#Build network\n",
        "from tensorflow import keras\n",
        "\n",
        "model = Sequential()\n",
        "\n",
        "model.add(Conv2D(96, kernel_size=(3, 1), strides=(1, 1), padding='valid', \n",
        "                 activation='relu', \n",
        "                 kernel_regularizer=keras.regularizers.l2(0.001), \n",
        "                 input_shape=input_shape))\n",
        "model.add(Conv2D(96, kernel_size=(3, 1), strides=(1, 1), padding='valid',\n",
        "                 activation='relu', \n",
        "                 kernel_regularizer=keras.regularizers.l2(0.001)))\n",
        "model.add(BatchNormalization())\n",
        "model.add(MaxPooling2D(pool_size=(2, 1), strides=None, padding='valid'))\n",
        "model.add(Dropout(0.57))\n",
        "\n",
        "model.add(Conv2D(128, kernel_size=(3, 1), strides=(1, 1), padding='valid',\n",
        "                 activation='relu', \n",
        "                 kernel_regularizer=keras.regularizers.l2(0.001)))\n",
        "model.add(Conv2D(128, kernel_size=(3, 1), strides=(1, 1), padding='valid',\n",
        "                 activation='relu', \n",
        "                 kernel_regularizer=keras.regularizers.l2(0.001)))\n",
        "model.add(BatchNormalization())\n",
        "model.add(MaxPooling2D(pool_size=(2, 1), strides=None, padding='valid'))\n",
        "model.add(Dropout(0.57))\n",
        "\n",
        "model.add(Conv2D(256, kernel_size=(3, 1), strides=(1, 1), padding='same', \n",
        "                 activation='relu', \n",
        "                 kernel_regularizer=keras.regularizers.l2(0.001)))\n",
        "model.add(Conv2D(256, kernel_size=(3, 1), strides=(1, 1), padding='valid',\n",
        "                 activation='relu', \n",
        "                 kernel_regularizer=keras.regularizers.l2(0.001)))\n",
        "model.add(BatchNormalization())\n",
        "model.add(MaxPooling2D(pool_size=(2, 1), strides=None, padding='valid'))\n",
        "model.add(Dropout(0.57))\n",
        "\n",
        "model.add(Flatten())\n",
        "model.add(Dense(512, activation='relu'))\n",
        "model.add(Dropout(0.7))\n",
        "model.add(Dense(512, activation='relu'))\n",
        "model.add(Dropout(0.7))\n",
        "model.add(Dense(y_train_tf.shape[1], activation='softmax'))\n",
        "\n",
        "monitor = EarlyStopping(monitor='val_loss', min_delta=1e-3, patience=5, \n",
        "                        verbose=1, mode='auto')\n",
        "model.compile(loss=\"categorical_crossentropy\", \n",
        "              optimizer=Adam(lr=learning_rate), metrics=['accuracy'])\n",
        "model.summary()"
      ],
      "execution_count": 24,
      "outputs": [
        {
          "output_type": "stream",
          "text": [
            "Model: \"sequential_2\"\n",
            "_________________________________________________________________\n",
            "Layer (type)                 Output Shape              Param #   \n",
            "=================================================================\n",
            "conv2d_6 (Conv2D)            (None, 338, 1, 96)        384       \n",
            "_________________________________________________________________\n",
            "conv2d_7 (Conv2D)            (None, 336, 1, 96)        27744     \n",
            "_________________________________________________________________\n",
            "batch_normalization_3 (Batch (None, 336, 1, 96)        384       \n",
            "_________________________________________________________________\n",
            "max_pooling2d_3 (MaxPooling2 (None, 168, 1, 96)        0         \n",
            "_________________________________________________________________\n",
            "dropout_5 (Dropout)          (None, 168, 1, 96)        0         \n",
            "_________________________________________________________________\n",
            "conv2d_8 (Conv2D)            (None, 166, 1, 128)       36992     \n",
            "_________________________________________________________________\n",
            "conv2d_9 (Conv2D)            (None, 164, 1, 128)       49280     \n",
            "_________________________________________________________________\n",
            "batch_normalization_4 (Batch (None, 164, 1, 128)       512       \n",
            "_________________________________________________________________\n",
            "max_pooling2d_4 (MaxPooling2 (None, 82, 1, 128)        0         \n",
            "_________________________________________________________________\n",
            "dropout_6 (Dropout)          (None, 82, 1, 128)        0         \n",
            "_________________________________________________________________\n",
            "conv2d_10 (Conv2D)           (None, 82, 1, 256)        98560     \n",
            "_________________________________________________________________\n",
            "conv2d_11 (Conv2D)           (None, 80, 1, 256)        196864    \n",
            "_________________________________________________________________\n",
            "batch_normalization_5 (Batch (None, 80, 1, 256)        1024      \n",
            "_________________________________________________________________\n",
            "max_pooling2d_5 (MaxPooling2 (None, 40, 1, 256)        0         \n",
            "_________________________________________________________________\n",
            "dropout_7 (Dropout)          (None, 40, 1, 256)        0         \n",
            "_________________________________________________________________\n",
            "flatten_1 (Flatten)          (None, 10240)             0         \n",
            "_________________________________________________________________\n",
            "dense_2 (Dense)              (None, 512)               5243392   \n",
            "_________________________________________________________________\n",
            "dropout_8 (Dropout)          (None, 512)               0         \n",
            "_________________________________________________________________\n",
            "dense_3 (Dense)              (None, 512)               262656    \n",
            "_________________________________________________________________\n",
            "dropout_9 (Dropout)          (None, 512)               0         \n",
            "_________________________________________________________________\n",
            "dense_4 (Dense)              (None, 10)                5130      \n",
            "=================================================================\n",
            "Total params: 5,922,922\n",
            "Trainable params: 5,921,962\n",
            "Non-trainable params: 960\n",
            "_________________________________________________________________\n"
          ],
          "name": "stdout"
        }
      ]
    },
    {
      "cell_type": "code",
      "metadata": {
        "id": "g8iNN2hnSXWk",
        "colab_type": "code",
        "colab": {
          "base_uri": "https://localhost:8080/",
          "height": 1000
        },
        "outputId": "78adb198-8b82-4627-fd0b-aa599f246c5f"
      },
      "source": [
        "start = time.time()\n",
        "\n",
        "history = model.fit(x_train_pca_cnn,y_train_tf, validation_split=0.2, \n",
        "                    callbacks=[monitor], verbose=1,epochs=50, \n",
        "                    batch_size=256, shuffle=True)\n",
        "\n",
        "end = time.time()\n",
        "cnn_mnist_time = end - start\n",
        "\n",
        "print(\"Total training time is {:0.2f} minute\".format(cnn_mnist_time/60.0))"
      ],
      "execution_count": 25,
      "outputs": [
        {
          "output_type": "stream",
          "text": [
            "Epoch 1/50\n",
            "188/188 [==============================] - 21s 110ms/step - loss: 3.2282 - accuracy: 0.1030 - val_loss: 8.7713 - val_accuracy: 0.0983\n",
            "Epoch 2/50\n",
            "188/188 [==============================] - 20s 106ms/step - loss: 2.9616 - accuracy: 0.1201 - val_loss: 9.9819 - val_accuracy: 0.0983\n",
            "Epoch 3/50\n",
            "188/188 [==============================] - 20s 108ms/step - loss: 2.8265 - accuracy: 0.1495 - val_loss: 3.5555 - val_accuracy: 0.1757\n",
            "Epoch 4/50\n",
            "188/188 [==============================] - 20s 108ms/step - loss: 2.5511 - accuracy: 0.2325 - val_loss: 2.2874 - val_accuracy: 0.3270\n",
            "Epoch 5/50\n",
            "188/188 [==============================] - 20s 108ms/step - loss: 2.1653 - accuracy: 0.3526 - val_loss: 1.6899 - val_accuracy: 0.4625\n",
            "Epoch 6/50\n",
            "188/188 [==============================] - 20s 106ms/step - loss: 1.7345 - accuracy: 0.4735 - val_loss: 1.3707 - val_accuracy: 0.6202\n",
            "Epoch 7/50\n",
            "188/188 [==============================] - 20s 106ms/step - loss: 1.4679 - accuracy: 0.5498 - val_loss: 1.1643 - val_accuracy: 0.6942\n",
            "Epoch 8/50\n",
            "188/188 [==============================] - 20s 106ms/step - loss: 1.2717 - accuracy: 0.6189 - val_loss: 1.0413 - val_accuracy: 0.7536\n",
            "Epoch 9/50\n",
            "188/188 [==============================] - 20s 105ms/step - loss: 1.1492 - accuracy: 0.6694 - val_loss: 0.9363 - val_accuracy: 0.7589\n",
            "Epoch 10/50\n",
            "188/188 [==============================] - 20s 106ms/step - loss: 1.0399 - accuracy: 0.7130 - val_loss: 0.8401 - val_accuracy: 0.8102\n",
            "Epoch 11/50\n",
            "188/188 [==============================] - 20s 105ms/step - loss: 0.9683 - accuracy: 0.7456 - val_loss: 0.7854 - val_accuracy: 0.8158\n",
            "Epoch 12/50\n",
            "188/188 [==============================] - 20s 107ms/step - loss: 0.9079 - accuracy: 0.7679 - val_loss: 0.7427 - val_accuracy: 0.8251\n",
            "Epoch 13/50\n",
            "188/188 [==============================] - 20s 108ms/step - loss: 0.8635 - accuracy: 0.7805 - val_loss: 0.7158 - val_accuracy: 0.8247\n",
            "Epoch 14/50\n",
            "188/188 [==============================] - 20s 108ms/step - loss: 0.8271 - accuracy: 0.7890 - val_loss: 0.6738 - val_accuracy: 0.8322\n",
            "Epoch 15/50\n",
            "188/188 [==============================] - 20s 108ms/step - loss: 0.8024 - accuracy: 0.7960 - val_loss: 0.6997 - val_accuracy: 0.8302\n",
            "Epoch 16/50\n",
            "188/188 [==============================] - 20s 108ms/step - loss: 0.7831 - accuracy: 0.7997 - val_loss: 0.6851 - val_accuracy: 0.8375\n",
            "Epoch 17/50\n",
            "188/188 [==============================] - 20s 106ms/step - loss: 0.7625 - accuracy: 0.8066 - val_loss: 0.6630 - val_accuracy: 0.8494\n",
            "Epoch 18/50\n",
            "188/188 [==============================] - 20s 107ms/step - loss: 0.7378 - accuracy: 0.8118 - val_loss: 0.6267 - val_accuracy: 0.8517\n",
            "Epoch 19/50\n",
            "188/188 [==============================] - 20s 106ms/step - loss: 0.7216 - accuracy: 0.8132 - val_loss: 0.6518 - val_accuracy: 0.8342\n",
            "Epoch 20/50\n",
            "188/188 [==============================] - 20s 105ms/step - loss: 0.7081 - accuracy: 0.8192 - val_loss: 0.5943 - val_accuracy: 0.8534\n",
            "Epoch 21/50\n",
            "188/188 [==============================] - 20s 105ms/step - loss: 0.6987 - accuracy: 0.8176 - val_loss: 0.6281 - val_accuracy: 0.8444\n",
            "Epoch 22/50\n",
            "188/188 [==============================] - 20s 107ms/step - loss: 0.6845 - accuracy: 0.8223 - val_loss: 0.6274 - val_accuracy: 0.8440\n",
            "Epoch 23/50\n",
            "188/188 [==============================] - 20s 107ms/step - loss: 0.6805 - accuracy: 0.8244 - val_loss: 0.5833 - val_accuracy: 0.8546\n",
            "Epoch 24/50\n",
            "188/188 [==============================] - 20s 106ms/step - loss: 0.6649 - accuracy: 0.8278 - val_loss: 0.5686 - val_accuracy: 0.8550\n",
            "Epoch 25/50\n",
            "188/188 [==============================] - 20s 108ms/step - loss: 0.6521 - accuracy: 0.8313 - val_loss: 0.5768 - val_accuracy: 0.8462\n",
            "Epoch 26/50\n",
            "188/188 [==============================] - 20s 107ms/step - loss: 0.6487 - accuracy: 0.8298 - val_loss: 0.5431 - val_accuracy: 0.8628\n",
            "Epoch 27/50\n",
            "188/188 [==============================] - 20s 105ms/step - loss: 0.6361 - accuracy: 0.8339 - val_loss: 0.5552 - val_accuracy: 0.8561\n",
            "Epoch 28/50\n",
            "188/188 [==============================] - 20s 104ms/step - loss: 0.6245 - accuracy: 0.8380 - val_loss: 0.5558 - val_accuracy: 0.8612\n",
            "Epoch 29/50\n",
            "188/188 [==============================] - 20s 104ms/step - loss: 0.6260 - accuracy: 0.8361 - val_loss: 0.5363 - val_accuracy: 0.8625\n",
            "Epoch 30/50\n",
            "188/188 [==============================] - 20s 104ms/step - loss: 0.6307 - accuracy: 0.8366 - val_loss: 0.6202 - val_accuracy: 0.8328\n",
            "Epoch 31/50\n",
            "188/188 [==============================] - 20s 104ms/step - loss: 0.6285 - accuracy: 0.8380 - val_loss: 0.5521 - val_accuracy: 0.8565\n",
            "Epoch 32/50\n",
            "188/188 [==============================] - 20s 107ms/step - loss: 0.6102 - accuracy: 0.8417 - val_loss: 0.5457 - val_accuracy: 0.8592\n",
            "Epoch 33/50\n",
            "188/188 [==============================] - 20s 106ms/step - loss: 0.6015 - accuracy: 0.8443 - val_loss: 0.5737 - val_accuracy: 0.8447\n",
            "Epoch 34/50\n",
            "188/188 [==============================] - 20s 107ms/step - loss: 0.5936 - accuracy: 0.8447 - val_loss: 0.5277 - val_accuracy: 0.8630\n",
            "Epoch 35/50\n",
            "188/188 [==============================] - 20s 108ms/step - loss: 0.5931 - accuracy: 0.8454 - val_loss: 0.5258 - val_accuracy: 0.8626\n",
            "Epoch 36/50\n",
            "188/188 [==============================] - 20s 105ms/step - loss: 0.5854 - accuracy: 0.8466 - val_loss: 0.5360 - val_accuracy: 0.8597\n",
            "Epoch 37/50\n",
            "188/188 [==============================] - 20s 105ms/step - loss: 0.5845 - accuracy: 0.8470 - val_loss: 0.5078 - val_accuracy: 0.8693\n",
            "Epoch 38/50\n",
            "188/188 [==============================] - 20s 105ms/step - loss: 0.5742 - accuracy: 0.8492 - val_loss: 0.5164 - val_accuracy: 0.8635\n",
            "Epoch 39/50\n",
            "188/188 [==============================] - 20s 105ms/step - loss: 0.5673 - accuracy: 0.8528 - val_loss: 0.5797 - val_accuracy: 0.8435\n",
            "Epoch 40/50\n",
            "188/188 [==============================] - 20s 105ms/step - loss: 0.5701 - accuracy: 0.8512 - val_loss: 0.5334 - val_accuracy: 0.8576\n",
            "Epoch 41/50\n",
            "188/188 [==============================] - 20s 104ms/step - loss: 0.5644 - accuracy: 0.8527 - val_loss: 0.5025 - val_accuracy: 0.8686\n",
            "Epoch 42/50\n",
            "188/188 [==============================] - 20s 104ms/step - loss: 0.5506 - accuracy: 0.8568 - val_loss: 0.5032 - val_accuracy: 0.8687\n",
            "Epoch 43/50\n",
            "188/188 [==============================] - 20s 106ms/step - loss: 0.5572 - accuracy: 0.8538 - val_loss: 0.5784 - val_accuracy: 0.8381\n",
            "Epoch 44/50\n",
            "188/188 [==============================] - 20s 106ms/step - loss: 0.5467 - accuracy: 0.8562 - val_loss: 0.4885 - val_accuracy: 0.8700\n",
            "Epoch 45/50\n",
            "188/188 [==============================] - 20s 106ms/step - loss: 0.5560 - accuracy: 0.8574 - val_loss: 0.4924 - val_accuracy: 0.8648\n",
            "Epoch 46/50\n",
            "188/188 [==============================] - 20s 108ms/step - loss: 0.5438 - accuracy: 0.8576 - val_loss: 0.4950 - val_accuracy: 0.8685\n",
            "Epoch 47/50\n",
            "188/188 [==============================] - 20s 105ms/step - loss: 0.5335 - accuracy: 0.8612 - val_loss: 0.5198 - val_accuracy: 0.8582\n",
            "Epoch 48/50\n",
            "188/188 [==============================] - 19s 104ms/step - loss: 0.5241 - accuracy: 0.8616 - val_loss: 0.4874 - val_accuracy: 0.8667\n",
            "Epoch 49/50\n",
            "188/188 [==============================] - 20s 104ms/step - loss: 0.5278 - accuracy: 0.8610 - val_loss: 0.4660 - val_accuracy: 0.8807\n",
            "Epoch 50/50\n",
            "188/188 [==============================] - 19s 103ms/step - loss: 0.5188 - accuracy: 0.8640 - val_loss: 0.4905 - val_accuracy: 0.8657\n",
            "Total training time is 16.82 minute\n"
          ],
          "name": "stdout"
        }
      ]
    },
    {
      "cell_type": "code",
      "metadata": {
        "id": "v-YxgJ-_XAH6",
        "colab_type": "code",
        "colab": {
          "base_uri": "https://localhost:8080/",
          "height": 294
        },
        "outputId": "a0c4afa5-12c0-45db-c47d-513638087527"
      },
      "source": [
        "# plot summarize history for loss\n",
        "plt.plot(history.history['loss'])\n",
        "plt.plot(history.history['val_loss'])\n",
        "plt.title('model loss')\n",
        "plt.ylabel('loss')\n",
        "plt.xlabel('epoch')\n",
        "plt.legend(['train', 'val'], loc='upper left')\n",
        "plt.show()"
      ],
      "execution_count": 26,
      "outputs": [
        {
          "output_type": "display_data",
          "data": {
            "image/png": "[encoded data removed]",
            "text/plain": [
              "<Figure size 432x288 with 1 Axes>"
            ]
          },
          "metadata": {
            "tags": [],
            "needs_background": "light"
          }
        }
      ]
    },
    {
      "cell_type": "code",
      "metadata": {
        "id": "OuXguT29XEay",
        "colab_type": "code",
        "colab": {
          "base_uri": "https://localhost:8080/",
          "height": 70
        },
        "outputId": "ec372da0-8bdf-4517-d203-d4a52a121209"
      },
      "source": [
        "#Check accuracy\n",
        "cnn_pca_pred_mnist = model.predict(x_test_pca_cnn)\n",
        "\n",
        "cnn_pca_pred_mnist = np.argmax(cnn_pca_pred_mnist,axis=1)\n",
        "y_true = np.argmax(y_test_tf,axis=1)\n",
        "\n",
        "cnn_pca_f1_mnist = metrics.f1_score(y_true, cnn_pca_pred_mnist, \n",
        "                                    average= \"weighted\")\n",
        "cnn_pca_accuracy_mnist = metrics.accuracy_score(y_true, cnn_pca_pred_mnist)\n",
        "cnn_pca_cm_mnist = metrics.confusion_matrix(y_true, cnn_pca_pred_mnist)\n",
        "\n",
        "print(\"-----------------Convolutional Neural Network Report---------------\")\n",
        "print(\"F1 score: {}\".format(cnn_pca_f1_mnist))\n",
        "print(\"Accuracy score: {}\".format(cnn_pca_accuracy_mnist))"
      ],
      "execution_count": 27,
      "outputs": [
        {
          "output_type": "stream",
          "text": [
            "-----------------Convolutional Neural Network Report---------------\n",
            "F1 score: 0.8617258883036695\n",
            "Accuracy score: 0.8643\n"
          ],
          "name": "stdout"
        }
      ]
    }
  ]
}