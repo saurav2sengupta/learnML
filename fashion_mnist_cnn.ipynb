{
  "nbformat": 4,
  "nbformat_minor": 0,
  "metadata": {
    "colab": {
      "name": "fashion_mnist_cnn.ipynb",
      "provenance": [],
      "collapsed_sections": [],
      "authorship_tag": "ABX9TyN+XiV+i0X9qyHAXQMsuzPe",
      "include_colab_link": true
    },
    "kernelspec": {
      "name": "python3",
      "display_name": "Python 3"
    }
  },
  "cells": [
    {
      "cell_type": "markdown",
      "metadata": {
        "id": "view-in-github",
        "colab_type": "text"
      },
      "source": [
        "<a href=\"https://colab.research.google.com/github/saurav2sengupta/learnML/blob/master/fashion_mnist_cnn.ipynb\" target=\"_parent\"><img src=\"https://colab.research.google.com/assets/colab-badge.svg\" alt=\"Open In Colab\"/></a>"
      ]
    },
    {
      "cell_type": "code",
      "metadata": {
        "id": "V4842T1EXXIx",
        "colab_type": "code",
        "colab": {}
      },
      "source": [
        "#Import basic Python libraries\n",
        "import numpy as np\n",
        "import pandas as pd\n",
        "import time\n",
        "import random\n",
        "import matplotlib.pyplot as plt\n",
        " \n",
        "%matplotlib inline"
      ],
      "execution_count": 1,
      "outputs": []
    },
    {
      "cell_type": "code",
      "metadata": {
        "id": "lGjkLZAMX_q3",
        "colab_type": "code",
        "colab": {
          "base_uri": "https://localhost:8080/",
          "height": 247
        },
        "outputId": "ac83cbe1-5294-405f-8cfc-eab2bcc5ada5"
      },
      "source": [
        "from keras.datasets import fashion_mnist\n",
        "\n",
        "(x_train, y_train), (x_test, y_test) = fashion_mnist.load_data()\n",
        "\n",
        "print(\"Shape of x_train {}\".format(x_train.shape))\n",
        "print(\"Shape of y_train {}\".format(y_train.shape))\n",
        "print(\"Shape of x_test {}\".format(x_test.shape))\n",
        "print(\"Shape of y_test {}\".format(y_test.shape))\n"
      ],
      "execution_count": 2,
      "outputs": [
        {
          "output_type": "stream",
          "text": [
            "Using TensorFlow backend.\n"
          ],
          "name": "stderr"
        },
        {
          "output_type": "stream",
          "text": [
            "Downloading data from http://fashion-mnist.s3-website.eu-central-1.amazonaws.com/train-labels-idx1-ubyte.gz\n",
            "32768/29515 [=================================] - 0s 3us/step\n",
            "Downloading data from http://fashion-mnist.s3-website.eu-central-1.amazonaws.com/train-images-idx3-ubyte.gz\n",
            "26427392/26421880 [==============================] - 2s 0us/step\n",
            "Downloading data from http://fashion-mnist.s3-website.eu-central-1.amazonaws.com/t10k-labels-idx1-ubyte.gz\n",
            "8192/5148 [===============================================] - 0s 0us/step\n",
            "Downloading data from http://fashion-mnist.s3-website.eu-central-1.amazonaws.com/t10k-images-idx3-ubyte.gz\n",
            "4423680/4422102 [==============================] - 1s 0us/step\n",
            "Shape of x_train (60000, 28, 28)\n",
            "Shape of y_train (60000,)\n",
            "Shape of x_test (10000, 28, 28)\n",
            "Shape of y_test (10000,)\n"
          ],
          "name": "stdout"
        }
      ]
    },
    {
      "cell_type": "code",
      "metadata": {
        "id": "x9U0NmHyiTQc",
        "colab_type": "code",
        "colab": {}
      },
      "source": [
        "labelNames = [\"T-shirt/top\", \"Trouser\", \"Pullover\", \"Dress\", \"Coat\", \"Sandal\", \n",
        "              \"Shirt\", \"Sneaker\", \"Bag\", \"Ankle boot\"]"
      ],
      "execution_count": 3,
      "outputs": []
    },
    {
      "cell_type": "code",
      "metadata": {
        "id": "HaWCtHbFuOG5",
        "colab_type": "code",
        "colab": {}
      },
      "source": [
        "# Normalize the data\n",
        "x_train = x_train.astype('float32')\n",
        "x_test = x_test.astype('float32')\n",
        "x_train /= 255.0\n",
        "x_test /= 255.0"
      ],
      "execution_count": 4,
      "outputs": []
    },
    {
      "cell_type": "code",
      "metadata": {
        "id": "WM9e36eUuSHM",
        "colab_type": "code",
        "colab": {
          "base_uri": "https://localhost:8080/",
          "height": 52
        },
        "outputId": "121f824f-a157-41b7-86ee-b57a2c8d00db"
      },
      "source": [
        "#Reshape the train and test sets into two dimensional matrix\n",
        "x_train = x_train.reshape(x_train.shape[0], x_train.shape[1] * x_train.shape[2])\n",
        "x_test = x_test.reshape(x_test.shape[0], x_test.shape[1] * x_test.shape[2])\n",
        "\n",
        "print(x_train.shape)\n",
        "print(x_test.shape)"
      ],
      "execution_count": 5,
      "outputs": [
        {
          "output_type": "stream",
          "text": [
            "(60000, 784)\n",
            "(10000, 784)\n"
          ],
          "name": "stdout"
        }
      ]
    },
    {
      "cell_type": "code",
      "metadata": {
        "id": "upEr9UPsufn3",
        "colab_type": "code",
        "colab": {}
      },
      "source": [
        "#Import classic ML models\n",
        "from sklearn.svm import SVC\n",
        "from sklearn.neighbors import KNeighborsClassifier\n",
        "from sklearn.ensemble import RandomForestClassifier\n",
        "from sklearn.tree import DecisionTreeClassifier"
      ],
      "execution_count": 6,
      "outputs": []
    },
    {
      "cell_type": "code",
      "metadata": {
        "id": "oL8ExM0W0cAk",
        "colab_type": "code",
        "colab": {
          "base_uri": "https://localhost:8080/",
          "height": 70
        },
        "outputId": "86ac587d-6df9-4cc6-cbd8-dbfec30629d2"
      },
      "source": [
        "\"\"\"\n",
        "# SVM Model\n",
        "start1 = time.time()\n",
        "svc = SVC(C=1, kernel='linear', gamma=\"auto\")\n",
        "svc.fit(x_train, y_train)\n",
        "end1 = time.time()\n",
        "svm_time = end1 - start1\n",
        "\"\"\"\n",
        "\n",
        "# KNN Model\n",
        "start2 = time.time()\n",
        "knn = KNeighborsClassifier(n_neighbors=5)\n",
        "knn.fit(x_train, y_train)\n",
        "#y_pred_knn = knn.predict(x_test)\n",
        "end2 = time.time()\n",
        "knn_time = end2 - start2\n",
        "\n",
        "# Random Forest\n",
        "start3 = time.time()\n",
        "random_forest = RandomForestClassifier(criterion='entropy', max_depth=70, \n",
        "                                       n_estimators=100)\n",
        "random_forest.fit(x_train, y_train)\n",
        "end3 = time.time()\n",
        "forest_time = end3 - start3\n",
        "\n",
        "# Decision Tree\n",
        "start4 = time.time()\n",
        "tree = DecisionTreeClassifier(max_depth=100, criterion='entropy')\n",
        "tree.fit(x_train, y_train)\n",
        "end4 = time.time()\n",
        "tree_time = end4 - start4\n",
        "\n",
        "#print(\"SVM Time: {:0.2f} minute\".format(svm_time/60.0))\n",
        "print(\"KNN Time: {:0.2f} minute\".format(knn_time/60.0))\n",
        "print(\"Random Forest Time: {:0.2f} minute\".format(forest_time/60.0))\n",
        "print(\"Decision Tree Time: {:0.2f} minute\".format(tree_time/60.0))"
      ],
      "execution_count": 7,
      "outputs": [
        {
          "output_type": "stream",
          "text": [
            "KNN Time: 0.20 minute\n",
            "Random Forest Time: 2.10 minute\n",
            "Decision Tree Time: 0.76 minute\n"
          ],
          "name": "stdout"
        }
      ]
    },
    {
      "cell_type": "code",
      "metadata": {
        "id": "wPxYI1QO0zIB",
        "colab_type": "code",
        "colab": {}
      },
      "source": [
        "#Check the accuracy for each of the above ML models\n",
        "from sklearn import metrics\n",
        "\n",
        "# KNN report and analysis\n",
        "y_pred_knn = knn.predict(x_test)\n",
        "\n",
        "knn_f1 = metrics.f1_score(y_test, y_pred_knn, average= \"weighted\")\n",
        "knn_accuracy = metrics.accuracy_score(y_test, y_pred_knn)\n",
        "#knn_cm = metrics.confusion_matrix(y_test, y_pred_knn)"
      ],
      "execution_count": 9,
      "outputs": []
    },
    {
      "cell_type": "code",
      "metadata": {
        "id": "6ug1nAwg8Rmb",
        "colab_type": "code",
        "colab": {
          "base_uri": "https://localhost:8080/",
          "height": 70
        },
        "outputId": "a263fa1b-3d87-4844-a185-c00271238bdb"
      },
      "source": [
        "print(\"-----------------K-nearest neighbors Report---------------\")\n",
        "print(\"F1 score: {}\".format(knn_f1))\n",
        "print(\"Accuracy score: {}\".format(knn_accuracy))"
      ],
      "execution_count": 11,
      "outputs": [
        {
          "output_type": "stream",
          "text": [
            "-----------------K-nearest neighbors Report---------------\n",
            "F1 score: 0.8546439722018904\n",
            "Accuracy score: 0.8554\n"
          ],
          "name": "stdout"
        }
      ]
    },
    {
      "cell_type": "code",
      "metadata": {
        "id": "NadXNUo_8Thx",
        "colab_type": "code",
        "colab": {}
      },
      "source": [
        "# Random Forest report and analysis\n",
        "y_pred_forest = random_forest.predict(x_test)\n",
        "random_forest_f1 = metrics.f1_score(y_test, y_pred_forest, average= \"weighted\"\n",
        ")\n",
        "random_forest_accuracy = metrics.accuracy_score(y_test, y_pred_forest)"
      ],
      "execution_count": 12,
      "outputs": []
    },
    {
      "cell_type": "code",
      "metadata": {
        "id": "zFGJ5Xcr2GDP",
        "colab_type": "code",
        "colab": {
          "base_uri": "https://localhost:8080/",
          "height": 70
        },
        "outputId": "ac15ab2c-b376-4c3d-a7e6-266b9eb2b098"
      },
      "source": [
        "print(\"-----------------Random Forest Report---------------\")\n",
        "print(\"F1 score: {}\".format(random_forest_f1))\n",
        "print(\"Accuracy score: {}\".format(random_forest_accuracy))"
      ],
      "execution_count": 13,
      "outputs": [
        {
          "output_type": "stream",
          "text": [
            "-----------------Random Forest Report---------------\n",
            "F1 score: 0.8760242660853803\n",
            "Accuracy score: 0.8776\n"
          ],
          "name": "stdout"
        }
      ]
    },
    {
      "cell_type": "code",
      "metadata": {
        "id": "yX5GCIoe8QZq",
        "colab_type": "code",
        "colab": {
          "base_uri": "https://localhost:8080/",
          "height": 70
        },
        "outputId": "bbee59c8-bede-4b14-fce1-f6849b8f14d9"
      },
      "source": [
        "# Decision Tree report and analysis\n",
        "y_pred_tree = tree.predict(x_test)\n",
        "tree_f1 = metrics.f1_score(y_test, y_pred_tree, average= \"weighted\")\n",
        "tree_accuracy = metrics.accuracy_score(y_test, y_pred_tree)\n",
        "\n",
        "print(\"-----------------Decision Tree Report---------------\")\n",
        "print(\"F1 score: {}\".format(tree_f1))\n",
        "print(\"Accuracy score: {}\".format(tree_accuracy))"
      ],
      "execution_count": 14,
      "outputs": [
        {
          "output_type": "stream",
          "text": [
            "-----------------Decision Tree Report---------------\n",
            "F1 score: 0.8014683836996909\n",
            "Accuracy score: 0.8007\n"
          ],
          "name": "stdout"
        }
      ]
    },
    {
      "cell_type": "code",
      "metadata": {
        "id": "pMmfPsvj8Iy5",
        "colab_type": "code",
        "colab": {}
      },
      "source": [
        ""
      ],
      "execution_count": null,
      "outputs": []
    }
  ]
}