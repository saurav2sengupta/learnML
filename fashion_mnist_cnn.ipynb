{
  "nbformat": 4,
  "nbformat_minor": 0,
  "metadata": {
    "colab": {
      "name": "fashion_mnist_cnn.ipynb",
      "provenance": [],
      "collapsed_sections": [],
      "authorship_tag": "ABX9TyPtJdSeR3KfvNxSNFnFFcqM",
      "include_colab_link": true
    },
    "kernelspec": {
      "name": "python3",
      "display_name": "Python 3"
    }
  },
  "cells": [
    {
      "cell_type": "markdown",
      "metadata": {
        "id": "view-in-github",
        "colab_type": "text"
      },
      "source": [
        "<a href=\"https://colab.research.google.com/github/saurav2sengupta/learnML/blob/master/fashion_mnist_cnn.ipynb\" target=\"_parent\"><img src=\"https://colab.research.google.com/assets/colab-badge.svg\" alt=\"Open In Colab\"/></a>"
      ]
    },
    {
      "cell_type": "code",
      "metadata": {
        "id": "V4842T1EXXIx",
        "colab_type": "code",
        "colab": {}
      },
      "source": [
        "#Import basic Python libraries\n",
        "import numpy as np\n",
        "import pandas as pd\n",
        "import time\n",
        "import random\n",
        "import matplotlib.pyplot as plt\n",
        " \n",
        "%matplotlib inline"
      ],
      "execution_count": 1,
      "outputs": []
    },
    {
      "cell_type": "code",
      "metadata": {
        "id": "lGjkLZAMX_q3",
        "colab_type": "code",
        "colab": {
          "base_uri": "https://localhost:8080/",
          "height": 87
        },
        "outputId": "dcb5b71b-e414-43e4-d830-03678fe21cc6"
      },
      "source": [
        "from keras.datasets import fashion_mnist\n",
        "\n",
        "(x_train, y_train), (x_test, y_test) = fashion_mnist.load_data()\n",
        "\n",
        "print(\"Shape of x_train {}\".format(x_train.shape))\n",
        "print(\"Shape of y_train {}\".format(y_train.shape))\n",
        "print(\"Shape of x_test {}\".format(x_test.shape))\n",
        "print(\"Shape of y_test {}\".format(y_test.shape))\n"
      ],
      "execution_count": 17,
      "outputs": [
        {
          "output_type": "stream",
          "text": [
            "Shape of x_train (60000, 28, 28)\n",
            "Shape of y_train (60000,)\n",
            "Shape of x_test (10000, 28, 28)\n",
            "Shape of y_test (10000,)\n"
          ],
          "name": "stdout"
        }
      ]
    },
    {
      "cell_type": "code",
      "metadata": {
        "id": "x9U0NmHyiTQc",
        "colab_type": "code",
        "colab": {}
      },
      "source": [
        "labelNames = [\"T-shirt/top\", \"Trouser\", \"Pullover\", \"Dress\", \"Coat\", \"Sandal\", \n",
        "              \"Shirt\", \"Sneaker\", \"Bag\", \"Ankle boot\"]"
      ],
      "execution_count": 18,
      "outputs": []
    },
    {
      "cell_type": "code",
      "metadata": {
        "id": "HaWCtHbFuOG5",
        "colab_type": "code",
        "colab": {}
      },
      "source": [
        "# Normalize the data\n",
        "x_train = x_train.astype('float32')\n",
        "x_test = x_test.astype('float32')\n",
        "x_train /= 255.0\n",
        "x_test /= 255.0"
      ],
      "execution_count": 19,
      "outputs": []
    },
    {
      "cell_type": "code",
      "metadata": {
        "id": "WM9e36eUuSHM",
        "colab_type": "code",
        "colab": {
          "base_uri": "https://localhost:8080/",
          "height": 52
        },
        "outputId": "121f824f-a157-41b7-86ee-b57a2c8d00db"
      },
      "source": [
        "#Reshape the train and test sets into two dimensional matrix\n",
        "x_train = x_train.reshape(x_train.shape[0], x_train.shape[1] * x_train.shape[2])\n",
        "x_test = x_test.reshape(x_test.shape[0], x_test.shape[1] * x_test.shape[2])\n",
        "\n",
        "print(x_train.shape)\n",
        "print(x_test.shape)"
      ],
      "execution_count": 5,
      "outputs": [
        {
          "output_type": "stream",
          "text": [
            "(60000, 784)\n",
            "(10000, 784)\n"
          ],
          "name": "stdout"
        }
      ]
    },
    {
      "cell_type": "code",
      "metadata": {
        "id": "upEr9UPsufn3",
        "colab_type": "code",
        "colab": {}
      },
      "source": [
        "#Import classic ML models\n",
        "from sklearn.svm import SVC\n",
        "from sklearn.neighbors import KNeighborsClassifier\n",
        "from sklearn.ensemble import RandomForestClassifier\n",
        "from sklearn.tree import DecisionTreeClassifier"
      ],
      "execution_count": 6,
      "outputs": []
    },
    {
      "cell_type": "code",
      "metadata": {
        "id": "oL8ExM0W0cAk",
        "colab_type": "code",
        "colab": {
          "base_uri": "https://localhost:8080/",
          "height": 70
        },
        "outputId": "86ac587d-6df9-4cc6-cbd8-dbfec30629d2"
      },
      "source": [
        "\"\"\"\n",
        "# SVM Model\n",
        "start1 = time.time()\n",
        "svc = SVC(C=1, kernel='linear', gamma=\"auto\")\n",
        "svc.fit(x_train, y_train)\n",
        "end1 = time.time()\n",
        "svm_time = end1 - start1\n",
        "\"\"\"\n",
        "\n",
        "# KNN Model\n",
        "start2 = time.time()\n",
        "knn = KNeighborsClassifier(n_neighbors=5)\n",
        "knn.fit(x_train, y_train)\n",
        "#y_pred_knn = knn.predict(x_test)\n",
        "end2 = time.time()\n",
        "knn_time = end2 - start2\n",
        "\n",
        "# Random Forest\n",
        "start3 = time.time()\n",
        "random_forest = RandomForestClassifier(criterion='entropy', max_depth=70, \n",
        "                                       n_estimators=100)\n",
        "random_forest.fit(x_train, y_train)\n",
        "end3 = time.time()\n",
        "forest_time = end3 - start3\n",
        "\n",
        "# Decision Tree\n",
        "start4 = time.time()\n",
        "tree = DecisionTreeClassifier(max_depth=100, criterion='entropy')\n",
        "tree.fit(x_train, y_train)\n",
        "end4 = time.time()\n",
        "tree_time = end4 - start4\n",
        "\n",
        "#print(\"SVM Time: {:0.2f} minute\".format(svm_time/60.0))\n",
        "print(\"KNN Time: {:0.2f} minute\".format(knn_time/60.0))\n",
        "print(\"Random Forest Time: {:0.2f} minute\".format(forest_time/60.0))\n",
        "print(\"Decision Tree Time: {:0.2f} minute\".format(tree_time/60.0))"
      ],
      "execution_count": 7,
      "outputs": [
        {
          "output_type": "stream",
          "text": [
            "KNN Time: 0.20 minute\n",
            "Random Forest Time: 2.10 minute\n",
            "Decision Tree Time: 0.76 minute\n"
          ],
          "name": "stdout"
        }
      ]
    },
    {
      "cell_type": "code",
      "metadata": {
        "id": "wPxYI1QO0zIB",
        "colab_type": "code",
        "colab": {}
      },
      "source": [
        "#Check the accuracy for each of the above ML models\n",
        "from sklearn import metrics\n",
        "\n",
        "# KNN report and analysis\n",
        "y_pred_knn = knn.predict(x_test)\n",
        "\n",
        "knn_f1 = metrics.f1_score(y_test, y_pred_knn, average= \"weighted\")\n",
        "knn_accuracy = metrics.accuracy_score(y_test, y_pred_knn)\n",
        "#knn_cm = metrics.confusion_matrix(y_test, y_pred_knn)"
      ],
      "execution_count": 9,
      "outputs": []
    },
    {
      "cell_type": "code",
      "metadata": {
        "id": "6ug1nAwg8Rmb",
        "colab_type": "code",
        "colab": {
          "base_uri": "https://localhost:8080/",
          "height": 70
        },
        "outputId": "a263fa1b-3d87-4844-a185-c00271238bdb"
      },
      "source": [
        "print(\"-----------------K-nearest neighbors Report---------------\")\n",
        "print(\"F1 score: {}\".format(knn_f1))\n",
        "print(\"Accuracy score: {}\".format(knn_accuracy))"
      ],
      "execution_count": 11,
      "outputs": [
        {
          "output_type": "stream",
          "text": [
            "-----------------K-nearest neighbors Report---------------\n",
            "F1 score: 0.8546439722018904\n",
            "Accuracy score: 0.8554\n"
          ],
          "name": "stdout"
        }
      ]
    },
    {
      "cell_type": "code",
      "metadata": {
        "id": "NadXNUo_8Thx",
        "colab_type": "code",
        "colab": {}
      },
      "source": [
        "# Random Forest report and analysis\n",
        "y_pred_forest = random_forest.predict(x_test)\n",
        "random_forest_f1 = metrics.f1_score(y_test, y_pred_forest, average= \"weighted\"\n",
        ")\n",
        "random_forest_accuracy = metrics.accuracy_score(y_test, y_pred_forest)"
      ],
      "execution_count": 12,
      "outputs": []
    },
    {
      "cell_type": "code",
      "metadata": {
        "id": "zFGJ5Xcr2GDP",
        "colab_type": "code",
        "colab": {
          "base_uri": "https://localhost:8080/",
          "height": 70
        },
        "outputId": "ac15ab2c-b376-4c3d-a7e6-266b9eb2b098"
      },
      "source": [
        "print(\"-----------------Random Forest Report---------------\")\n",
        "print(\"F1 score: {}\".format(random_forest_f1))\n",
        "print(\"Accuracy score: {}\".format(random_forest_accuracy))"
      ],
      "execution_count": 13,
      "outputs": [
        {
          "output_type": "stream",
          "text": [
            "-----------------Random Forest Report---------------\n",
            "F1 score: 0.8760242660853803\n",
            "Accuracy score: 0.8776\n"
          ],
          "name": "stdout"
        }
      ]
    },
    {
      "cell_type": "code",
      "metadata": {
        "id": "yX5GCIoe8QZq",
        "colab_type": "code",
        "colab": {
          "base_uri": "https://localhost:8080/",
          "height": 70
        },
        "outputId": "bbee59c8-bede-4b14-fce1-f6849b8f14d9"
      },
      "source": [
        "# Decision Tree report and analysis\n",
        "y_pred_tree = tree.predict(x_test)\n",
        "tree_f1 = metrics.f1_score(y_test, y_pred_tree, average= \"weighted\")\n",
        "tree_accuracy = metrics.accuracy_score(y_test, y_pred_tree)\n",
        "\n",
        "print(\"-----------------Decision Tree Report---------------\")\n",
        "print(\"F1 score: {}\".format(tree_f1))\n",
        "print(\"Accuracy score: {}\".format(tree_accuracy))"
      ],
      "execution_count": 14,
      "outputs": [
        {
          "output_type": "stream",
          "text": [
            "-----------------Decision Tree Report---------------\n",
            "F1 score: 0.8014683836996909\n",
            "Accuracy score: 0.8007\n"
          ],
          "name": "stdout"
        }
      ]
    },
    {
      "cell_type": "code",
      "metadata": {
        "id": "pMmfPsvj8Iy5",
        "colab_type": "code",
        "colab": {}
      },
      "source": [
        "#Use a CNN model to predict\n",
        "#Import usefull CNN libraries\n",
        "\n",
        "from tensorflow.keras.models import Sequential\n",
        "from tensorflow.keras.layers import Dense, Dropout, Flatten, Conv2D\n",
        "from tensorflow.keras.layers import MaxPooling2D, BatchNormalization, Input\n",
        "from tensorflow.keras.layers import UpSampling2D, GlobalAveragePooling2D\n",
        "from tensorflow.keras.callbacks import EarlyStopping, ModelCheckpoint\n",
        "from tensorflow.keras.preprocessing.image import  ImageDataGenerator\n",
        "from tensorflow.keras import optimizers, regularizers\n",
        "from tensorflow.keras.optimizers import Adam, SGD\n",
        "from tensorflow.keras.models import Model, load_model"
      ],
      "execution_count": 15,
      "outputs": []
    },
    {
      "cell_type": "code",
      "metadata": {
        "id": "EUMRRz7ZA_oS",
        "colab_type": "code",
        "colab": {
          "base_uri": "https://localhost:8080/",
          "height": 52
        },
        "outputId": "689cf3f2-76bf-472c-b4b0-cd93f3c63cc0"
      },
      "source": [
        "# reshape the input into 4D array for CNN model\n",
        "\n",
        "x_train = x_train.reshape(x_train.shape[0], x_train.shape[1], x_train.shape[2], 1)\n",
        "x_test = x_test.reshape(x_test.shape[0], x_test.shape[1], x_test.shape[1], 1)\n",
        "\n",
        "print(x_train.shape)\n",
        "print(x_test.shape)"
      ],
      "execution_count": 20,
      "outputs": [
        {
          "output_type": "stream",
          "text": [
            "(60000, 28, 28, 1)\n",
            "(10000, 28, 28, 1)\n"
          ],
          "name": "stdout"
        }
      ]
    },
    {
      "cell_type": "code",
      "metadata": {
        "id": "9B_-s_QuBEn2",
        "colab_type": "code",
        "colab": {}
      },
      "source": [
        "# One hot encode the outcome\n",
        "from tensorflow.keras.utils import to_categorical\n",
        "\n",
        "num_classes = 10\n",
        "y_train_tf = to_categorical(y_train, num_classes)\n",
        "y_test_tf = to_categorical(y_test, num_classes)"
      ],
      "execution_count": 22,
      "outputs": []
    },
    {
      "cell_type": "code",
      "metadata": {
        "id": "4pA6S5KaOv-d",
        "colab_type": "code",
        "colab": {
          "base_uri": "https://localhost:8080/",
          "height": 34
        },
        "outputId": "fb865c9e-a196-4cb6-9bc8-e7ae44a21cfb"
      },
      "source": [
        "print(y_train_tf.shape)"
      ],
      "execution_count": 23,
      "outputs": [
        {
          "output_type": "stream",
          "text": [
            "(60000, 10)\n"
          ],
          "name": "stdout"
        }
      ]
    },
    {
      "cell_type": "code",
      "metadata": {
        "id": "DtSJrjTTQbFq",
        "colab_type": "code",
        "colab": {}
      },
      "source": [
        "#Define Hyperparameters\n",
        "input_shape = (28, 28, 1)\n",
        "learning_rate = 0.001"
      ],
      "execution_count": 24,
      "outputs": []
    },
    {
      "cell_type": "code",
      "metadata": {
        "id": "NnLbf84GSEEe",
        "colab_type": "code",
        "colab": {
          "base_uri": "https://localhost:8080/",
          "height": 905
        },
        "outputId": "6600eacc-b2e9-4ee5-9033-d27ff945f225"
      },
      "source": [
        "#Build the CNN Model\n",
        "from tensorflow import keras\n",
        "\n",
        "model = Sequential()\n",
        "\n",
        "model.add(Conv2D(96, kernel_size=(3, 3), strides=(1, 1), padding='valid', \n",
        "                 activation='relu', \n",
        "                 kernel_regularizer=keras.regularizers.l2(0.001), \n",
        "                 input_shape=input_shape))\n",
        "model.add(Conv2D(96, kernel_size=(3, 3), strides=(1, 1), padding='valid',\n",
        "                 activation='relu', \n",
        "                 kernel_regularizer=keras.regularizers.l2(0.001)))\n",
        "model.add(BatchNormalization())\n",
        "model.add(MaxPooling2D(pool_size=(2, 2), strides=None, padding='valid'))\n",
        "model.add(Dropout(0.45))\n",
        "model.add(Conv2D(128, kernel_size=(3, 3), strides=(1, 1), padding='valid',\n",
        "                 activation='relu', \n",
        "                 kernel_regularizer=keras.regularizers.l2(0.001)))\n",
        "model.add(Conv2D(128, kernel_size=(3, 3), strides=(1, 1), padding='valid',\n",
        "                 activation='relu', \n",
        "                 kernel_regularizer=keras.regularizers.l2(0.001)))\n",
        "model.add(BatchNormalization())\n",
        "model.add(MaxPooling2D(pool_size=(2, 2), strides=None, padding='valid'))\n",
        "model.add(Dropout(0.45))\n",
        "\n",
        "model.add(Conv2D(256, kernel_size=(3, 3), strides=(1, 1), padding='same', \n",
        "                 activation='relu', \n",
        "                 kernel_regularizer=keras.regularizers.l2(0.001)))\n",
        "model.add(Conv2D(256, kernel_size=(3, 3), strides=(1, 1), padding='valid',\n",
        "                 activation='relu', \n",
        "                 kernel_regularizer=keras.regularizers.l2(0.001)))\n",
        "model.add(BatchNormalization())\n",
        "model.add(MaxPooling2D(pool_size=(2, 2), strides=None, padding='valid'))\n",
        "model.add(Dropout(0.45))\n",
        "model.add(Flatten())\n",
        "\n",
        "model.add(Dense(512, activation='relu'))\n",
        "model.add(Dropout(0.5))\n",
        "model.add(Dense(512, activation='relu'))\n",
        "model.add(Dropout(0.5))\n",
        "model.add(Dense(y_train_tf.shape[1], activation='softmax'))\n",
        "\n",
        "monitor = EarlyStopping(monitor='val_loss', min_delta=1e-3, patience=5, \n",
        "                        verbose=1, mode='auto')\n",
        "model.compile(loss=\"categorical_crossentropy\", \n",
        "              optimizer=Adam(lr=learning_rate), metrics=['accuracy'])\n",
        "\n",
        "model.summary()"
      ],
      "execution_count": 27,
      "outputs": [
        {
          "output_type": "stream",
          "text": [
            "Model: \"sequential_2\"\n",
            "_________________________________________________________________\n",
            "Layer (type)                 Output Shape              Param #   \n",
            "=================================================================\n",
            "conv2d (Conv2D)              (None, 26, 26, 96)        960       \n",
            "_________________________________________________________________\n",
            "conv2d_1 (Conv2D)            (None, 24, 24, 96)        83040     \n",
            "_________________________________________________________________\n",
            "batch_normalization (BatchNo (None, 24, 24, 96)        384       \n",
            "_________________________________________________________________\n",
            "max_pooling2d (MaxPooling2D) (None, 12, 12, 96)        0         \n",
            "_________________________________________________________________\n",
            "dropout (Dropout)            (None, 12, 12, 96)        0         \n",
            "_________________________________________________________________\n",
            "conv2d_2 (Conv2D)            (None, 10, 10, 128)       110720    \n",
            "_________________________________________________________________\n",
            "conv2d_3 (Conv2D)            (None, 8, 8, 128)         147584    \n",
            "_________________________________________________________________\n",
            "batch_normalization_1 (Batch (None, 8, 8, 128)         512       \n",
            "_________________________________________________________________\n",
            "max_pooling2d_1 (MaxPooling2 (None, 4, 4, 128)         0         \n",
            "_________________________________________________________________\n",
            "dropout_1 (Dropout)          (None, 4, 4, 128)         0         \n",
            "_________________________________________________________________\n",
            "conv2d_4 (Conv2D)            (None, 4, 4, 256)         295168    \n",
            "_________________________________________________________________\n",
            "conv2d_5 (Conv2D)            (None, 2, 2, 256)         590080    \n",
            "_________________________________________________________________\n",
            "batch_normalization_2 (Batch (None, 2, 2, 256)         1024      \n",
            "_________________________________________________________________\n",
            "max_pooling2d_2 (MaxPooling2 (None, 1, 1, 256)         0         \n",
            "_________________________________________________________________\n",
            "dropout_2 (Dropout)          (None, 1, 1, 256)         0         \n",
            "_________________________________________________________________\n",
            "flatten (Flatten)            (None, 256)               0         \n",
            "_________________________________________________________________\n",
            "dense (Dense)                (None, 512)               131584    \n",
            "_________________________________________________________________\n",
            "dropout_3 (Dropout)          (None, 512)               0         \n",
            "_________________________________________________________________\n",
            "dense_1 (Dense)              (None, 512)               262656    \n",
            "_________________________________________________________________\n",
            "dropout_4 (Dropout)          (None, 512)               0         \n",
            "_________________________________________________________________\n",
            "dense_2 (Dense)              (None, 10)                5130      \n",
            "=================================================================\n",
            "Total params: 1,628,842\n",
            "Trainable params: 1,627,882\n",
            "Non-trainable params: 960\n",
            "_________________________________________________________________\n"
          ],
          "name": "stdout"
        }
      ]
    },
    {
      "cell_type": "code",
      "metadata": {
        "id": "NTWMjhE2TOx2",
        "colab_type": "code",
        "colab": {}
      },
      "source": [
        "start = time.time()\n",
        "\n",
        "history = model.fit(x_train,y_train_tf, validation_split=0.2, \n",
        "                    callbacks=[monitor,checkpointer], verbose=1,epochs=50, \n",
        "                    batch_size=64, shuffle=True)\n",
        "\n",
        "end = time.time()\n",
        "cnn_mnist_time = end - start\n",
        "\n",
        "print(\"Total training time is {:0.2f} minute\".format(cnn_mnist_time/60.0))"
      ],
      "execution_count": null,
      "outputs": []
    }
  ]
}