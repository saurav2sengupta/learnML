import numpy as np
import pandas as pd
import time
import random
import matplotlib.pyplot as plt

%matplotlib inline
