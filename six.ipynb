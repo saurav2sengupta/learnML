{
  "nbformat": 4,
  "nbformat_minor": 0,
  "metadata": {
    "colab": {
      "name": "six.ipynb",
      "version": "0.3.2",
      "provenance": [],
      "collapsed_sections": [],
      "include_colab_link": true
    },
    "kernelspec": {
      "name": "python3",
      "display_name": "Python 3"
    },
    "accelerator": "GPU"
  },
  "cells": [
    {
      "cell_type": "markdown",
      "metadata": {
        "id": "view-in-github",
        "colab_type": "text"
      },
      "source": [
        "<a href=\"https://colab.research.google.com/github/saurav2sengupta/learnML/blob/master/six.ipynb\" target=\"_parent\"><img src=\"https://colab.research.google.com/assets/colab-badge.svg\" alt=\"Open In Colab\"/></a>"
      ]
    },
    {
      "metadata": {
        "id": "dr-hE8YTQI59",
        "colab_type": "code",
        "colab": {}
      },
      "cell_type": "code",
      "source": [
        "import keras\n",
        "from keras.datasets import imdb\n",
        "from keras.preprocessing.sequence import pad_sequences\n",
        "from keras.models import Sequential\n",
        "from keras.layers import Dense, Embedding, SpatialDropout1D\n",
        "from keras.layers import SimpleRNN"
      ],
      "execution_count": 0,
      "outputs": []
    },
    {
      "metadata": {
        "id": "Q63tYW59RYzA",
        "colab_type": "code",
        "colab": {}
      },
      "cell_type": "code",
      "source": [
        "output_dir = 'model_output/simplernn'\n",
        "\n",
        "epochs = 16\n",
        "batch_size = 128\n",
        "\n",
        "n_dim = 64\n",
        "unique_words = 10000\n",
        "max_review_length = 100\n",
        "pad_type = 'pre'\n",
        "trunc_type = 'pre'\n",
        "drop_embed = 0.2\n",
        "\n",
        "n_rnn = 256\n",
        "drop_rnn = 0.2\n",
        "\n",
        "n_dense = 256\n",
        "dropout = 0.2"
      ],
      "execution_count": 0,
      "outputs": []
    },
    {
      "metadata": {
        "id": "b-GZj2etR6f5",
        "colab_type": "code",
        "colab": {
          "base_uri": "https://localhost:8080/",
          "height": 51
        },
        "outputId": "9333e8ea-fbcb-4f80-ea5b-5eaa7b082c27"
      },
      "cell_type": "code",
      "source": [
        "(X_train, y_train), (X_test, y_test) = imdb.load_data(num_words=unique_words)"
      ],
      "execution_count": 7,
      "outputs": [
        {
          "output_type": "stream",
          "text": [
            "Downloading data from https://s3.amazonaws.com/text-datasets/imdb.npz\n",
            "17465344/17464789 [==============================] - 1s 0us/step\n"
          ],
          "name": "stdout"
        }
      ]
    },
    {
      "metadata": {
        "id": "3zD6hZXyejJY",
        "colab_type": "code",
        "colab": {}
      },
      "cell_type": "code",
      "source": [
        "X_train = pad_sequences(X_train, maxlen=max_review_length, padding=pad_type, truncating=trunc_type, value=0)\n",
        "X_test = pad_sequences(X_test, maxlen=max_review_length, padding=pad_type, truncating=trunc_type, value=0)"
      ],
      "execution_count": 0,
      "outputs": []
    },
    {
      "metadata": {
        "id": "2L7xCHUbfZG-",
        "colab_type": "code",
        "colab": {
          "base_uri": "https://localhost:8080/",
          "height": 139
        },
        "outputId": "a20d450a-f6ab-4b71-edc6-9d45eb2ff66f"
      },
      "cell_type": "code",
      "source": [
        "model = Sequential()\n",
        "model.add(Embedding(unique_words, n_dim, input_length=max_review_length))\n",
        "model.add(SpatialDropout1D(drop_embed))\n",
        "model.add(SimpleRNN(n_rnn, dropout=drop_rnn))\n",
        "model.add(Dense(1, activation='sigmoid'))"
      ],
      "execution_count": 11,
      "outputs": [
        {
          "output_type": "stream",
          "text": [
            "WARNING:tensorflow:From /usr/local/lib/python3.6/dist-packages/tensorflow/python/framework/op_def_library.py:263: colocate_with (from tensorflow.python.framework.ops) is deprecated and will be removed in a future version.\n",
            "Instructions for updating:\n",
            "Colocations handled automatically by placer.\n",
            "WARNING:tensorflow:From /usr/local/lib/python3.6/dist-packages/keras/backend/tensorflow_backend.py:3445: calling dropout (from tensorflow.python.ops.nn_ops) with keep_prob is deprecated and will be removed in a future version.\n",
            "Instructions for updating:\n",
            "Please use `rate` instead of `keep_prob`. Rate should be set to `rate = 1 - keep_prob`.\n"
          ],
          "name": "stdout"
        }
      ]
    },
    {
      "metadata": {
        "id": "BSlK3RkrgG02",
        "colab_type": "code",
        "colab": {
          "base_uri": "https://localhost:8080/",
          "height": 272
        },
        "outputId": "cb9abc38-4d25-4887-8ab6-26c93d672ab7"
      },
      "cell_type": "code",
      "source": [
        "model.summary()"
      ],
      "execution_count": 12,
      "outputs": [
        {
          "output_type": "stream",
          "text": [
            "_________________________________________________________________\n",
            "Layer (type)                 Output Shape              Param #   \n",
            "=================================================================\n",
            "embedding_1 (Embedding)      (None, 100, 64)           640000    \n",
            "_________________________________________________________________\n",
            "spatial_dropout1d_1 (Spatial (None, 100, 64)           0         \n",
            "_________________________________________________________________\n",
            "simple_rnn_1 (SimpleRNN)     (None, 256)               82176     \n",
            "_________________________________________________________________\n",
            "dense_1 (Dense)              (None, 1)                 257       \n",
            "=================================================================\n",
            "Total params: 722,433\n",
            "Trainable params: 722,433\n",
            "Non-trainable params: 0\n",
            "_________________________________________________________________\n"
          ],
          "name": "stdout"
        }
      ]
    },
    {
      "metadata": {
        "id": "CRlsIgyMg7Sz",
        "colab_type": "code",
        "colab": {}
      },
      "cell_type": "code",
      "source": [
        "model.compile(loss='binary_crossentropy', optimizer='adam', metrics=['accuracy'])"
      ],
      "execution_count": 0,
      "outputs": []
    },
    {
      "metadata": {
        "id": "lsZWtuPghK4g",
        "colab_type": "code",
        "colab": {
          "base_uri": "https://localhost:8080/",
          "height": 666
        },
        "outputId": "6d5ea8a1-465c-451a-e020-57e03ac5ba30"
      },
      "cell_type": "code",
      "source": [
        "model.fit(X_train, y_train, batch_size=batch_size, epochs=epochs, verbose=1, validation_data=(X_test, y_test))"
      ],
      "execution_count": 14,
      "outputs": [
        {
          "output_type": "stream",
          "text": [
            "WARNING:tensorflow:From /usr/local/lib/python3.6/dist-packages/tensorflow/python/ops/math_ops.py:3066: to_int32 (from tensorflow.python.ops.math_ops) is deprecated and will be removed in a future version.\n",
            "Instructions for updating:\n",
            "Use tf.cast instead.\n",
            "Train on 25000 samples, validate on 25000 samples\n",
            "Epoch 1/16\n",
            "25000/25000 [==============================] - 28s 1ms/step - loss: 0.6854 - acc: 0.5356 - val_loss: 0.6895 - val_acc: 0.5501\n",
            "Epoch 2/16\n",
            "25000/25000 [==============================] - 25s 999us/step - loss: 0.6008 - acc: 0.6665 - val_loss: 0.6120 - val_acc: 0.6425\n",
            "Epoch 3/16\n",
            "25000/25000 [==============================] - 25s 998us/step - loss: 0.5184 - acc: 0.7418 - val_loss: 0.5092 - val_acc: 0.7581\n",
            "Epoch 4/16\n",
            "25000/25000 [==============================] - 25s 994us/step - loss: 0.4304 - acc: 0.8065 - val_loss: 0.5123 - val_acc: 0.7513\n",
            "Epoch 5/16\n",
            "25000/25000 [==============================] - 25s 997us/step - loss: 0.4919 - acc: 0.7590 - val_loss: 0.6688 - val_acc: 0.5496\n",
            "Epoch 6/16\n",
            "25000/25000 [==============================] - 25s 995us/step - loss: 0.4391 - acc: 0.8005 - val_loss: 0.5619 - val_acc: 0.7078\n",
            "Epoch 7/16\n",
            "25000/25000 [==============================] - 25s 1ms/step - loss: 0.4074 - acc: 0.8205 - val_loss: 0.4882 - val_acc: 0.7849\n",
            "Epoch 8/16\n",
            "25000/25000 [==============================] - 25s 997us/step - loss: 0.3359 - acc: 0.8622 - val_loss: 0.4529 - val_acc: 0.8065\n",
            "Epoch 9/16\n",
            "25000/25000 [==============================] - 25s 995us/step - loss: 0.3275 - acc: 0.8649 - val_loss: 0.4801 - val_acc: 0.7980\n",
            "Epoch 10/16\n",
            "25000/25000 [==============================] - 25s 999us/step - loss: 0.3037 - acc: 0.8777 - val_loss: 0.5295 - val_acc: 0.8033\n",
            "Epoch 11/16\n",
            "25000/25000 [==============================] - 25s 994us/step - loss: 0.2878 - acc: 0.8838 - val_loss: 0.5318 - val_acc: 0.7843\n",
            "Epoch 12/16\n",
            "25000/25000 [==============================] - 25s 993us/step - loss: 0.3189 - acc: 0.8698 - val_loss: 0.5371 - val_acc: 0.7834\n",
            "Epoch 13/16\n",
            "25000/25000 [==============================] - 25s 993us/step - loss: 0.2944 - acc: 0.8803 - val_loss: 0.5392 - val_acc: 0.7771\n",
            "Epoch 14/16\n",
            "25000/25000 [==============================] - 25s 991us/step - loss: 0.2405 - acc: 0.9089 - val_loss: 0.5479 - val_acc: 0.8006\n",
            "Epoch 15/16\n",
            "25000/25000 [==============================] - 25s 991us/step - loss: 0.2412 - acc: 0.9096 - val_loss: 0.5599 - val_acc: 0.7726\n",
            "Epoch 16/16\n",
            "25000/25000 [==============================] - 25s 990us/step - loss: 0.2267 - acc: 0.9145 - val_loss: 0.5977 - val_acc: 0.7915\n"
          ],
          "name": "stdout"
        },
        {
          "output_type": "execute_result",
          "data": {
            "text/plain": [
              "<keras.callbacks.History at 0x7fcbb465bdd8>"
            ]
          },
          "metadata": {
            "tags": []
          },
          "execution_count": 14
        }
      ]
    },
    {
      "metadata": {
        "id": "HmEdsDJKhmQD",
        "colab_type": "code",
        "colab": {}
      },
      "cell_type": "code",
      "source": [
        ""
      ],
      "execution_count": 0,
      "outputs": []
    }
  ]
}