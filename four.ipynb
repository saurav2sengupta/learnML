{
  "nbformat": 4,
  "nbformat_minor": 0,
  "metadata": {
    "colab": {
      "name": "Untitled0.ipynb",
      "version": "0.3.2",
      "provenance": [],
      "collapsed_sections": [],
      "include_colab_link": true
    },
    "kernelspec": {
      "name": "python3",
      "display_name": "Python 3"
    },
    "accelerator": "GPU"
  },
  "cells": [
    {
      "cell_type": "markdown",
      "metadata": {
        "id": "view-in-github",
        "colab_type": "text"
      },
      "source": [
        "<a href=\"https://colab.research.google.com/github/saurav2sengupta/learnML/blob/master/four.ipynb\" target=\"_parent\"><img src=\"https://colab.research.google.com/assets/colab-badge.svg\" alt=\"Open In Colab\"/></a>"
      ]
    },
    {
      "metadata": {
        "id": "d-kGoQXBo4W0",
        "colab_type": "code",
        "colab": {}
      },
      "cell_type": "code",
      "source": [
        "import numpy as np\n",
        "np.random.seed(42)"
      ],
      "execution_count": 0,
      "outputs": []
    },
    {
      "metadata": {
        "id": "8REO6Y3z4DTE",
        "colab_type": "code",
        "colab": {
          "base_uri": "https://localhost:8080/",
          "height": 34
        },
        "outputId": "8ea2ddb2-a822-4adc-c07e-75aacbd7f7cf"
      },
      "cell_type": "code",
      "source": [
        "import keras\n",
        "from keras.models import Sequential\n",
        "from keras.layers import Dense, Dropout, Conv2D, Flatten, MaxPooling2D\n",
        "from keras.layers.normalization import BatchNormalization"
      ],
      "execution_count": 3,
      "outputs": [
        {
          "output_type": "stream",
          "text": [
            "Using TensorFlow backend.\n"
          ],
          "name": "stderr"
        }
      ]
    },
    {
      "metadata": {
        "id": "9RItqwKA4Kqi",
        "colab_type": "code",
        "colab": {
          "base_uri": "https://localhost:8080/",
          "height": 88
        },
        "outputId": "9f630d06-1d5a-4eb8-857c-6667f84bd399"
      },
      "cell_type": "code",
      "source": [
        "import tensorflow\n",
        "import tflearn\n",
        "import tflearn.datasets.oxflower17 as oxflower17"
      ],
      "execution_count": 4,
      "outputs": [
        {
          "output_type": "stream",
          "text": [
            "WARNING:tensorflow:From /usr/local/lib/python3.6/dist-packages/tensorflow/python/framework/op_def_library.py:263: colocate_with (from tensorflow.python.framework.ops) is deprecated and will be removed in a future version.\n",
            "Instructions for updating:\n",
            "Colocations handled automatically by placer.\n"
          ],
          "name": "stdout"
        }
      ]
    },
    {
      "metadata": {
        "id": "hi3TSbuf4RX_",
        "colab_type": "code",
        "colab": {
          "base_uri": "https://localhost:8080/",
          "height": 119
        },
        "outputId": "a66a8966-abf4-4dcf-c776-6482de81f5d0"
      },
      "cell_type": "code",
      "source": [
        "# Use One Hot Encoding and Load the Data set\n",
        "X, Y = oxflower17.load_data(one_hot=True)"
      ],
      "execution_count": 5,
      "outputs": [
        {
          "output_type": "stream",
          "text": [
            "Downloading Oxford 17 category Flower Dataset, Please wait...\n"
          ],
          "name": "stdout"
        },
        {
          "output_type": "stream",
          "text": [
            "100.0% 60276736 / 60270631\n"
          ],
          "name": "stderr"
        },
        {
          "output_type": "stream",
          "text": [
            "('Succesfully downloaded', '17flowers.tgz', 60270631, 'bytes.')\n",
            "File Extracted\n",
            "Starting to parse images...\n",
            "Parsing Done!\n"
          ],
          "name": "stdout"
        }
      ]
    },
    {
      "metadata": {
        "id": "6dO3sJoH4Zc7",
        "colab_type": "code",
        "colab": {
          "base_uri": "https://localhost:8080/",
          "height": 88
        },
        "outputId": "75671762-533e-4803-ed79-d90b75fad923"
      },
      "cell_type": "code",
      "source": [
        "model = Sequential()\n",
        "model.add(Conv2D(96, kernel_size=(11, 11), strides=(4, 4), activation='relu', input_shape=(224, 224, 3)))\n",
        "model.add(MaxPooling2D(pool_size=(3, 3), strides=(2, 2)))\n",
        "model.add(BatchNormalization())\n",
        "\n",
        "model.add(Conv2D(256, kernel_size=(3, 3), activation='relu'))\n",
        "model.add(MaxPooling2D(pool_size=(3, 3), strides=(2, 2)))\n",
        "model.add(BatchNormalization())\n",
        "\n",
        "model.add(Conv2D(256, kernel_size=(3, 3), activation='relu'))\n",
        "model.add(Conv2D(384, kernel_size=(3, 3), activation='relu'))\n",
        "model.add(Conv2D(384, kernel_size=(3, 3), activation='relu'))\n",
        "\n",
        "model.add(MaxPooling2D(pool_size=(3, 3), strides=(2, 2)))\n",
        "model.add(BatchNormalization())\n",
        "\n",
        "model.add(Flatten())\n",
        "\n",
        "model.add(Dense(4096, activation='tanh'))\n",
        "model.add(Dropout(0.5))\n",
        "\n",
        "model.add(Dense(4096, activation='tanh'))\n",
        "model.add(Dropout(0.5))\n",
        "\n",
        "model.add(Dense(17, activation='softmax'))"
      ],
      "execution_count": 6,
      "outputs": [
        {
          "output_type": "stream",
          "text": [
            "WARNING:tensorflow:From /usr/local/lib/python3.6/dist-packages/keras/backend/tensorflow_backend.py:3445: calling dropout (from tensorflow.python.ops.nn_ops) with keep_prob is deprecated and will be removed in a future version.\n",
            "Instructions for updating:\n",
            "Please use `rate` instead of `keep_prob`. Rate should be set to `rate = 1 - keep_prob`.\n"
          ],
          "name": "stdout"
        }
      ]
    },
    {
      "metadata": {
        "id": "U4Yd6i_M4maT",
        "colab_type": "code",
        "colab": {
          "base_uri": "https://localhost:8080/",
          "height": 714
        },
        "outputId": "c577b8d6-401a-4e4c-9ede-ca6bd77854fd"
      },
      "cell_type": "code",
      "source": [
        "model.summary()"
      ],
      "execution_count": 7,
      "outputs": [
        {
          "output_type": "stream",
          "text": [
            "_________________________________________________________________\n",
            "Layer (type)                 Output Shape              Param #   \n",
            "=================================================================\n",
            "conv2d_1 (Conv2D)            (None, 54, 54, 96)        34944     \n",
            "_________________________________________________________________\n",
            "max_pooling2d_1 (MaxPooling2 (None, 26, 26, 96)        0         \n",
            "_________________________________________________________________\n",
            "batch_normalization_1 (Batch (None, 26, 26, 96)        384       \n",
            "_________________________________________________________________\n",
            "conv2d_2 (Conv2D)            (None, 24, 24, 256)       221440    \n",
            "_________________________________________________________________\n",
            "max_pooling2d_2 (MaxPooling2 (None, 11, 11, 256)       0         \n",
            "_________________________________________________________________\n",
            "batch_normalization_2 (Batch (None, 11, 11, 256)       1024      \n",
            "_________________________________________________________________\n",
            "conv2d_3 (Conv2D)            (None, 9, 9, 256)         590080    \n",
            "_________________________________________________________________\n",
            "conv2d_4 (Conv2D)            (None, 7, 7, 384)         885120    \n",
            "_________________________________________________________________\n",
            "conv2d_5 (Conv2D)            (None, 5, 5, 384)         1327488   \n",
            "_________________________________________________________________\n",
            "max_pooling2d_3 (MaxPooling2 (None, 2, 2, 384)         0         \n",
            "_________________________________________________________________\n",
            "batch_normalization_3 (Batch (None, 2, 2, 384)         1536      \n",
            "_________________________________________________________________\n",
            "flatten_1 (Flatten)          (None, 1536)              0         \n",
            "_________________________________________________________________\n",
            "dense_1 (Dense)              (None, 4096)              6295552   \n",
            "_________________________________________________________________\n",
            "dropout_1 (Dropout)          (None, 4096)              0         \n",
            "_________________________________________________________________\n",
            "dense_2 (Dense)              (None, 4096)              16781312  \n",
            "_________________________________________________________________\n",
            "dropout_2 (Dropout)          (None, 4096)              0         \n",
            "_________________________________________________________________\n",
            "dense_3 (Dense)              (None, 17)                69649     \n",
            "=================================================================\n",
            "Total params: 26,208,529\n",
            "Trainable params: 26,207,057\n",
            "Non-trainable params: 1,472\n",
            "_________________________________________________________________\n"
          ],
          "name": "stdout"
        }
      ]
    },
    {
      "metadata": {
        "id": "dyWyzSog4yQD",
        "colab_type": "code",
        "colab": {}
      },
      "cell_type": "code",
      "source": [
        "model.compile(loss = \"categorical_crossentropy\", optimizer='adam', metrics=['accuracy'])"
      ],
      "execution_count": 0,
      "outputs": []
    },
    {
      "metadata": {
        "id": "yhokmlE842T3",
        "colab_type": "code",
        "colab": {
          "base_uri": "https://localhost:8080/",
          "height": 884
        },
        "outputId": "2d9f3c3d-68b6-4d4d-c2c2-1091f9a25a9a"
      },
      "cell_type": "code",
      "source": [
        "model.fit(X, Y, batch_size=64, epochs=25, verbose=1)"
      ],
      "execution_count": 10,
      "outputs": [
        {
          "output_type": "stream",
          "text": [
            "Epoch 1/25\n",
            "1360/1360 [==============================] - 3s 2ms/step - loss: 2.0918 - acc: 0.4478\n",
            "Epoch 2/25\n",
            "1360/1360 [==============================] - 3s 2ms/step - loss: 2.0456 - acc: 0.4529\n",
            "Epoch 3/25\n",
            "1360/1360 [==============================] - 3s 2ms/step - loss: 1.8114 - acc: 0.5176\n",
            "Epoch 4/25\n",
            "1360/1360 [==============================] - 3s 2ms/step - loss: 1.9317 - acc: 0.4985\n",
            "Epoch 5/25\n",
            "1360/1360 [==============================] - 3s 2ms/step - loss: 1.7384 - acc: 0.5316\n",
            "Epoch 6/25\n",
            "1360/1360 [==============================] - 3s 2ms/step - loss: 1.5579 - acc: 0.5537\n",
            "Epoch 7/25\n",
            "1360/1360 [==============================] - 3s 2ms/step - loss: 1.5759 - acc: 0.5610\n",
            "Epoch 8/25\n",
            "1360/1360 [==============================] - 3s 2ms/step - loss: 1.4835 - acc: 0.5794\n",
            "Epoch 9/25\n",
            "1360/1360 [==============================] - 3s 2ms/step - loss: 1.4075 - acc: 0.5963\n",
            "Epoch 10/25\n",
            "1360/1360 [==============================] - 3s 2ms/step - loss: 1.3154 - acc: 0.6265\n",
            "Epoch 11/25\n",
            "1360/1360 [==============================] - 3s 2ms/step - loss: 1.3406 - acc: 0.6515\n",
            "Epoch 12/25\n",
            "1360/1360 [==============================] - 3s 2ms/step - loss: 1.1775 - acc: 0.6691\n",
            "Epoch 13/25\n",
            "1360/1360 [==============================] - 3s 2ms/step - loss: 1.2831 - acc: 0.6360\n",
            "Epoch 14/25\n",
            "1360/1360 [==============================] - 3s 2ms/step - loss: 1.3304 - acc: 0.6500\n",
            "Epoch 15/25\n",
            "1360/1360 [==============================] - 3s 2ms/step - loss: 1.1748 - acc: 0.6794\n",
            "Epoch 16/25\n",
            "1360/1360 [==============================] - 3s 2ms/step - loss: 1.1154 - acc: 0.6743\n",
            "Epoch 17/25\n",
            "1360/1360 [==============================] - 3s 2ms/step - loss: 1.1193 - acc: 0.6971\n",
            "Epoch 18/25\n",
            "1360/1360 [==============================] - 3s 2ms/step - loss: 0.9566 - acc: 0.7250\n",
            "Epoch 19/25\n",
            "1360/1360 [==============================] - 3s 2ms/step - loss: 0.9370 - acc: 0.7404\n",
            "Epoch 20/25\n",
            "1360/1360 [==============================] - 3s 2ms/step - loss: 0.8826 - acc: 0.7301\n",
            "Epoch 21/25\n",
            "1360/1360 [==============================] - 3s 2ms/step - loss: 1.1682 - acc: 0.6875\n",
            "Epoch 22/25\n",
            "1360/1360 [==============================] - 3s 2ms/step - loss: 1.0365 - acc: 0.7103\n",
            "Epoch 23/25\n",
            "1360/1360 [==============================] - 3s 2ms/step - loss: 0.9714 - acc: 0.7404\n",
            "Epoch 24/25\n",
            "1360/1360 [==============================] - 3s 2ms/step - loss: 0.8463 - acc: 0.7544\n",
            "Epoch 25/25\n",
            "1360/1360 [==============================] - 3s 2ms/step - loss: 0.8170 - acc: 0.7699\n"
          ],
          "name": "stdout"
        },
        {
          "output_type": "execute_result",
          "data": {
            "text/plain": [
              "<keras.callbacks.History at 0x7f7873be3630>"
            ]
          },
          "metadata": {
            "tags": []
          },
          "execution_count": 10
        }
      ]
    },
    {
      "metadata": {
        "id": "XZTnfrH146Z2",
        "colab_type": "code",
        "colab": {}
      },
      "cell_type": "code",
      "source": [
        ""
      ],
      "execution_count": 0,
      "outputs": []
    }
  ]
}